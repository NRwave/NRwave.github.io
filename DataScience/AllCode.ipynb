{
 "cells": [
  {
   "cell_type": "code",
   "execution_count": 12,
   "metadata": {},
   "outputs": [
    {
     "data": {
      "application/vnd.plotly.v1+json": {
       "config": {
        "plotlyServerURL": "https://plotly.com"
       },
       "data": [
        {
         "hovertemplate": "State: %{text}---Economy RE Ranking: %{x:,}---Economy Overall: %{y:,}",
         "mode": "lines+markers",
         "name": "Actual Economic Quality",
         "text": [
          "Alaska",
          "Arizona",
          "New Mexico",
          "Oregon",
          "Washington",
          "Hawaii",
          "Idaho",
          "Vermont",
          "Kentucky",
          "Maine",
          "Florida",
          "Texas",
          "Colorado",
          "New Hampshire",
          "Rhode Island",
          "Delaware",
          "Virginia",
          "Maryland",
          "Tennessee",
          "South Dakota",
          "West Virginia",
          "Massachusetts",
          "Georgia",
          "North Carolina",
          "Connecticut",
          "South Carolina",
          "California",
          "Oklahoma",
          "Missouri",
          "Utah",
          "Arkansas",
          "New Jersey",
          "Nevada",
          "Alabama",
          "Kansas",
          "Nebraska",
          "Indiana",
          "Pennsylvania",
          "Ohio",
          "New York",
          "North Dakota",
          "Montana",
          "Minnesota",
          "Michigan",
          "Mississippi",
          "Louisiana",
          "Wyoming",
          "Iowa",
          "Wisconsin",
          "Illinois",
          "Washington D.C"
         ],
         "type": "scatter",
         "x": [
          1,
          2,
          3,
          4,
          5,
          6,
          7,
          8,
          9,
          10,
          11,
          12,
          13,
          14,
          15,
          16,
          17,
          18,
          19,
          20,
          21,
          22,
          23,
          24,
          25,
          26,
          27,
          28,
          29,
          30,
          31,
          32,
          33,
          34,
          35,
          36,
          37,
          38,
          39,
          40,
          41,
          42,
          43,
          44,
          45,
          46,
          47,
          48,
          49,
          50,
          51
         ],
         "y": [
          49,
          10,
          36,
          12,
          1,
          47,
          6,
          30,
          45,
          42,
          12,
          9,
          4,
          23,
          38,
          14,
          16,
          19,
          15,
          43,
          51,
          3,
          11,
          7,
          24,
          33,
          5,
          46,
          34,
          2,
          41,
          17,
          21,
          31,
          29,
          35,
          27,
          28,
          37,
          18,
          44,
          25,
          22,
          20,
          48,
          50,
          40,
          39,
          26,
          32,
          8
         ]
        },
        {
         "mode": "lines",
         "name": "Predicted Economic Quality<br>(Regression:21.138+0.186x)<br>(R^2:0.035)",
         "type": "scatter",
         "x": [
          0,
          1,
          2,
          3,
          4,
          5,
          6,
          7,
          8,
          9,
          10,
          11,
          12,
          13,
          14,
          15,
          16,
          17,
          18,
          19,
          20,
          21,
          22,
          23,
          24,
          25,
          26,
          27,
          28,
          29,
          30,
          31,
          32,
          33,
          34,
          35,
          36,
          37,
          38,
          39,
          40,
          41,
          42,
          43,
          44,
          45,
          46,
          47,
          48,
          49,
          50,
          51
         ],
         "y": [
          21.138039215686273,
          21.324283559577676,
          21.51052790346908,
          21.69677224736048,
          21.883016591251884,
          22.069260935143287,
          22.25550527903469,
          22.441749622926093,
          22.627993966817495,
          22.814238310708898,
          23.0004826546003,
          23.186726998491704,
          23.372971342383106,
          23.55921568627451,
          23.745460030165912,
          23.931704374057315,
          24.117948717948718,
          24.30419306184012,
          24.490437405731523,
          24.676681749622926,
          24.86292609351433,
          25.04917043740573,
          25.235414781297134,
          25.421659125188537,
          25.607903469079936,
          25.79414781297134,
          25.98039215686274,
          26.166636500754144,
          26.352880844645547,
          26.53912518853695,
          26.725369532428353,
          26.911613876319755,
          27.097858220211158,
          27.28410256410256,
          27.470346907993964,
          27.656591251885366,
          27.84283559577677,
          28.029079939668172,
          28.215324283559575,
          28.401568627450978,
          28.58781297134238,
          28.774057315233783,
          28.960301659125186,
          29.14654600301659,
          29.33279034690799,
          29.519034690799394,
          29.705279034690797,
          29.8915233785822,
          30.077767722473602,
          30.264012066365005,
          30.450256410256408,
          30.63650075414781
         ]
        }
       ],
       "layout": {
        "template": {
         "data": {
          "bar": [
           {
            "error_x": {
             "color": "#2a3f5f"
            },
            "error_y": {
             "color": "#2a3f5f"
            },
            "marker": {
             "line": {
              "color": "#E5ECF6",
              "width": 0.5
             },
             "pattern": {
              "fillmode": "overlay",
              "size": 10,
              "solidity": 0.2
             }
            },
            "type": "bar"
           }
          ],
          "barpolar": [
           {
            "marker": {
             "line": {
              "color": "#E5ECF6",
              "width": 0.5
             },
             "pattern": {
              "fillmode": "overlay",
              "size": 10,
              "solidity": 0.2
             }
            },
            "type": "barpolar"
           }
          ],
          "carpet": [
           {
            "aaxis": {
             "endlinecolor": "#2a3f5f",
             "gridcolor": "white",
             "linecolor": "white",
             "minorgridcolor": "white",
             "startlinecolor": "#2a3f5f"
            },
            "baxis": {
             "endlinecolor": "#2a3f5f",
             "gridcolor": "white",
             "linecolor": "white",
             "minorgridcolor": "white",
             "startlinecolor": "#2a3f5f"
            },
            "type": "carpet"
           }
          ],
          "choropleth": [
           {
            "colorbar": {
             "outlinewidth": 0,
             "ticks": ""
            },
            "type": "choropleth"
           }
          ],
          "contour": [
           {
            "colorbar": {
             "outlinewidth": 0,
             "ticks": ""
            },
            "colorscale": [
             [
              0,
              "#0d0887"
             ],
             [
              0.1111111111111111,
              "#46039f"
             ],
             [
              0.2222222222222222,
              "#7201a8"
             ],
             [
              0.3333333333333333,
              "#9c179e"
             ],
             [
              0.4444444444444444,
              "#bd3786"
             ],
             [
              0.5555555555555556,
              "#d8576b"
             ],
             [
              0.6666666666666666,
              "#ed7953"
             ],
             [
              0.7777777777777778,
              "#fb9f3a"
             ],
             [
              0.8888888888888888,
              "#fdca26"
             ],
             [
              1,
              "#f0f921"
             ]
            ],
            "type": "contour"
           }
          ],
          "contourcarpet": [
           {
            "colorbar": {
             "outlinewidth": 0,
             "ticks": ""
            },
            "type": "contourcarpet"
           }
          ],
          "heatmap": [
           {
            "colorbar": {
             "outlinewidth": 0,
             "ticks": ""
            },
            "colorscale": [
             [
              0,
              "#0d0887"
             ],
             [
              0.1111111111111111,
              "#46039f"
             ],
             [
              0.2222222222222222,
              "#7201a8"
             ],
             [
              0.3333333333333333,
              "#9c179e"
             ],
             [
              0.4444444444444444,
              "#bd3786"
             ],
             [
              0.5555555555555556,
              "#d8576b"
             ],
             [
              0.6666666666666666,
              "#ed7953"
             ],
             [
              0.7777777777777778,
              "#fb9f3a"
             ],
             [
              0.8888888888888888,
              "#fdca26"
             ],
             [
              1,
              "#f0f921"
             ]
            ],
            "type": "heatmap"
           }
          ],
          "heatmapgl": [
           {
            "colorbar": {
             "outlinewidth": 0,
             "ticks": ""
            },
            "colorscale": [
             [
              0,
              "#0d0887"
             ],
             [
              0.1111111111111111,
              "#46039f"
             ],
             [
              0.2222222222222222,
              "#7201a8"
             ],
             [
              0.3333333333333333,
              "#9c179e"
             ],
             [
              0.4444444444444444,
              "#bd3786"
             ],
             [
              0.5555555555555556,
              "#d8576b"
             ],
             [
              0.6666666666666666,
              "#ed7953"
             ],
             [
              0.7777777777777778,
              "#fb9f3a"
             ],
             [
              0.8888888888888888,
              "#fdca26"
             ],
             [
              1,
              "#f0f921"
             ]
            ],
            "type": "heatmapgl"
           }
          ],
          "histogram": [
           {
            "marker": {
             "pattern": {
              "fillmode": "overlay",
              "size": 10,
              "solidity": 0.2
             }
            },
            "type": "histogram"
           }
          ],
          "histogram2d": [
           {
            "colorbar": {
             "outlinewidth": 0,
             "ticks": ""
            },
            "colorscale": [
             [
              0,
              "#0d0887"
             ],
             [
              0.1111111111111111,
              "#46039f"
             ],
             [
              0.2222222222222222,
              "#7201a8"
             ],
             [
              0.3333333333333333,
              "#9c179e"
             ],
             [
              0.4444444444444444,
              "#bd3786"
             ],
             [
              0.5555555555555556,
              "#d8576b"
             ],
             [
              0.6666666666666666,
              "#ed7953"
             ],
             [
              0.7777777777777778,
              "#fb9f3a"
             ],
             [
              0.8888888888888888,
              "#fdca26"
             ],
             [
              1,
              "#f0f921"
             ]
            ],
            "type": "histogram2d"
           }
          ],
          "histogram2dcontour": [
           {
            "colorbar": {
             "outlinewidth": 0,
             "ticks": ""
            },
            "colorscale": [
             [
              0,
              "#0d0887"
             ],
             [
              0.1111111111111111,
              "#46039f"
             ],
             [
              0.2222222222222222,
              "#7201a8"
             ],
             [
              0.3333333333333333,
              "#9c179e"
             ],
             [
              0.4444444444444444,
              "#bd3786"
             ],
             [
              0.5555555555555556,
              "#d8576b"
             ],
             [
              0.6666666666666666,
              "#ed7953"
             ],
             [
              0.7777777777777778,
              "#fb9f3a"
             ],
             [
              0.8888888888888888,
              "#fdca26"
             ],
             [
              1,
              "#f0f921"
             ]
            ],
            "type": "histogram2dcontour"
           }
          ],
          "mesh3d": [
           {
            "colorbar": {
             "outlinewidth": 0,
             "ticks": ""
            },
            "type": "mesh3d"
           }
          ],
          "parcoords": [
           {
            "line": {
             "colorbar": {
              "outlinewidth": 0,
              "ticks": ""
             }
            },
            "type": "parcoords"
           }
          ],
          "pie": [
           {
            "automargin": true,
            "type": "pie"
           }
          ],
          "scatter": [
           {
            "fillpattern": {
             "fillmode": "overlay",
             "size": 10,
             "solidity": 0.2
            },
            "type": "scatter"
           }
          ],
          "scatter3d": [
           {
            "line": {
             "colorbar": {
              "outlinewidth": 0,
              "ticks": ""
             }
            },
            "marker": {
             "colorbar": {
              "outlinewidth": 0,
              "ticks": ""
             }
            },
            "type": "scatter3d"
           }
          ],
          "scattercarpet": [
           {
            "marker": {
             "colorbar": {
              "outlinewidth": 0,
              "ticks": ""
             }
            },
            "type": "scattercarpet"
           }
          ],
          "scattergeo": [
           {
            "marker": {
             "colorbar": {
              "outlinewidth": 0,
              "ticks": ""
             }
            },
            "type": "scattergeo"
           }
          ],
          "scattergl": [
           {
            "marker": {
             "colorbar": {
              "outlinewidth": 0,
              "ticks": ""
             }
            },
            "type": "scattergl"
           }
          ],
          "scattermapbox": [
           {
            "marker": {
             "colorbar": {
              "outlinewidth": 0,
              "ticks": ""
             }
            },
            "type": "scattermapbox"
           }
          ],
          "scatterpolar": [
           {
            "marker": {
             "colorbar": {
              "outlinewidth": 0,
              "ticks": ""
             }
            },
            "type": "scatterpolar"
           }
          ],
          "scatterpolargl": [
           {
            "marker": {
             "colorbar": {
              "outlinewidth": 0,
              "ticks": ""
             }
            },
            "type": "scatterpolargl"
           }
          ],
          "scatterternary": [
           {
            "marker": {
             "colorbar": {
              "outlinewidth": 0,
              "ticks": ""
             }
            },
            "type": "scatterternary"
           }
          ],
          "surface": [
           {
            "colorbar": {
             "outlinewidth": 0,
             "ticks": ""
            },
            "colorscale": [
             [
              0,
              "#0d0887"
             ],
             [
              0.1111111111111111,
              "#46039f"
             ],
             [
              0.2222222222222222,
              "#7201a8"
             ],
             [
              0.3333333333333333,
              "#9c179e"
             ],
             [
              0.4444444444444444,
              "#bd3786"
             ],
             [
              0.5555555555555556,
              "#d8576b"
             ],
             [
              0.6666666666666666,
              "#ed7953"
             ],
             [
              0.7777777777777778,
              "#fb9f3a"
             ],
             [
              0.8888888888888888,
              "#fdca26"
             ],
             [
              1,
              "#f0f921"
             ]
            ],
            "type": "surface"
           }
          ],
          "table": [
           {
            "cells": {
             "fill": {
              "color": "#EBF0F8"
             },
             "line": {
              "color": "white"
             }
            },
            "header": {
             "fill": {
              "color": "#C8D4E3"
             },
             "line": {
              "color": "white"
             }
            },
            "type": "table"
           }
          ]
         },
         "layout": {
          "annotationdefaults": {
           "arrowcolor": "#2a3f5f",
           "arrowhead": 0,
           "arrowwidth": 1
          },
          "autotypenumbers": "strict",
          "coloraxis": {
           "colorbar": {
            "outlinewidth": 0,
            "ticks": ""
           }
          },
          "colorscale": {
           "diverging": [
            [
             0,
             "#8e0152"
            ],
            [
             0.1,
             "#c51b7d"
            ],
            [
             0.2,
             "#de77ae"
            ],
            [
             0.3,
             "#f1b6da"
            ],
            [
             0.4,
             "#fde0ef"
            ],
            [
             0.5,
             "#f7f7f7"
            ],
            [
             0.6,
             "#e6f5d0"
            ],
            [
             0.7,
             "#b8e186"
            ],
            [
             0.8,
             "#7fbc41"
            ],
            [
             0.9,
             "#4d9221"
            ],
            [
             1,
             "#276419"
            ]
           ],
           "sequential": [
            [
             0,
             "#0d0887"
            ],
            [
             0.1111111111111111,
             "#46039f"
            ],
            [
             0.2222222222222222,
             "#7201a8"
            ],
            [
             0.3333333333333333,
             "#9c179e"
            ],
            [
             0.4444444444444444,
             "#bd3786"
            ],
            [
             0.5555555555555556,
             "#d8576b"
            ],
            [
             0.6666666666666666,
             "#ed7953"
            ],
            [
             0.7777777777777778,
             "#fb9f3a"
            ],
            [
             0.8888888888888888,
             "#fdca26"
            ],
            [
             1,
             "#f0f921"
            ]
           ],
           "sequentialminus": [
            [
             0,
             "#0d0887"
            ],
            [
             0.1111111111111111,
             "#46039f"
            ],
            [
             0.2222222222222222,
             "#7201a8"
            ],
            [
             0.3333333333333333,
             "#9c179e"
            ],
            [
             0.4444444444444444,
             "#bd3786"
            ],
            [
             0.5555555555555556,
             "#d8576b"
            ],
            [
             0.6666666666666666,
             "#ed7953"
            ],
            [
             0.7777777777777778,
             "#fb9f3a"
            ],
            [
             0.8888888888888888,
             "#fdca26"
            ],
            [
             1,
             "#f0f921"
            ]
           ]
          },
          "colorway": [
           "#636efa",
           "#EF553B",
           "#00cc96",
           "#ab63fa",
           "#FFA15A",
           "#19d3f3",
           "#FF6692",
           "#B6E880",
           "#FF97FF",
           "#FECB52"
          ],
          "font": {
           "color": "#2a3f5f"
          },
          "geo": {
           "bgcolor": "white",
           "lakecolor": "white",
           "landcolor": "#E5ECF6",
           "showlakes": true,
           "showland": true,
           "subunitcolor": "white"
          },
          "hoverlabel": {
           "align": "left"
          },
          "hovermode": "closest",
          "mapbox": {
           "style": "light"
          },
          "paper_bgcolor": "white",
          "plot_bgcolor": "#E5ECF6",
          "polar": {
           "angularaxis": {
            "gridcolor": "white",
            "linecolor": "white",
            "ticks": ""
           },
           "bgcolor": "#E5ECF6",
           "radialaxis": {
            "gridcolor": "white",
            "linecolor": "white",
            "ticks": ""
           }
          },
          "scene": {
           "xaxis": {
            "backgroundcolor": "#E5ECF6",
            "gridcolor": "white",
            "gridwidth": 2,
            "linecolor": "white",
            "showbackground": true,
            "ticks": "",
            "zerolinecolor": "white"
           },
           "yaxis": {
            "backgroundcolor": "#E5ECF6",
            "gridcolor": "white",
            "gridwidth": 2,
            "linecolor": "white",
            "showbackground": true,
            "ticks": "",
            "zerolinecolor": "white"
           },
           "zaxis": {
            "backgroundcolor": "#E5ECF6",
            "gridcolor": "white",
            "gridwidth": 2,
            "linecolor": "white",
            "showbackground": true,
            "ticks": "",
            "zerolinecolor": "white"
           }
          },
          "shapedefaults": {
           "line": {
            "color": "#2a3f5f"
           }
          },
          "ternary": {
           "aaxis": {
            "gridcolor": "white",
            "linecolor": "white",
            "ticks": ""
           },
           "baxis": {
            "gridcolor": "white",
            "linecolor": "white",
            "ticks": ""
           },
           "bgcolor": "#E5ECF6",
           "caxis": {
            "gridcolor": "white",
            "linecolor": "white",
            "ticks": ""
           }
          },
          "title": {
           "x": 0.05
          },
          "xaxis": {
           "automargin": true,
           "gridcolor": "white",
           "linecolor": "white",
           "ticks": "",
           "title": {
            "standoff": 15
           },
           "zerolinecolor": "white",
           "zerolinewidth": 2
          },
          "yaxis": {
           "automargin": true,
           "gridcolor": "white",
           "linecolor": "white",
           "ticks": "",
           "title": {
            "standoff": 15
           },
           "zerolinecolor": "white",
           "zerolinewidth": 2
          }
         }
        },
        "title": {
         "text": "Does State(plus Washington D.C) Racial Equality Ranking \nImprove the State Economy?(2023 Data)"
        },
        "xaxis": {
         "autorange": "reversed",
         "title": {
          "text": "Racial Equality Ranking"
         }
        },
        "yaxis": {
         "autorange": "reversed",
         "title": {
          "text": "Economy Overall"
         }
        }
       }
      }
     },
     "metadata": {},
     "output_type": "display_data"
    },
    {
     "data": {
      "text/plain": [
       "'https://plotly.com/~NRswift/224/'"
      ]
     },
     "execution_count": 12,
     "metadata": {},
     "output_type": "execute_result"
    }
   ],
   "source": [
    "import chart_studio\n",
    "username='NRswift'\n",
    "api_key='G1eDL1Naj4DsaqGtJSYz'\n",
    "chart_studio.tools.set_credentials_file(username=username, api_key=api_key)\n",
    "import pandas as pd\n",
    "import numpy as np\n",
    "import csv\n",
    "import plotly.graph_objects as go\n",
    "import plotly.io as pio\n",
    "import chart_studio.plotly as py\n",
    "import chart_studio.tools as tls\n",
    "econRE = []\n",
    "econOverall = []\n",
    "statesTwo = []\n",
    "with open('economy.csv', 'r') as d:\n",
    "    dataTwo = csv.reader(d, delimiter=',')\n",
    "    for rowsTwo in dataTwo:\n",
    "        statesTwo.append(rowsTwo[0])\n",
    "        econRE.append(int(rowsTwo[1]))\n",
    "        econOverall.append(int(rowsTwo[2]))\n",
    "def linearRegressionConstants(arrOne, arrTwo):\n",
    "    sumOne = sum(arrTwo)\n",
    "    sumTwo = sum(i ** 2 for i in arrOne)\n",
    "    sumThree = sum(arrOne)\n",
    "    sumFour = 0\n",
    "    for i in range(0, 51):\n",
    "        sumFour += arrOne[i] * arrTwo[i] \n",
    "    aConstant = (sumOne * sumTwo - sumThree * sumFour)/((51*sumTwo) - (sumThree ** 2))\n",
    "    bConstant = ((51*sumFour) - (sumThree * sumOne))/((51*sumTwo) - (sumThree ** 2))\n",
    "    return aConstant, bConstant \n",
    "\n",
    "\n",
    "fig = go.Figure()\n",
    "#data = zip(econRE, econOverall)\n",
    "fig.add_trace(go.Scatter(x=econRE, y=econOverall, text = statesTwo, mode='lines+markers', name = \"Actual Economic Quality\",\n",
    "                         hovertemplate = \"State: %{text}---Economy RE Ranking: %{x:,}---Economy Overall: %{y:,}\", ))\n",
    "aOne = []\n",
    "for i in range(0, 52):\n",
    "    aOne.append(i)\n",
    "aTwo = []\n",
    "a = linearRegressionConstants(econRE, econOverall)\n",
    "for i in range(0, 52):\n",
    "    aTwo.append(a[0] + a[1] * i)\n",
    "def findRSquared(arrOne, arrTwo):\n",
    "    sumOne = 0\n",
    "    sumTwo = 0\n",
    "    avgOne = sum(arrTwo)/51\n",
    "    \n",
    "    for i in range(51):\n",
    "       sumOne += ((arrTwo[i] - avgOne)**2)\n",
    "       sumTwo += ((arrTwo[i] - (a[0] + a[1] * arrOne[i]))**2)\n",
    "    return 1 - sumTwo/sumOne\n",
    "fig.add_trace(go.Scatter(x=aOne, y=aTwo, mode='lines', name = \"Predicted Economic Quality<br>(Regression:\"\n",
    "                         + str(round(a[0], 3)) + \"+\" + str(round(a[1], 3)) + \"x\" + \")<br>(R^2:\" + \n",
    "                         str(round(findRSquared(econRE, econOverall), 3)) + \")\"))\n",
    "fig.update_xaxes(autorange=\"reversed\")\n",
    "fig.update_yaxes(autorange=\"reversed\")\n",
    "fig.update_layout(\n",
    "    xaxis={'title':'Racial Equality Ranking'},\n",
    "    yaxis={'title':'Economy Overall'}, \n",
    "    title = dict(text = \"Does State(plus Washington D.C) Racial Equality Ranking \\nImprove the State Economy?(2023 Data)\"))\n",
    "fig.show()\n",
    "py.plot(fig, filename=\"economic_scatter.html\", auto_open = True)\n"
   ]
  },
  {
   "cell_type": "code",
   "execution_count": 14,
   "metadata": {},
   "outputs": [
    {
     "name": "stdout",
     "output_type": "stream",
     "text": [
      "[1, 2, 3, 4, 5, 6, 7, 8, 9, 10, 11, 12, 13, 14, 15, 16, 17, 18, 19, 20, 21, 22, 23, 24, 25, 26, 27, 28, 29, 30, 31, 32, 33, 34, 35, 36, 37, 38, 39, 40, 41, 42, 43, 44, 45, 46, 47, 48, 49, 50]\n",
      "[51, 18, 48, 41, 21, 35, 17, 28, 49, 50, 15, 14, 22, 33, 37, 31, 6, 45, 43, 11, 47, 44, 10, 25, 19, 38, 26, 9, 32, 29, 12, 16, 46, 39, 8, 34, 5, 30, 40, 36, 1, 3, 42, 20, 24, 7, 9, 2, 23, 4]\n"
     ]
    },
    {
     "data": {
      "application/vnd.plotly.v1+json": {
       "config": {
        "plotlyServerURL": "https://plotly.com"
       },
       "data": [
        {
         "hovertemplate": "State: %{text}---Education RE Ranking: %{x:,}---Education Overall: %{y:,}",
         "mode": "lines+markers",
         "name": "Actual Educational Quality",
         "text": [
          "New Mexico",
          "Wyoming",
          "West Virginia",
          "Oregon",
          "Vermont",
          "Hawaii",
          "Kentucky",
          "Texas",
          "Arizona",
          "Oklahoma",
          "Maine",
          "Delaware",
          "Montana",
          "Arkansas",
          "Georgia",
          "Tennessee",
          "New Hampshire",
          "Alabama",
          "Mississippi",
          "Indiana",
          "Alaska",
          "Nevada",
          "North Dakota",
          "Washington",
          "South Dakota",
          "Idaho",
          "Rhode Island",
          "Florida",
          "North Carolina",
          "California",
          "Utah",
          "Iowa",
          "Louisiana",
          "Kansas",
          "Maryland",
          "Missouri",
          "Virginia",
          "Colorado",
          "Michigan",
          "Ohio",
          "Massachusetts",
          "New Jersey",
          "South Carolina",
          "Illinois",
          "Pennsylvania",
          "Nebraska",
          "New York",
          "Connecticut",
          "Minnesota",
          "Wisconsin"
         ],
         "type": "scatter",
         "x": [
          1,
          2,
          3,
          4,
          5,
          6,
          7,
          8,
          9,
          10,
          11,
          12,
          13,
          14,
          15,
          16,
          17,
          18,
          19,
          20,
          21,
          22,
          23,
          24,
          25,
          26,
          27,
          28,
          29,
          30,
          31,
          32,
          33,
          34,
          35,
          36,
          37,
          38,
          39,
          40,
          41,
          42,
          43,
          44,
          45,
          46,
          47,
          48,
          49,
          50
         ],
         "y": [
          51,
          18,
          48,
          41,
          21,
          35,
          17,
          28,
          49,
          50,
          15,
          14,
          22,
          33,
          37,
          31,
          6,
          45,
          43,
          11,
          47,
          44,
          10,
          25,
          19,
          38,
          26,
          9,
          32,
          29,
          12,
          16,
          46,
          39,
          8,
          34,
          5,
          30,
          40,
          36,
          1,
          3,
          42,
          20,
          24,
          7,
          9,
          2,
          23,
          4
         ]
        },
        {
         "mode": "lines",
         "name": "Predicted Educational Quality<br>(Regression:36.405+-0.412x)<br>(R^2:0.158)",
         "type": "scatter",
         "x": [
          0,
          1,
          2,
          3,
          4,
          5,
          6,
          7,
          8,
          9,
          10,
          11,
          12,
          13,
          14,
          15,
          16,
          17,
          18,
          19,
          20,
          21,
          22,
          23,
          24,
          25,
          26,
          27,
          28,
          29,
          30,
          31,
          32,
          33,
          34,
          35,
          36,
          37,
          38,
          39,
          40,
          41,
          42,
          43,
          44,
          45,
          46,
          47,
          48,
          49,
          50
         ],
         "y": [
          36.40489795918367,
          35.99294117647059,
          35.580984393757504,
          35.16902761104441,
          34.75707082833133,
          34.345114045618246,
          33.93315726290516,
          33.52120048019208,
          33.10924369747899,
          32.697286914765904,
          32.28533013205282,
          31.873373349339733,
          31.46141656662665,
          31.049459783913562,
          30.63750300120048,
          30.225546218487395,
          29.813589435774308,
          29.40163265306122,
          28.989675870348137,
          28.577719087635053,
          28.165762304921966,
          27.753805522208882,
          27.341848739495795,
          26.92989195678271,
          26.517935174069628,
          26.10597839135654,
          25.694021608643453,
          25.28206482593037,
          24.870108043217286,
          24.458151260504202,
          24.046194477791115,
          23.634237695078028,
          23.222280912364944,
          22.81032412965186,
          22.398367346938773,
          21.986410564225686,
          21.574453781512602,
          21.16249699879952,
          20.750540216086435,
          20.338583433373348,
          19.92662665066026,
          19.514669867947177,
          19.102713085234093,
          18.690756302521006,
          18.278799519807922,
          17.866842737094835,
          17.45488595438175,
          17.042929171668664,
          16.63097238895558,
          16.219015606242497,
          15.80705882352941
         ]
        }
       ],
       "layout": {
        "template": {
         "data": {
          "bar": [
           {
            "error_x": {
             "color": "#2a3f5f"
            },
            "error_y": {
             "color": "#2a3f5f"
            },
            "marker": {
             "line": {
              "color": "#E5ECF6",
              "width": 0.5
             },
             "pattern": {
              "fillmode": "overlay",
              "size": 10,
              "solidity": 0.2
             }
            },
            "type": "bar"
           }
          ],
          "barpolar": [
           {
            "marker": {
             "line": {
              "color": "#E5ECF6",
              "width": 0.5
             },
             "pattern": {
              "fillmode": "overlay",
              "size": 10,
              "solidity": 0.2
             }
            },
            "type": "barpolar"
           }
          ],
          "carpet": [
           {
            "aaxis": {
             "endlinecolor": "#2a3f5f",
             "gridcolor": "white",
             "linecolor": "white",
             "minorgridcolor": "white",
             "startlinecolor": "#2a3f5f"
            },
            "baxis": {
             "endlinecolor": "#2a3f5f",
             "gridcolor": "white",
             "linecolor": "white",
             "minorgridcolor": "white",
             "startlinecolor": "#2a3f5f"
            },
            "type": "carpet"
           }
          ],
          "choropleth": [
           {
            "colorbar": {
             "outlinewidth": 0,
             "ticks": ""
            },
            "type": "choropleth"
           }
          ],
          "contour": [
           {
            "colorbar": {
             "outlinewidth": 0,
             "ticks": ""
            },
            "colorscale": [
             [
              0,
              "#0d0887"
             ],
             [
              0.1111111111111111,
              "#46039f"
             ],
             [
              0.2222222222222222,
              "#7201a8"
             ],
             [
              0.3333333333333333,
              "#9c179e"
             ],
             [
              0.4444444444444444,
              "#bd3786"
             ],
             [
              0.5555555555555556,
              "#d8576b"
             ],
             [
              0.6666666666666666,
              "#ed7953"
             ],
             [
              0.7777777777777778,
              "#fb9f3a"
             ],
             [
              0.8888888888888888,
              "#fdca26"
             ],
             [
              1,
              "#f0f921"
             ]
            ],
            "type": "contour"
           }
          ],
          "contourcarpet": [
           {
            "colorbar": {
             "outlinewidth": 0,
             "ticks": ""
            },
            "type": "contourcarpet"
           }
          ],
          "heatmap": [
           {
            "colorbar": {
             "outlinewidth": 0,
             "ticks": ""
            },
            "colorscale": [
             [
              0,
              "#0d0887"
             ],
             [
              0.1111111111111111,
              "#46039f"
             ],
             [
              0.2222222222222222,
              "#7201a8"
             ],
             [
              0.3333333333333333,
              "#9c179e"
             ],
             [
              0.4444444444444444,
              "#bd3786"
             ],
             [
              0.5555555555555556,
              "#d8576b"
             ],
             [
              0.6666666666666666,
              "#ed7953"
             ],
             [
              0.7777777777777778,
              "#fb9f3a"
             ],
             [
              0.8888888888888888,
              "#fdca26"
             ],
             [
              1,
              "#f0f921"
             ]
            ],
            "type": "heatmap"
           }
          ],
          "heatmapgl": [
           {
            "colorbar": {
             "outlinewidth": 0,
             "ticks": ""
            },
            "colorscale": [
             [
              0,
              "#0d0887"
             ],
             [
              0.1111111111111111,
              "#46039f"
             ],
             [
              0.2222222222222222,
              "#7201a8"
             ],
             [
              0.3333333333333333,
              "#9c179e"
             ],
             [
              0.4444444444444444,
              "#bd3786"
             ],
             [
              0.5555555555555556,
              "#d8576b"
             ],
             [
              0.6666666666666666,
              "#ed7953"
             ],
             [
              0.7777777777777778,
              "#fb9f3a"
             ],
             [
              0.8888888888888888,
              "#fdca26"
             ],
             [
              1,
              "#f0f921"
             ]
            ],
            "type": "heatmapgl"
           }
          ],
          "histogram": [
           {
            "marker": {
             "pattern": {
              "fillmode": "overlay",
              "size": 10,
              "solidity": 0.2
             }
            },
            "type": "histogram"
           }
          ],
          "histogram2d": [
           {
            "colorbar": {
             "outlinewidth": 0,
             "ticks": ""
            },
            "colorscale": [
             [
              0,
              "#0d0887"
             ],
             [
              0.1111111111111111,
              "#46039f"
             ],
             [
              0.2222222222222222,
              "#7201a8"
             ],
             [
              0.3333333333333333,
              "#9c179e"
             ],
             [
              0.4444444444444444,
              "#bd3786"
             ],
             [
              0.5555555555555556,
              "#d8576b"
             ],
             [
              0.6666666666666666,
              "#ed7953"
             ],
             [
              0.7777777777777778,
              "#fb9f3a"
             ],
             [
              0.8888888888888888,
              "#fdca26"
             ],
             [
              1,
              "#f0f921"
             ]
            ],
            "type": "histogram2d"
           }
          ],
          "histogram2dcontour": [
           {
            "colorbar": {
             "outlinewidth": 0,
             "ticks": ""
            },
            "colorscale": [
             [
              0,
              "#0d0887"
             ],
             [
              0.1111111111111111,
              "#46039f"
             ],
             [
              0.2222222222222222,
              "#7201a8"
             ],
             [
              0.3333333333333333,
              "#9c179e"
             ],
             [
              0.4444444444444444,
              "#bd3786"
             ],
             [
              0.5555555555555556,
              "#d8576b"
             ],
             [
              0.6666666666666666,
              "#ed7953"
             ],
             [
              0.7777777777777778,
              "#fb9f3a"
             ],
             [
              0.8888888888888888,
              "#fdca26"
             ],
             [
              1,
              "#f0f921"
             ]
            ],
            "type": "histogram2dcontour"
           }
          ],
          "mesh3d": [
           {
            "colorbar": {
             "outlinewidth": 0,
             "ticks": ""
            },
            "type": "mesh3d"
           }
          ],
          "parcoords": [
           {
            "line": {
             "colorbar": {
              "outlinewidth": 0,
              "ticks": ""
             }
            },
            "type": "parcoords"
           }
          ],
          "pie": [
           {
            "automargin": true,
            "type": "pie"
           }
          ],
          "scatter": [
           {
            "fillpattern": {
             "fillmode": "overlay",
             "size": 10,
             "solidity": 0.2
            },
            "type": "scatter"
           }
          ],
          "scatter3d": [
           {
            "line": {
             "colorbar": {
              "outlinewidth": 0,
              "ticks": ""
             }
            },
            "marker": {
             "colorbar": {
              "outlinewidth": 0,
              "ticks": ""
             }
            },
            "type": "scatter3d"
           }
          ],
          "scattercarpet": [
           {
            "marker": {
             "colorbar": {
              "outlinewidth": 0,
              "ticks": ""
             }
            },
            "type": "scattercarpet"
           }
          ],
          "scattergeo": [
           {
            "marker": {
             "colorbar": {
              "outlinewidth": 0,
              "ticks": ""
             }
            },
            "type": "scattergeo"
           }
          ],
          "scattergl": [
           {
            "marker": {
             "colorbar": {
              "outlinewidth": 0,
              "ticks": ""
             }
            },
            "type": "scattergl"
           }
          ],
          "scattermapbox": [
           {
            "marker": {
             "colorbar": {
              "outlinewidth": 0,
              "ticks": ""
             }
            },
            "type": "scattermapbox"
           }
          ],
          "scatterpolar": [
           {
            "marker": {
             "colorbar": {
              "outlinewidth": 0,
              "ticks": ""
             }
            },
            "type": "scatterpolar"
           }
          ],
          "scatterpolargl": [
           {
            "marker": {
             "colorbar": {
              "outlinewidth": 0,
              "ticks": ""
             }
            },
            "type": "scatterpolargl"
           }
          ],
          "scatterternary": [
           {
            "marker": {
             "colorbar": {
              "outlinewidth": 0,
              "ticks": ""
             }
            },
            "type": "scatterternary"
           }
          ],
          "surface": [
           {
            "colorbar": {
             "outlinewidth": 0,
             "ticks": ""
            },
            "colorscale": [
             [
              0,
              "#0d0887"
             ],
             [
              0.1111111111111111,
              "#46039f"
             ],
             [
              0.2222222222222222,
              "#7201a8"
             ],
             [
              0.3333333333333333,
              "#9c179e"
             ],
             [
              0.4444444444444444,
              "#bd3786"
             ],
             [
              0.5555555555555556,
              "#d8576b"
             ],
             [
              0.6666666666666666,
              "#ed7953"
             ],
             [
              0.7777777777777778,
              "#fb9f3a"
             ],
             [
              0.8888888888888888,
              "#fdca26"
             ],
             [
              1,
              "#f0f921"
             ]
            ],
            "type": "surface"
           }
          ],
          "table": [
           {
            "cells": {
             "fill": {
              "color": "#EBF0F8"
             },
             "line": {
              "color": "white"
             }
            },
            "header": {
             "fill": {
              "color": "#C8D4E3"
             },
             "line": {
              "color": "white"
             }
            },
            "type": "table"
           }
          ]
         },
         "layout": {
          "annotationdefaults": {
           "arrowcolor": "#2a3f5f",
           "arrowhead": 0,
           "arrowwidth": 1
          },
          "autotypenumbers": "strict",
          "coloraxis": {
           "colorbar": {
            "outlinewidth": 0,
            "ticks": ""
           }
          },
          "colorscale": {
           "diverging": [
            [
             0,
             "#8e0152"
            ],
            [
             0.1,
             "#c51b7d"
            ],
            [
             0.2,
             "#de77ae"
            ],
            [
             0.3,
             "#f1b6da"
            ],
            [
             0.4,
             "#fde0ef"
            ],
            [
             0.5,
             "#f7f7f7"
            ],
            [
             0.6,
             "#e6f5d0"
            ],
            [
             0.7,
             "#b8e186"
            ],
            [
             0.8,
             "#7fbc41"
            ],
            [
             0.9,
             "#4d9221"
            ],
            [
             1,
             "#276419"
            ]
           ],
           "sequential": [
            [
             0,
             "#0d0887"
            ],
            [
             0.1111111111111111,
             "#46039f"
            ],
            [
             0.2222222222222222,
             "#7201a8"
            ],
            [
             0.3333333333333333,
             "#9c179e"
            ],
            [
             0.4444444444444444,
             "#bd3786"
            ],
            [
             0.5555555555555556,
             "#d8576b"
            ],
            [
             0.6666666666666666,
             "#ed7953"
            ],
            [
             0.7777777777777778,
             "#fb9f3a"
            ],
            [
             0.8888888888888888,
             "#fdca26"
            ],
            [
             1,
             "#f0f921"
            ]
           ],
           "sequentialminus": [
            [
             0,
             "#0d0887"
            ],
            [
             0.1111111111111111,
             "#46039f"
            ],
            [
             0.2222222222222222,
             "#7201a8"
            ],
            [
             0.3333333333333333,
             "#9c179e"
            ],
            [
             0.4444444444444444,
             "#bd3786"
            ],
            [
             0.5555555555555556,
             "#d8576b"
            ],
            [
             0.6666666666666666,
             "#ed7953"
            ],
            [
             0.7777777777777778,
             "#fb9f3a"
            ],
            [
             0.8888888888888888,
             "#fdca26"
            ],
            [
             1,
             "#f0f921"
            ]
           ]
          },
          "colorway": [
           "#636efa",
           "#EF553B",
           "#00cc96",
           "#ab63fa",
           "#FFA15A",
           "#19d3f3",
           "#FF6692",
           "#B6E880",
           "#FF97FF",
           "#FECB52"
          ],
          "font": {
           "color": "#2a3f5f"
          },
          "geo": {
           "bgcolor": "white",
           "lakecolor": "white",
           "landcolor": "#E5ECF6",
           "showlakes": true,
           "showland": true,
           "subunitcolor": "white"
          },
          "hoverlabel": {
           "align": "left"
          },
          "hovermode": "closest",
          "mapbox": {
           "style": "light"
          },
          "paper_bgcolor": "white",
          "plot_bgcolor": "#E5ECF6",
          "polar": {
           "angularaxis": {
            "gridcolor": "white",
            "linecolor": "white",
            "ticks": ""
           },
           "bgcolor": "#E5ECF6",
           "radialaxis": {
            "gridcolor": "white",
            "linecolor": "white",
            "ticks": ""
           }
          },
          "scene": {
           "xaxis": {
            "backgroundcolor": "#E5ECF6",
            "gridcolor": "white",
            "gridwidth": 2,
            "linecolor": "white",
            "showbackground": true,
            "ticks": "",
            "zerolinecolor": "white"
           },
           "yaxis": {
            "backgroundcolor": "#E5ECF6",
            "gridcolor": "white",
            "gridwidth": 2,
            "linecolor": "white",
            "showbackground": true,
            "ticks": "",
            "zerolinecolor": "white"
           },
           "zaxis": {
            "backgroundcolor": "#E5ECF6",
            "gridcolor": "white",
            "gridwidth": 2,
            "linecolor": "white",
            "showbackground": true,
            "ticks": "",
            "zerolinecolor": "white"
           }
          },
          "shapedefaults": {
           "line": {
            "color": "#2a3f5f"
           }
          },
          "ternary": {
           "aaxis": {
            "gridcolor": "white",
            "linecolor": "white",
            "ticks": ""
           },
           "baxis": {
            "gridcolor": "white",
            "linecolor": "white",
            "ticks": ""
           },
           "bgcolor": "#E5ECF6",
           "caxis": {
            "gridcolor": "white",
            "linecolor": "white",
            "ticks": ""
           }
          },
          "title": {
           "x": 0.05
          },
          "xaxis": {
           "automargin": true,
           "gridcolor": "white",
           "linecolor": "white",
           "ticks": "",
           "title": {
            "standoff": 15
           },
           "zerolinecolor": "white",
           "zerolinewidth": 2
          },
          "yaxis": {
           "automargin": true,
           "gridcolor": "white",
           "linecolor": "white",
           "ticks": "",
           "title": {
            "standoff": 15
           },
           "zerolinecolor": "white",
           "zerolinewidth": 2
          }
         }
        },
        "title": {
         "text": "Does State Racial Equality Ranking Improve State Education?(2023 Data)"
        },
        "xaxis": {
         "autorange": "reversed",
         "title": {
          "text": "Racial Equality Ranking"
         }
        },
        "yaxis": {
         "autorange": "reversed",
         "title": {
          "text": "Education Overall"
         }
        }
       }
      }
     },
     "metadata": {},
     "output_type": "display_data"
    },
    {
     "data": {
      "text/plain": [
       "'https://plotly.com/~NRswift/226/'"
      ]
     },
     "execution_count": 14,
     "metadata": {},
     "output_type": "execute_result"
    }
   ],
   "source": [
    "import chart_studio\n",
    "username='NRswift'\n",
    "api_key='G1eDL1Naj4DsaqGtJSYz'\n",
    "chart_studio.tools.set_credentials_file(username=username, api_key=api_key)\n",
    "import pandas as pd\n",
    "import numpy as np\n",
    "import csv\n",
    "import plotly.graph_objects as go\n",
    "import plotly.io as pio\n",
    "import chart_studio.plotly as py\n",
    "import chart_studio.tools as tls\n",
    "import math\n",
    "eduRE = []\n",
    "eduOverall = []\n",
    "statesTwo = []\n",
    "\n",
    "\n",
    "with open('education.csv', 'r') as d:\n",
    "    dataTwo = csv.reader(d, delimiter=',')\n",
    "    for rowsTwo in dataTwo:\n",
    "        statesTwo.append(rowsTwo[0])\n",
    "        eduRE.append(int(rowsTwo[1]))\n",
    "        eduOverall.append(int(rowsTwo[2]))\n",
    "    \n",
    "def linearRegressionConstants(arrOne, arrTwo):\n",
    "    sumOne = sum(arrTwo)\n",
    "    sumTwo = sum(i ** 2 for i in arrOne)\n",
    "    sumThree = sum(arrOne)\n",
    "    sumFour = 0\n",
    "    for i in range(0, 50):\n",
    "        sumFour += arrOne[i] * arrTwo[i] \n",
    "    aConstant = (sumOne * sumTwo - sumThree * sumFour)/((50*sumTwo) - (sumThree ** 2))\n",
    "    bConstant = ((50*sumFour) - (sumThree * sumOne))/((50*sumTwo) - (sumThree ** 2))\n",
    "    return aConstant, bConstant \n",
    "print(eduRE)\n",
    "print(eduOverall)\n",
    "\n",
    "fig = go.Figure()\n",
    "#data = zip(econRE, econOverall)\n",
    "fig.add_trace(go.Scatter(x=eduRE, y=eduOverall, text = statesTwo, mode='lines+markers', name = \"Actual Educational Quality\",\n",
    "                         hovertemplate = \"State: %{text}---Education RE Ranking: %{x:,}---Education Overall: %{y:,}\", ))\n",
    "aOne = []\n",
    "for i in range(0, 51):\n",
    "    aOne.append(i)\n",
    "aTwo = []\n",
    "a = linearRegressionConstants(eduRE, eduOverall)\n",
    "for i in range(0, 51):\n",
    "    aTwo.append(a[0] + a[1] * i)\n",
    "def findRSquared(arrOne, arrTwo):\n",
    "    sumOne = 0\n",
    "    sumTwo = 0\n",
    "    avgOne = sum(arrTwo)/50\n",
    "    \n",
    "    for i in range(50):\n",
    "       sumOne += ((arrTwo[i] - avgOne)**2)\n",
    "       sumTwo += ((arrTwo[i] - (a[0] + a[1] * arrOne[i]))**2)\n",
    "    return 1 - sumTwo/sumOne\n",
    "fig.add_trace(go.Scatter(x=aOne, y=aTwo, mode='lines', name = \"Predicted Educational Quality<br>(Regression:\"\n",
    "                         + str(round(a[0], 3)) + \"+\" + str(round(a[1], 3)) + \"x\" + \")<br>(R^2:\" + \n",
    "                         str(round(findRSquared(eduRE, eduOverall), 3)) + \")\"))\n",
    "fig.update_xaxes(autorange=\"reversed\")\n",
    "fig.update_yaxes(autorange=\"reversed\")\n",
    "fig.update_layout(\n",
    "    xaxis={'title':'Racial Equality Ranking'},\n",
    "    yaxis={'title':'Education Overall'}, \n",
    "    title = dict(text = \"Does State Racial Equality Ranking Improve State Education?(2023 Data)\"))\n",
    "fig.show()\n",
    "#py.plot(fig, filename=\"education_scatter\", auto_open = True)\n",
    "py.plot(fig, filename=\"educationl_scatter.html\", auto_open = True)\n",
    "#Washington D.C"
   ]
  },
  {
   "cell_type": "code",
   "execution_count": 18,
   "metadata": {},
   "outputs": [
    {
     "name": "stdout",
     "output_type": "stream",
     "text": [
      "13.074837405795673\n"
     ]
    },
    {
     "data": {
      "application/vnd.plotly.v1+json": {
       "config": {
        "plotlyServerURL": "https://plotly.com"
       },
       "data": [
        {
         "hovertemplate": "State: %{text}---Population: %{x:,} million---Diversity Index: %{y:,}%",
         "mode": "markers",
         "name": "Actual Diversity Index",
         "text": [
          "Alabama",
          "Alaska",
          "Arizona",
          "Arkansas",
          "California",
          "Colorado",
          "Connecticut",
          "Delaware",
          "Florida",
          "Georgia",
          "Hawaii",
          "Idaho",
          "Illinois",
          "Indiana",
          "Iowa",
          "Kansas",
          "Kentucky",
          "Louisiana",
          "Maine",
          "Maryland",
          "Massachusetts",
          "Michigan",
          "Minnesota",
          "Mississippi",
          "Missouri",
          "Montana",
          "Nebraska",
          "Nevada",
          "New Hampshire",
          "New Jersey",
          "New Mexico",
          "New York",
          "North Carolina",
          "North Dakota",
          "Ohio",
          "Oklahoma",
          "Oregon",
          "Pennsylvania",
          "Rhode Island",
          "South Carolina",
          "South Dakota",
          "Tennessee",
          "Texas",
          "Utah",
          "Vermont",
          "Virginia",
          "Washington",
          "West Virginia",
          "Wisconsin",
          "Wyoming",
          "Washington DC"
         ],
         "textfont": {
          "color": "blue"
         },
         "type": "scatter",
         "x": [
          5.099,
          0.733,
          7.454,
          3.063,
          38.916,
          5.869,
          3.629,
          1.032,
          22.662,
          11.038,
          1.433,
          1.974,
          12.478,
          6.853,
          3.203,
          2.936,
          4.518,
          4.553,
          1.393,
          6.155,
          6.974,
          10.03,
          5.723,
          2.931,
          6.186,
          1.14,
          1.972,
          3.209,
          1.402,
          9.225,
          2.11,
          19.497,
          10.832,
          0.781,
          11.748,
          4.048,
          4.224,
          12.932,
          1.09,
          5.372,
          0.923,
          7.134,
          30.5,
          3.422,
          0.647,
          8.71,
          7.831,
          1.765,
          5.905,
          0.583,
          0.632
         ],
         "y": [
          53.1,
          62.8,
          61.5,
          49.8,
          69.7,
          52.3,
          55.7,
          59.6,
          64.1,
          64.1,
          76,
          35.9,
          60.3,
          41.3,
          30.8,
          45.4,
          32.8,
          58.6,
          18.5,
          67.3,
          51.6,
          45.2,
          40.5,
          55.9,
          40.8,
          30.1,
          40.8,
          68.6,
          23.6,
          65.8,
          63,
          65.8,
          60.5,
          32.6,
          40.4,
          59.5,
          46.1,
          44,
          49.4,
          57.9,
          35.6,
          46.6,
          67,
          40.7,
          20.2,
          60.5,
          55.9,
          20.2,
          37,
          32.4,
          67.2
         ]
        },
        {
         "mode": "lines",
         "name": "Predicted Diversity Index<br>(Regression:6.093ln(x))<br>(Average Error=13.075)",
         "textfont": {
          "color": "red"
         },
         "type": "scatter",
         "x": [
          0.001,
          0.101,
          0.201,
          0.301,
          0.401,
          0.501,
          0.601,
          0.7010000000000001,
          0.801,
          0.901,
          1.0010000000000001,
          1.101,
          1.201,
          1.301,
          1.401,
          1.5010000000000001,
          1.601,
          1.701,
          1.801,
          1.901,
          2.001,
          2.101,
          2.201,
          2.301,
          2.4010000000000002,
          2.501,
          2.601,
          2.701,
          2.801,
          2.9010000000000002,
          3.001,
          3.101,
          3.201,
          3.301,
          3.4010000000000002,
          3.501,
          3.601,
          3.701,
          3.801,
          3.9010000000000002,
          4.001,
          4.101,
          4.2010000000000005,
          4.301,
          4.401,
          4.501,
          4.601,
          4.7010000000000005,
          4.801,
          4.901,
          5.001,
          5.101,
          5.2010000000000005,
          5.301,
          5.401,
          5.501,
          5.601,
          5.7010000000000005,
          5.801,
          5.901,
          6.001,
          6.101,
          6.2010000000000005,
          6.301,
          6.401,
          6.501,
          6.601,
          6.7010000000000005,
          6.801,
          6.901,
          7.001,
          7.101,
          7.2010000000000005,
          7.301,
          7.401,
          7.501,
          7.601,
          7.7010000000000005,
          7.801,
          7.901,
          8.001,
          8.101,
          8.201,
          8.301,
          8.401,
          8.501,
          8.601,
          8.701,
          8.801,
          8.901,
          9.001,
          9.101,
          9.201,
          9.301,
          9.401,
          9.501,
          9.601,
          9.701,
          9.801,
          9.901,
          10.001,
          10.101,
          10.201,
          10.301,
          10.401,
          10.501,
          10.601,
          10.701,
          10.801,
          10.901,
          11.001,
          11.101,
          11.201,
          11.301,
          11.401,
          11.501,
          11.601,
          11.701,
          11.801,
          11.901,
          12.001,
          12.101,
          12.201,
          12.301,
          12.401,
          12.501,
          12.601,
          12.701,
          12.801,
          12.901,
          13.001,
          13.101,
          13.201,
          13.301,
          13.401,
          13.501,
          13.601,
          13.701,
          13.801,
          13.901,
          14.001,
          14.101,
          14.201,
          14.301,
          14.401,
          14.501,
          14.601,
          14.701,
          14.801,
          14.901,
          15.001,
          15.101,
          15.201,
          15.301,
          15.401,
          15.501,
          15.601,
          15.701,
          15.801,
          15.901,
          16.001,
          16.101,
          16.201,
          16.301000000000002,
          16.401,
          16.501,
          16.601,
          16.701,
          16.801000000000002,
          16.901,
          17.001,
          17.101,
          17.201,
          17.301000000000002,
          17.401,
          17.501,
          17.601,
          17.701,
          17.801000000000002,
          17.901,
          18.001,
          18.101,
          18.201,
          18.301000000000002,
          18.401,
          18.501,
          18.601,
          18.701,
          18.801000000000002,
          18.901,
          19.001,
          19.101,
          19.201,
          19.301000000000002,
          19.401,
          19.501,
          19.601,
          19.701,
          19.801000000000002,
          19.901,
          20.001,
          20.101,
          20.201,
          20.301000000000002,
          20.401,
          20.501,
          20.601,
          20.701,
          20.801000000000002,
          20.901,
          21.001,
          21.101,
          21.201,
          21.301000000000002,
          21.401,
          21.501,
          21.601,
          21.701,
          21.801000000000002,
          21.901,
          22.001,
          22.101,
          22.201,
          22.301000000000002,
          22.401,
          22.501,
          22.601,
          22.701,
          22.801000000000002,
          22.901,
          23.001,
          23.101,
          23.201,
          23.301000000000002,
          23.401,
          23.501,
          23.601,
          23.701,
          23.801000000000002,
          23.901,
          24.001,
          24.101,
          24.201,
          24.301000000000002,
          24.401,
          24.501,
          24.601,
          24.701,
          24.801000000000002,
          24.901,
          25.001,
          25.101,
          25.201,
          25.301000000000002,
          25.401,
          25.501,
          25.601,
          25.701,
          25.801000000000002,
          25.901,
          26.001,
          26.101,
          26.201,
          26.301000000000002,
          26.401,
          26.501,
          26.601,
          26.701,
          26.801000000000002,
          26.901,
          27.001,
          27.101,
          27.201,
          27.301000000000002,
          27.401,
          27.501,
          27.601,
          27.701,
          27.801000000000002,
          27.901,
          28.001,
          28.101,
          28.201,
          28.301000000000002,
          28.401,
          28.501,
          28.601,
          28.701,
          28.801000000000002,
          28.901,
          29.001,
          29.101,
          29.201,
          29.301000000000002,
          29.401,
          29.501,
          29.601,
          29.701,
          29.801000000000002,
          29.901,
          30.001,
          30.101,
          30.201,
          30.301000000000002,
          30.401,
          30.501,
          30.601,
          30.701,
          30.801000000000002,
          30.901,
          31.001,
          31.101,
          31.201,
          31.301000000000002,
          31.401,
          31.501,
          31.601,
          31.701,
          31.801000000000002,
          31.901,
          32.001,
          32.101,
          32.201,
          32.301,
          32.401,
          32.501,
          32.601,
          32.701,
          32.801,
          32.901,
          33.001,
          33.101,
          33.201,
          33.301,
          33.401,
          33.501,
          33.601,
          33.701,
          33.801,
          33.901,
          34.001,
          34.101,
          34.201,
          34.301,
          34.401,
          34.501,
          34.601,
          34.701,
          34.801,
          34.901,
          35.001,
          35.101,
          35.201,
          35.301,
          35.401,
          35.501,
          35.601,
          35.701,
          35.801,
          35.901,
          36.001,
          36.101,
          36.201,
          36.301,
          36.401,
          36.501,
          36.601,
          36.701,
          36.801,
          36.901,
          37.001,
          37.101,
          37.201,
          37.301,
          37.401,
          37.501,
          37.601,
          37.701,
          37.801,
          37.901,
          38.001,
          38.101,
          38.201,
          38.301,
          38.401,
          38.501,
          38.601,
          38.701,
          38.801,
          38.901,
          39.001,
          39.101,
          39.201,
          39.301,
          39.401,
          39.501,
          39.601,
          39.701,
          39.801,
          39.901,
          40.001,
          40.101,
          40.201,
          40.301,
          40.401,
          40.501,
          40.601,
          40.701,
          40.801,
          40.901,
          41.001,
          41.101,
          41.201,
          41.301,
          41.401,
          41.501,
          41.601,
          41.701,
          41.801,
          41.901,
          42.001,
          42.101,
          42.201,
          42.301,
          42.401,
          42.501,
          42.601,
          42.701,
          42.801,
          42.901,
          43.001,
          43.101,
          43.201,
          43.301,
          43.401,
          43.501,
          43.601,
          43.701,
          43.801,
          43.901,
          44.001,
          44.101,
          44.201,
          44.301,
          44.401,
          44.501,
          44.601,
          44.701,
          44.801,
          44.901,
          45.001,
          45.101,
          45.201,
          45.301,
          45.401,
          45.501,
          45.601,
          45.701,
          45.801,
          45.901,
          46.001,
          46.101,
          46.201,
          46.301,
          46.401,
          46.501,
          46.601,
          46.701,
          46.801,
          46.901,
          47.001,
          47.101,
          47.201,
          47.301,
          47.401,
          47.501,
          47.601,
          47.701,
          47.801,
          47.901,
          48.001,
          48.101,
          48.201,
          48.301,
          48.401,
          48.501,
          48.601,
          48.701,
          48.801,
          48.901,
          49.001,
          49.101,
          49.201,
          49.301,
          49.401,
          49.501,
          49.601,
          49.701,
          49.801,
          49.901,
          50.001,
          50.101,
          50.201,
          50.301,
          50.401,
          50.501,
          50.601,
          50.701,
          50.801,
          50.901,
          51.001,
          51.101,
          51.201,
          51.301,
          51.401,
          51.501,
          51.601,
          51.701,
          51.801,
          51.901
         ],
         "y": [
          -0.9667288867666954,
          27.153913368201838,
          31.34712717492054,
          33.80757559326125,
          35.555404039619496,
          36.912012431198136,
          38.020898507126404,
          38.95871390324599,
          39.771254698471324,
          40.488079656336446,
          41.12938125108905,
          41.70956750530107,
          42.23928006604617,
          42.72660237482768,
          43.177819156832975,
          43.59791343084238,
          43.990902892495384,
          44.36007420131674,
          44.708150237817364,
          45.037412103255946,
          45.3497898058402,
          45.64693080891989,
          45.930252625502405,
          46.20098371722345,
          46.46019568624472,
          46.708828893932065,
          46.947713053930755,
          47.17758393815331,
          47.399097044201824,
          47.61283886421447,
          47.81933624318254,
          48.01906420271919,
          48.21245252267269,
          48.399891309974805,
          48.581735736164646,
          48.7583100882023,
          48.92991124866194,
          49.09681169912437,
          49.25926212307117,
          49.41749367070623,
          49.57171993706545,
          49.722138695896106,
          49.868933424620856,
          50.01227464988357,
          50.15232113842686,
          50.289220954157386,
          50.42311239904591,
          50.554124852852375,
          50.68237952445671,
          50.80799012573148,
          50.931063477345724,
          51.051700054587656,
          51.16999448019468,
          51.2860359702472,
          51.39990873839028,
          51.51169236297096,
          51.62146212110052,
          51.72928929315405,
          51.835241440792245,
          51.9393826612211,
          52.04177382008562,
          52.14247276511661,
          52.24153452240822,
          52.339011476993726,
          52.434953539203065,
          52.52940829812496,
          52.62242116335461,
          52.714035496084094,
          52.80429273048271,
          52.893232486217656,
          52.98089267288012,
          53.06730958700544,
          53.15251800230897,
          53.23655125369898,
          53.319441315574615,
          53.401218874869244,
          53.48191339925663,
          53.56155320089938,
          53.64016549608482,
          53.7177764610625,
          53.79441128437013,
          53.87009421590951,
          53.94484861301195,
          54.0186969837118,
          54.09166102742901,
          54.16376167324448,
          54.235019115937156,
          54.305452849938284,
          54.37508170134535,
          54.44392385812755,
          54.51199689864377,
          54.57931781858515,
          54.64590305644539,
          54.711768517614374,
          54.776929597183425,
          54.84140120154399,
          54.905197768855544,
          54.96833328845307,
          55.03082131925925,
          55.092675007262244,
          55.153907102114964,
          55.21452997290884,
          55.27455562317037,
          55.33399570512631,
          55.39286153327968,
          55.45116409733622,
          55.50891407451836,
          55.566121841300934,
          55.622797484601236,
          55.678950812453294,
          55.73459136419485,
          55.78972842019337,
          55.84437101113593,
          55.89852792690627,
          55.95220772507078,
          56.00541873899393,
          56.05816908560245,
          56.11046667281621,
          56.162319206663,
          56.213734198093064,
          56.264718969508564,
          56.315280661022065,
          56.365426236457544,
          56.415162489106436,
          56.464496047250655,
          56.513433379463834,
          56.56198079970137,
          56.61014447218923,
          56.65793041612118,
          56.705344510173106,
          56.75239249684312,
          56.7990799866254,
          56.845412462025294,
          56.89139528142294,
          56.937033682792155,
          56.98233278728117,
          57.02729760266114,
          57.07193302664837,
          57.116243850105775,
          57.16023476012873,
          57.20391034302037,
          57.2472750871609,
          57.29033338577569,
          57.33308953960607,
          57.375547759487226,
          57.417712168836786,
          57.45958680605795,
          57.50117562686059,
          57.542482506503674,
          57.58351124196217,
          57.62426555402155,
          57.6647490893026,
          57.70496542221951,
          57.744918056873715,
          57.78461042888608,
          57.82404590716974,
          57.86322779564602,
          57.90215933490544,
          57.9408437038161,
          57.9792840210812,
          58.01748334674788,
          58.05544468366895,
          58.09317097891939,
          58.130665125169315,
          58.167929962014874,
          58.20496827726881,
          58.2417828082119,
          58.27837624280693,
          58.314751220876346,
          58.35091033524503,
          58.386856132849346,
          58.4225911158136,
          58.458117742495254,
          58.49343842849968,
          58.52855554766583,
          58.56347143302355,
          58.59818837772366,
          58.632708635941725,
          58.66703442375627,
          58.70116792000253,
          58.735111267102326,
          58.7688665718709,
          58.80243590630174,
          58.83582130832964,
          58.86902478257316,
          58.90204830105691,
          58.93489380391425,
          58.96756320007141,
          59.0000583679131,
          59.03238115593062,
          59.06453338335284,
          59.09651684076057,
          59.12833329068497,
          59.15998446819036,
          59.19147208144199,
          59.22279781225919,
          59.25396331665443,
          59.28497022535861,
          59.31582014433309,
          59.34651465526875,
          59.377055316072685,
          59.40744366134258,
          59.437681202829495,
          59.467769429889074,
          59.49770980992179,
          59.52750378880229,
          59.55715279129848,
          59.58665822148025,
          59.616021463118514,
          59.645243880074645,
          59.674326816680534,
          59.70327159810971,
          59.732079530739675,
          59.76075190250569,
          59.78928998324628,
          59.817695025040656,
          59.84596826253842,
          59.874110913281505,
          59.90212417801882,
          59.93000924101368,
          59.95776727034415,
          59.98539941819672,
          60.01290682115324,
          60.04029060047144,
          60.06755186235917,
          60.09469169824258,
          60.12171118502826,
          60.1486113853597,
          60.17539334786801,
          60.202058107417244,
          60.2286066853443,
          60.25504008969372,
          60.28135931544728,
          60.30756534474878,
          60.33365914712391,
          60.35964167969553,
          60.385513887394254,
          60.411276703164724,
          60.43693104816745,
          60.46247783197642,
          60.48791795277263,
          60.513252297533526,
          60.53848174221865,
          60.56360715195127,
          60.588629381196434,
          60.61354927393535,
          60.638367663836135,
          60.66308537442125,
          60.687703219231366,
          60.712222001986106,
          60.73664251674146,
          60.760965548044084,
          60.78519187108257,
          60.80932225183563,
          60.833357447217494,
          60.857298205220275,
          60.881145265053746,
          60.90489935728223,
          60.92856120395889,
          60.95213151875747,
          60.975611007101406,
          60.999000366290545,
          61.02230028562538,
          61.04551144652892,
          61.06863452266634,
          61.09167018006222,
          61.11461907721571,
          61.13748186521342,
          61.16025918784031,
          61.18295168168847,
          61.20555997626383,
          61.228084694090946,
          61.25052645081591,
          61.27288585530725,
          61.295163509755085,
          61.317360009768436,
          61.33947594447078,
          61.36151189659381,
          61.3834684425697,
          61.40534615262142,
          61.42714559085171,
          61.44886731533031,
          61.47051187817968,
          61.49207982565923,
          61.51357169824802,
          61.534988030726026,
          61.556329352254004,
          61.57759618645193,
          61.59878905147607,
          61.61990846009478,
          61.64095491976289,
          61.66192893269491,
          61.682830995936904,
          61.70366160143719,
          61.7244212361158,
          61.74511038193279,
          61.76572951595536,
          61.78627911042385,
          61.80675963281669,
          61.827171545914155,
          61.847515307861116,
          61.86779137222878,
          61.888000188075324,
          61.9081422000056,
          61.928217848229785,
          61.948227568621164,
          61.96817179277288,
          61.98805094805379,
          62.007865457663414,
          62.02761574068602,
          62.047302212143755,
          62.066925283049045,
          62.08648536045601,
          62.10598284751117,
          62.125418143503296,
          62.14479164391249,
          62.16410374045842,
          62.1833548211479,
          62.20254527032162,
          62.22167546870024,
          62.24074579342964,
          62.25975661812561,
          62.278708312917686,
          62.29760124449248,
          62.31643577613619,
          62.3352122677765,
          62.353931076023926,
          62.372592554212375,
          62.391197052439196,
          62.40974491760463,
          62.42823649345051,
          62.44667212059862,
          62.46505213658825,
          62.483376875913294,
          62.50164667005882,
          62.51986184753699,
          62.53802273392252,
          62.55612965188763,
          62.57418292123642,
          62.59218285893874,
          62.610129779163614,
          62.62802399331213,
          62.64586581004987,
          62.66365553533882,
          62.6813934724689,
          62.69907992208896,
          62.71671518223738,
          62.73429954837217,
          62.751833313400695,
          62.76931676770894,
          62.786750199190394,
          62.804133893274425,
          62.82146813295442,
          62.83875319881534,
          62.85598936906101,
          62.87317691954098,
          62.89031612377704,
          62.90740725298927,
          62.92445057612187,
          62.94144635986849,
          62.95839486869734,
          62.97529636487579,
          62.992151108494795,
          63.0089593574929,
          63.025721367679886,
          63.04243739276018,
          63.05910768435585,
          63.075732492029374,
          63.092312063306025,
          63.10884664369599,
          63.12533647671619,
          63.14178180391181,
          63.15818286487749,
          63.174539897278336,
          63.190853136870494,
          63.207122817521636,
          63.22334917123099,
          63.23953242814927,
          63.25567281659818,
          63.27177056308982,
          63.28782589234568,
          63.30383902731556,
          63.31981018919606,
          63.33573959744894,
          63.35162746981925,
          63.367474022353136,
          63.38327946941549,
          63.399044023707376,
          63.41476789628314,
          63.430451296567426,
          63.44609443237189,
          63.46169750991172,
          63.47726073382195,
          63.49278430717354,
          63.50826843148933,
          63.52371330675967,
          63.539119131457966,
          63.554486102555984,
          63.569814415538914,
          63.585104264420345,
          63.60035584175696,
          63.61556933866312,
          63.630744944825196,
          63.64588284851581,
          63.66098323660778,
          63.67604629458803,
          63.69107220657123,
          63.70606115531328,
          63.72101332222469,
          63.735928887383736,
          63.75080802954944,
          63.76565092617447,
          63.780457753417835,
          63.7952286861574,
          63.809963898002295,
          63.82466356130516,
          63.839327847174246,
          63.853956925485356,
          63.86855096489364,
          63.88311013284531,
          63.897634595589096,
          63.9121245181877,
          63.926580064529034,
          63.94100139733729,
          63.955388678184036,
          63.96974206749896,
          63.98406172458071,
          63.99834780760741,
          64.01260047364721,
          64.02681987866862,
          64.04100617755074,
          64.05515952409343,
          64.06928007102724,
          64.08336797002335,
          64.09742337170336,
          64.11144642564891,
          64.12543728041125,
          64.13939608352067,
          64.15332298149585,
          64.1672181198531,
          64.18108164311545,
          64.1949136948217,
          64.20871441753528,
          64.22248395285317,
          64.2362224414145,
          64.24993002290925,
          64.26360683608677,
          64.27725301876411,
          64.29086870783452,
          64.30445403927553,
          64.31800914815716,
          64.33153416865002,
          64.34502923403322,
          64.35849447670228,
          64.37193002817689,
          64.38533601910866,
          64.39871257928871,
          64.41205983765526,
          64.425377922301,
          64.43866696048053,
          64.45192707861767,
          64.46515840231264,
          64.47836105634917,
          64.49153516470165,
          64.50468085054203,
          64.51779823624676,
          64.53088744340366,
          64.54394859281862,
          64.55698180452234,
          64.5699871977769,
          64.58296489108238,
          64.59591500218325,
          64.60883764807485,
          64.62173294500974,
          64.63460100850385,
          64.64744195334288,
          64.66025589358829,
          64.67304294258342,
          64.68580321295958,
          64.69853681664189,
          64.71124386485523,
          64.7239244681301,
          64.73657873630826,
          64.74920677854864,
          64.7618087033328,
          64.77438461847066,
          64.78693463110591,
          64.79945884772157,
          64.81195737414544,
          64.82443031555536,
          64.83687777648461,
          64.84929986082712,
          64.8616966718427,
          64.87406831216217,
          64.88641488379245,
          64.89873648812167,
          64.91103322592407,
          64.92330519736502,
          64.93555250200589,
          64.94777523880887,
          64.95997350614181,
          64.97214740178298,
          64.98429702292569,
          64.99642246618305,
          65.0085238275925,
          65.02060120262044,
          65.03265468616668,
          65.04468437256895,
          65.05669035560739,
          65.06867272850877,
          65.08063158395102,
          65.09256701406743,
          65.10447911045091,
          65.11636796415826,
          65.12823366571428,
          65.14007630511594,
          65.1518959718365,
          65.16369275482953,
          65.1754667425329,
          65.18721802287286
         ]
        }
       ],
       "layout": {
        "template": {
         "data": {
          "bar": [
           {
            "error_x": {
             "color": "#2a3f5f"
            },
            "error_y": {
             "color": "#2a3f5f"
            },
            "marker": {
             "line": {
              "color": "#E5ECF6",
              "width": 0.5
             },
             "pattern": {
              "fillmode": "overlay",
              "size": 10,
              "solidity": 0.2
             }
            },
            "type": "bar"
           }
          ],
          "barpolar": [
           {
            "marker": {
             "line": {
              "color": "#E5ECF6",
              "width": 0.5
             },
             "pattern": {
              "fillmode": "overlay",
              "size": 10,
              "solidity": 0.2
             }
            },
            "type": "barpolar"
           }
          ],
          "carpet": [
           {
            "aaxis": {
             "endlinecolor": "#2a3f5f",
             "gridcolor": "white",
             "linecolor": "white",
             "minorgridcolor": "white",
             "startlinecolor": "#2a3f5f"
            },
            "baxis": {
             "endlinecolor": "#2a3f5f",
             "gridcolor": "white",
             "linecolor": "white",
             "minorgridcolor": "white",
             "startlinecolor": "#2a3f5f"
            },
            "type": "carpet"
           }
          ],
          "choropleth": [
           {
            "colorbar": {
             "outlinewidth": 0,
             "ticks": ""
            },
            "type": "choropleth"
           }
          ],
          "contour": [
           {
            "colorbar": {
             "outlinewidth": 0,
             "ticks": ""
            },
            "colorscale": [
             [
              0,
              "#0d0887"
             ],
             [
              0.1111111111111111,
              "#46039f"
             ],
             [
              0.2222222222222222,
              "#7201a8"
             ],
             [
              0.3333333333333333,
              "#9c179e"
             ],
             [
              0.4444444444444444,
              "#bd3786"
             ],
             [
              0.5555555555555556,
              "#d8576b"
             ],
             [
              0.6666666666666666,
              "#ed7953"
             ],
             [
              0.7777777777777778,
              "#fb9f3a"
             ],
             [
              0.8888888888888888,
              "#fdca26"
             ],
             [
              1,
              "#f0f921"
             ]
            ],
            "type": "contour"
           }
          ],
          "contourcarpet": [
           {
            "colorbar": {
             "outlinewidth": 0,
             "ticks": ""
            },
            "type": "contourcarpet"
           }
          ],
          "heatmap": [
           {
            "colorbar": {
             "outlinewidth": 0,
             "ticks": ""
            },
            "colorscale": [
             [
              0,
              "#0d0887"
             ],
             [
              0.1111111111111111,
              "#46039f"
             ],
             [
              0.2222222222222222,
              "#7201a8"
             ],
             [
              0.3333333333333333,
              "#9c179e"
             ],
             [
              0.4444444444444444,
              "#bd3786"
             ],
             [
              0.5555555555555556,
              "#d8576b"
             ],
             [
              0.6666666666666666,
              "#ed7953"
             ],
             [
              0.7777777777777778,
              "#fb9f3a"
             ],
             [
              0.8888888888888888,
              "#fdca26"
             ],
             [
              1,
              "#f0f921"
             ]
            ],
            "type": "heatmap"
           }
          ],
          "heatmapgl": [
           {
            "colorbar": {
             "outlinewidth": 0,
             "ticks": ""
            },
            "colorscale": [
             [
              0,
              "#0d0887"
             ],
             [
              0.1111111111111111,
              "#46039f"
             ],
             [
              0.2222222222222222,
              "#7201a8"
             ],
             [
              0.3333333333333333,
              "#9c179e"
             ],
             [
              0.4444444444444444,
              "#bd3786"
             ],
             [
              0.5555555555555556,
              "#d8576b"
             ],
             [
              0.6666666666666666,
              "#ed7953"
             ],
             [
              0.7777777777777778,
              "#fb9f3a"
             ],
             [
              0.8888888888888888,
              "#fdca26"
             ],
             [
              1,
              "#f0f921"
             ]
            ],
            "type": "heatmapgl"
           }
          ],
          "histogram": [
           {
            "marker": {
             "pattern": {
              "fillmode": "overlay",
              "size": 10,
              "solidity": 0.2
             }
            },
            "type": "histogram"
           }
          ],
          "histogram2d": [
           {
            "colorbar": {
             "outlinewidth": 0,
             "ticks": ""
            },
            "colorscale": [
             [
              0,
              "#0d0887"
             ],
             [
              0.1111111111111111,
              "#46039f"
             ],
             [
              0.2222222222222222,
              "#7201a8"
             ],
             [
              0.3333333333333333,
              "#9c179e"
             ],
             [
              0.4444444444444444,
              "#bd3786"
             ],
             [
              0.5555555555555556,
              "#d8576b"
             ],
             [
              0.6666666666666666,
              "#ed7953"
             ],
             [
              0.7777777777777778,
              "#fb9f3a"
             ],
             [
              0.8888888888888888,
              "#fdca26"
             ],
             [
              1,
              "#f0f921"
             ]
            ],
            "type": "histogram2d"
           }
          ],
          "histogram2dcontour": [
           {
            "colorbar": {
             "outlinewidth": 0,
             "ticks": ""
            },
            "colorscale": [
             [
              0,
              "#0d0887"
             ],
             [
              0.1111111111111111,
              "#46039f"
             ],
             [
              0.2222222222222222,
              "#7201a8"
             ],
             [
              0.3333333333333333,
              "#9c179e"
             ],
             [
              0.4444444444444444,
              "#bd3786"
             ],
             [
              0.5555555555555556,
              "#d8576b"
             ],
             [
              0.6666666666666666,
              "#ed7953"
             ],
             [
              0.7777777777777778,
              "#fb9f3a"
             ],
             [
              0.8888888888888888,
              "#fdca26"
             ],
             [
              1,
              "#f0f921"
             ]
            ],
            "type": "histogram2dcontour"
           }
          ],
          "mesh3d": [
           {
            "colorbar": {
             "outlinewidth": 0,
             "ticks": ""
            },
            "type": "mesh3d"
           }
          ],
          "parcoords": [
           {
            "line": {
             "colorbar": {
              "outlinewidth": 0,
              "ticks": ""
             }
            },
            "type": "parcoords"
           }
          ],
          "pie": [
           {
            "automargin": true,
            "type": "pie"
           }
          ],
          "scatter": [
           {
            "fillpattern": {
             "fillmode": "overlay",
             "size": 10,
             "solidity": 0.2
            },
            "type": "scatter"
           }
          ],
          "scatter3d": [
           {
            "line": {
             "colorbar": {
              "outlinewidth": 0,
              "ticks": ""
             }
            },
            "marker": {
             "colorbar": {
              "outlinewidth": 0,
              "ticks": ""
             }
            },
            "type": "scatter3d"
           }
          ],
          "scattercarpet": [
           {
            "marker": {
             "colorbar": {
              "outlinewidth": 0,
              "ticks": ""
             }
            },
            "type": "scattercarpet"
           }
          ],
          "scattergeo": [
           {
            "marker": {
             "colorbar": {
              "outlinewidth": 0,
              "ticks": ""
             }
            },
            "type": "scattergeo"
           }
          ],
          "scattergl": [
           {
            "marker": {
             "colorbar": {
              "outlinewidth": 0,
              "ticks": ""
             }
            },
            "type": "scattergl"
           }
          ],
          "scattermapbox": [
           {
            "marker": {
             "colorbar": {
              "outlinewidth": 0,
              "ticks": ""
             }
            },
            "type": "scattermapbox"
           }
          ],
          "scatterpolar": [
           {
            "marker": {
             "colorbar": {
              "outlinewidth": 0,
              "ticks": ""
             }
            },
            "type": "scatterpolar"
           }
          ],
          "scatterpolargl": [
           {
            "marker": {
             "colorbar": {
              "outlinewidth": 0,
              "ticks": ""
             }
            },
            "type": "scatterpolargl"
           }
          ],
          "scatterternary": [
           {
            "marker": {
             "colorbar": {
              "outlinewidth": 0,
              "ticks": ""
             }
            },
            "type": "scatterternary"
           }
          ],
          "surface": [
           {
            "colorbar": {
             "outlinewidth": 0,
             "ticks": ""
            },
            "colorscale": [
             [
              0,
              "#0d0887"
             ],
             [
              0.1111111111111111,
              "#46039f"
             ],
             [
              0.2222222222222222,
              "#7201a8"
             ],
             [
              0.3333333333333333,
              "#9c179e"
             ],
             [
              0.4444444444444444,
              "#bd3786"
             ],
             [
              0.5555555555555556,
              "#d8576b"
             ],
             [
              0.6666666666666666,
              "#ed7953"
             ],
             [
              0.7777777777777778,
              "#fb9f3a"
             ],
             [
              0.8888888888888888,
              "#fdca26"
             ],
             [
              1,
              "#f0f921"
             ]
            ],
            "type": "surface"
           }
          ],
          "table": [
           {
            "cells": {
             "fill": {
              "color": "#EBF0F8"
             },
             "line": {
              "color": "white"
             }
            },
            "header": {
             "fill": {
              "color": "#C8D4E3"
             },
             "line": {
              "color": "white"
             }
            },
            "type": "table"
           }
          ]
         },
         "layout": {
          "annotationdefaults": {
           "arrowcolor": "#2a3f5f",
           "arrowhead": 0,
           "arrowwidth": 1
          },
          "autotypenumbers": "strict",
          "coloraxis": {
           "colorbar": {
            "outlinewidth": 0,
            "ticks": ""
           }
          },
          "colorscale": {
           "diverging": [
            [
             0,
             "#8e0152"
            ],
            [
             0.1,
             "#c51b7d"
            ],
            [
             0.2,
             "#de77ae"
            ],
            [
             0.3,
             "#f1b6da"
            ],
            [
             0.4,
             "#fde0ef"
            ],
            [
             0.5,
             "#f7f7f7"
            ],
            [
             0.6,
             "#e6f5d0"
            ],
            [
             0.7,
             "#b8e186"
            ],
            [
             0.8,
             "#7fbc41"
            ],
            [
             0.9,
             "#4d9221"
            ],
            [
             1,
             "#276419"
            ]
           ],
           "sequential": [
            [
             0,
             "#0d0887"
            ],
            [
             0.1111111111111111,
             "#46039f"
            ],
            [
             0.2222222222222222,
             "#7201a8"
            ],
            [
             0.3333333333333333,
             "#9c179e"
            ],
            [
             0.4444444444444444,
             "#bd3786"
            ],
            [
             0.5555555555555556,
             "#d8576b"
            ],
            [
             0.6666666666666666,
             "#ed7953"
            ],
            [
             0.7777777777777778,
             "#fb9f3a"
            ],
            [
             0.8888888888888888,
             "#fdca26"
            ],
            [
             1,
             "#f0f921"
            ]
           ],
           "sequentialminus": [
            [
             0,
             "#0d0887"
            ],
            [
             0.1111111111111111,
             "#46039f"
            ],
            [
             0.2222222222222222,
             "#7201a8"
            ],
            [
             0.3333333333333333,
             "#9c179e"
            ],
            [
             0.4444444444444444,
             "#bd3786"
            ],
            [
             0.5555555555555556,
             "#d8576b"
            ],
            [
             0.6666666666666666,
             "#ed7953"
            ],
            [
             0.7777777777777778,
             "#fb9f3a"
            ],
            [
             0.8888888888888888,
             "#fdca26"
            ],
            [
             1,
             "#f0f921"
            ]
           ]
          },
          "colorway": [
           "#636efa",
           "#EF553B",
           "#00cc96",
           "#ab63fa",
           "#FFA15A",
           "#19d3f3",
           "#FF6692",
           "#B6E880",
           "#FF97FF",
           "#FECB52"
          ],
          "font": {
           "color": "#2a3f5f"
          },
          "geo": {
           "bgcolor": "white",
           "lakecolor": "white",
           "landcolor": "#E5ECF6",
           "showlakes": true,
           "showland": true,
           "subunitcolor": "white"
          },
          "hoverlabel": {
           "align": "left"
          },
          "hovermode": "closest",
          "mapbox": {
           "style": "light"
          },
          "paper_bgcolor": "white",
          "plot_bgcolor": "#E5ECF6",
          "polar": {
           "angularaxis": {
            "gridcolor": "white",
            "linecolor": "white",
            "ticks": ""
           },
           "bgcolor": "#E5ECF6",
           "radialaxis": {
            "gridcolor": "white",
            "linecolor": "white",
            "ticks": ""
           }
          },
          "scene": {
           "xaxis": {
            "backgroundcolor": "#E5ECF6",
            "gridcolor": "white",
            "gridwidth": 2,
            "linecolor": "white",
            "showbackground": true,
            "ticks": "",
            "zerolinecolor": "white"
           },
           "yaxis": {
            "backgroundcolor": "#E5ECF6",
            "gridcolor": "white",
            "gridwidth": 2,
            "linecolor": "white",
            "showbackground": true,
            "ticks": "",
            "zerolinecolor": "white"
           },
           "zaxis": {
            "backgroundcolor": "#E5ECF6",
            "gridcolor": "white",
            "gridwidth": 2,
            "linecolor": "white",
            "showbackground": true,
            "ticks": "",
            "zerolinecolor": "white"
           }
          },
          "shapedefaults": {
           "line": {
            "color": "#2a3f5f"
           }
          },
          "ternary": {
           "aaxis": {
            "gridcolor": "white",
            "linecolor": "white",
            "ticks": ""
           },
           "baxis": {
            "gridcolor": "white",
            "linecolor": "white",
            "ticks": ""
           },
           "bgcolor": "#E5ECF6",
           "caxis": {
            "gridcolor": "white",
            "linecolor": "white",
            "ticks": ""
           }
          },
          "title": {
           "x": 0.05
          },
          "xaxis": {
           "automargin": true,
           "gridcolor": "white",
           "linecolor": "white",
           "ticks": "",
           "title": {
            "standoff": 15
           },
           "zerolinecolor": "white",
           "zerolinewidth": 2
          },
          "yaxis": {
           "automargin": true,
           "gridcolor": "white",
           "linecolor": "white",
           "ticks": "",
           "title": {
            "standoff": 15
           },
           "zerolinecolor": "white",
           "zerolinewidth": 2
          }
         }
        },
        "title": {
         "text": "State(plus Washington DC) Population's Impact on Diversity Index(as of 2023)"
        },
        "xaxis": {
         "title": {
          "text": "Population in Millions"
         }
        },
        "yaxis": {
         "title": {
          "text": "Diversity Index"
         }
        }
       }
      }
     },
     "metadata": {},
     "output_type": "display_data"
    },
    {
     "data": {
      "text/plain": [
       "'https://plotly.com/~NRswift/230/'"
      ]
     },
     "execution_count": 18,
     "metadata": {},
     "output_type": "execute_result"
    }
   ],
   "source": [
    "import chart_studio\n",
    "username='NRswift'\n",
    "api_key='G1eDL1Naj4DsaqGtJSYz'\n",
    "chart_studio.tools.set_credentials_file(username=username, api_key=api_key)\n",
    "import numpy as np\n",
    "import csv\n",
    "from scipy.optimize import curve_fit\n",
    "import plotly.graph_objects as go\n",
    "import plotly.io as pio\n",
    "import chart_studio.plotly as py\n",
    "import chart_studio.tools as tls\n",
    "import math\n",
    "states = []\n",
    "populations = []\n",
    "diversityIndexs = []\n",
    "with open('rd.csv', 'r') as f:\n",
    "    data = csv.reader(f, delimiter=',')\n",
    "    for rows in data:\n",
    "        states.append(str(rows[0]))\n",
    "        populations.append(float(rows[1]))\n",
    "        diversityIndexs.append(float(rows[2]))\n",
    "\n",
    "def sqrt_function(t, a, b):\n",
    "    return a + b * np.log(t)\n",
    "t = []\n",
    "for i in range(1, 52000, 100):\n",
    "    t.append(float(i)*0.001)\n",
    "\n",
    "popt, pcov = curve_fit(sqrt_function, populations, diversityIndexs, maxfev=1500)\n",
    "\n",
    "ans = (popt[0] + popt[1] * np.log(t))\n",
    "\n",
    "def findAverageError(populations, diversityIndexs):\n",
    "    sumTwo = 0\n",
    "    for i in range(0, 51):\n",
    "        #sumOne += ((diversityIndexs[i] - avgOne)**2)\n",
    "        sumTwo += ((diversityIndexs[i] - (popt[0] + popt[1]*np.log(populations[i])))**2)\n",
    "    return (math.sqrt(sumTwo/51))\n",
    "print(findAverageError(populations, diversityIndexs))\n",
    "fig = go.Figure()\n",
    "data = zip(populations, diversityIndexs)\n",
    "fig.add_trace(go.Scatter(x=populations, y=diversityIndexs, text = states, mode='markers', \n",
    "                         hovertemplate = \"State: %{text}---Population: %{x:,} million---Diversity Index: %{y:,}%\", \n",
    "                         name = \"Actual Diversity Index\", textfont=dict(color='blue')))\n",
    "fig.add_trace(go.Scatter(x=t, y=ans, mode='lines', name=\"Predicted Diversity Index<br>(Regression:\"+str(round(popt[1], 3))+\n",
    "                         \"ln(x))<br>\" + \"(Average Error=\" + str(round(findAverageError(populations, diversityIndexs), 3)) + \")\",\n",
    "              textfont=dict(color='red')))\n",
    "fig.update_layout(\n",
    "    xaxis={'title':'Population in Millions'},\n",
    "    yaxis={'title':'Diversity Index'}, \n",
    "    title = dict(text = \"State(plus Washington DC) Population's Impact on Diversity Index(as of 2023)\"))\n",
    "fig.show()\n",
    "py.plot(fig, filename=\"p_vs_di\", auto_open = True)\n",
    "\n"
   ]
  },
  {
   "cell_type": "code",
   "execution_count": 16,
   "metadata": {},
   "outputs": [
    {
     "data": {
      "application/vnd.plotly.v1+json": {
       "config": {
        "plotlyServerURL": "https://plotly.com"
       },
       "data": [
        {
         "hovertemplate": "State: %{text}---Health RE Ranking: %{x:,}---Health Overall: %{y:,}",
         "mode": "lines+markers",
         "name": "Actual Health Quality",
         "text": [
          "Massachusetts",
          "Hawaii",
          "Washington D.C",
          "Rhode Island",
          "New Hampshire",
          "California",
          "Maryland",
          "Virginia",
          "Connecticut",
          "Pennsylvania",
          "New York",
          "New Mexico",
          "New Jersey",
          "Washington",
          "Oregon",
          "Delaware",
          "Illinois",
          "Florida",
          "Colorado",
          "Michigan",
          "Ohio",
          "Idaho",
          "Minnesota",
          "North Carolina",
          "Iowa",
          "Montana",
          "Kentucky",
          "Missouri",
          "Utah",
          "Arizona",
          "Louisiana",
          "Nebraska",
          "Georgia",
          "Indiana",
          "Nevada",
          "Alabama",
          "Wisconsin",
          "Texas",
          "Kansas",
          "South Dakota",
          "Alaska",
          "Oklahoma",
          "North Dakota",
          "Arkansas",
          "West Virginia",
          "South Carolina",
          "Tennessee",
          "Wyoming",
          "Mississippi"
         ],
         "type": "scatter",
         "x": [
          1,
          2,
          3,
          4,
          5,
          6,
          7,
          8,
          8,
          10,
          11,
          12,
          13,
          14,
          15,
          16,
          17,
          18,
          19,
          20,
          21,
          22,
          23,
          24,
          25,
          26,
          26,
          28,
          28,
          30,
          31,
          32,
          32,
          34,
          35,
          36,
          37,
          38,
          39,
          40,
          40,
          42,
          43,
          43,
          45,
          46,
          47,
          48,
          49
         ],
         "y": [
          1,
          2,
          11,
          4,
          3,
          14,
          8,
          20,
          6,
          9,
          9,
          32,
          17,
          7,
          13,
          25,
          23,
          36,
          18,
          27,
          31,
          23,
          11,
          33,
          15,
          26,
          40,
          38,
          19,
          34,
          43,
          21,
          45,
          34,
          41,
          42,
          21,
          48,
          30,
          29,
          39,
          49,
          28,
          47,
          50,
          37,
          46,
          43,
          51
         ]
        },
        {
         "mode": "lines",
         "name": "Predicted Health Quality<br>(Regression:5.01+0.864x)<br>(R^2:0.691)",
         "type": "scatter",
         "x": [
          0,
          1,
          2,
          3,
          4,
          5,
          6,
          7,
          8,
          9,
          10,
          11,
          12,
          13,
          14,
          15,
          16,
          17,
          18,
          19,
          20,
          21,
          22,
          23,
          24,
          25,
          26,
          27,
          28,
          29,
          30,
          31,
          32,
          33,
          34,
          35,
          36,
          37,
          38,
          39,
          40,
          41,
          42,
          43,
          44,
          45,
          46,
          47,
          48,
          49
         ],
         "y": [
          5.010033024324007,
          5.874272878145273,
          6.738512731966539,
          7.6027525857878056,
          8.466992439609072,
          9.33123229343034,
          10.195472147251603,
          11.059712001072871,
          11.923951854894138,
          12.788191708715404,
          13.65243156253667,
          14.516671416357937,
          15.380911270179201,
          16.24515112400047,
          17.109390977821736,
          17.973630831643003,
          18.837870685464267,
          19.702110539285535,
          20.566350393106802,
          21.430590246928066,
          22.294830100749333,
          23.159069954570597,
          24.023309808391865,
          24.887549662213132,
          25.751789516034396,
          26.616029369855664,
          27.48026922367693,
          28.3445090774982,
          29.208748931319462,
          30.07298878514073,
          30.937228638961997,
          31.80146849278326,
          32.66570834660453,
          33.5299482004258,
          34.39418805424706,
          35.25842790806833,
          36.122667761889595,
          36.98690761571086,
          37.85114746953213,
          38.7153873233534,
          39.579627177174665,
          40.44386703099593,
          41.30810688481719,
          42.17234673863846,
          43.03658659245973,
          43.900826446280995,
          44.76506630010226,
          45.62930615392353,
          46.49354600774479,
          47.35778586156606
         ]
        }
       ],
       "layout": {
        "template": {
         "data": {
          "bar": [
           {
            "error_x": {
             "color": "#2a3f5f"
            },
            "error_y": {
             "color": "#2a3f5f"
            },
            "marker": {
             "line": {
              "color": "#E5ECF6",
              "width": 0.5
             },
             "pattern": {
              "fillmode": "overlay",
              "size": 10,
              "solidity": 0.2
             }
            },
            "type": "bar"
           }
          ],
          "barpolar": [
           {
            "marker": {
             "line": {
              "color": "#E5ECF6",
              "width": 0.5
             },
             "pattern": {
              "fillmode": "overlay",
              "size": 10,
              "solidity": 0.2
             }
            },
            "type": "barpolar"
           }
          ],
          "carpet": [
           {
            "aaxis": {
             "endlinecolor": "#2a3f5f",
             "gridcolor": "white",
             "linecolor": "white",
             "minorgridcolor": "white",
             "startlinecolor": "#2a3f5f"
            },
            "baxis": {
             "endlinecolor": "#2a3f5f",
             "gridcolor": "white",
             "linecolor": "white",
             "minorgridcolor": "white",
             "startlinecolor": "#2a3f5f"
            },
            "type": "carpet"
           }
          ],
          "choropleth": [
           {
            "colorbar": {
             "outlinewidth": 0,
             "ticks": ""
            },
            "type": "choropleth"
           }
          ],
          "contour": [
           {
            "colorbar": {
             "outlinewidth": 0,
             "ticks": ""
            },
            "colorscale": [
             [
              0,
              "#0d0887"
             ],
             [
              0.1111111111111111,
              "#46039f"
             ],
             [
              0.2222222222222222,
              "#7201a8"
             ],
             [
              0.3333333333333333,
              "#9c179e"
             ],
             [
              0.4444444444444444,
              "#bd3786"
             ],
             [
              0.5555555555555556,
              "#d8576b"
             ],
             [
              0.6666666666666666,
              "#ed7953"
             ],
             [
              0.7777777777777778,
              "#fb9f3a"
             ],
             [
              0.8888888888888888,
              "#fdca26"
             ],
             [
              1,
              "#f0f921"
             ]
            ],
            "type": "contour"
           }
          ],
          "contourcarpet": [
           {
            "colorbar": {
             "outlinewidth": 0,
             "ticks": ""
            },
            "type": "contourcarpet"
           }
          ],
          "heatmap": [
           {
            "colorbar": {
             "outlinewidth": 0,
             "ticks": ""
            },
            "colorscale": [
             [
              0,
              "#0d0887"
             ],
             [
              0.1111111111111111,
              "#46039f"
             ],
             [
              0.2222222222222222,
              "#7201a8"
             ],
             [
              0.3333333333333333,
              "#9c179e"
             ],
             [
              0.4444444444444444,
              "#bd3786"
             ],
             [
              0.5555555555555556,
              "#d8576b"
             ],
             [
              0.6666666666666666,
              "#ed7953"
             ],
             [
              0.7777777777777778,
              "#fb9f3a"
             ],
             [
              0.8888888888888888,
              "#fdca26"
             ],
             [
              1,
              "#f0f921"
             ]
            ],
            "type": "heatmap"
           }
          ],
          "heatmapgl": [
           {
            "colorbar": {
             "outlinewidth": 0,
             "ticks": ""
            },
            "colorscale": [
             [
              0,
              "#0d0887"
             ],
             [
              0.1111111111111111,
              "#46039f"
             ],
             [
              0.2222222222222222,
              "#7201a8"
             ],
             [
              0.3333333333333333,
              "#9c179e"
             ],
             [
              0.4444444444444444,
              "#bd3786"
             ],
             [
              0.5555555555555556,
              "#d8576b"
             ],
             [
              0.6666666666666666,
              "#ed7953"
             ],
             [
              0.7777777777777778,
              "#fb9f3a"
             ],
             [
              0.8888888888888888,
              "#fdca26"
             ],
             [
              1,
              "#f0f921"
             ]
            ],
            "type": "heatmapgl"
           }
          ],
          "histogram": [
           {
            "marker": {
             "pattern": {
              "fillmode": "overlay",
              "size": 10,
              "solidity": 0.2
             }
            },
            "type": "histogram"
           }
          ],
          "histogram2d": [
           {
            "colorbar": {
             "outlinewidth": 0,
             "ticks": ""
            },
            "colorscale": [
             [
              0,
              "#0d0887"
             ],
             [
              0.1111111111111111,
              "#46039f"
             ],
             [
              0.2222222222222222,
              "#7201a8"
             ],
             [
              0.3333333333333333,
              "#9c179e"
             ],
             [
              0.4444444444444444,
              "#bd3786"
             ],
             [
              0.5555555555555556,
              "#d8576b"
             ],
             [
              0.6666666666666666,
              "#ed7953"
             ],
             [
              0.7777777777777778,
              "#fb9f3a"
             ],
             [
              0.8888888888888888,
              "#fdca26"
             ],
             [
              1,
              "#f0f921"
             ]
            ],
            "type": "histogram2d"
           }
          ],
          "histogram2dcontour": [
           {
            "colorbar": {
             "outlinewidth": 0,
             "ticks": ""
            },
            "colorscale": [
             [
              0,
              "#0d0887"
             ],
             [
              0.1111111111111111,
              "#46039f"
             ],
             [
              0.2222222222222222,
              "#7201a8"
             ],
             [
              0.3333333333333333,
              "#9c179e"
             ],
             [
              0.4444444444444444,
              "#bd3786"
             ],
             [
              0.5555555555555556,
              "#d8576b"
             ],
             [
              0.6666666666666666,
              "#ed7953"
             ],
             [
              0.7777777777777778,
              "#fb9f3a"
             ],
             [
              0.8888888888888888,
              "#fdca26"
             ],
             [
              1,
              "#f0f921"
             ]
            ],
            "type": "histogram2dcontour"
           }
          ],
          "mesh3d": [
           {
            "colorbar": {
             "outlinewidth": 0,
             "ticks": ""
            },
            "type": "mesh3d"
           }
          ],
          "parcoords": [
           {
            "line": {
             "colorbar": {
              "outlinewidth": 0,
              "ticks": ""
             }
            },
            "type": "parcoords"
           }
          ],
          "pie": [
           {
            "automargin": true,
            "type": "pie"
           }
          ],
          "scatter": [
           {
            "fillpattern": {
             "fillmode": "overlay",
             "size": 10,
             "solidity": 0.2
            },
            "type": "scatter"
           }
          ],
          "scatter3d": [
           {
            "line": {
             "colorbar": {
              "outlinewidth": 0,
              "ticks": ""
             }
            },
            "marker": {
             "colorbar": {
              "outlinewidth": 0,
              "ticks": ""
             }
            },
            "type": "scatter3d"
           }
          ],
          "scattercarpet": [
           {
            "marker": {
             "colorbar": {
              "outlinewidth": 0,
              "ticks": ""
             }
            },
            "type": "scattercarpet"
           }
          ],
          "scattergeo": [
           {
            "marker": {
             "colorbar": {
              "outlinewidth": 0,
              "ticks": ""
             }
            },
            "type": "scattergeo"
           }
          ],
          "scattergl": [
           {
            "marker": {
             "colorbar": {
              "outlinewidth": 0,
              "ticks": ""
             }
            },
            "type": "scattergl"
           }
          ],
          "scattermapbox": [
           {
            "marker": {
             "colorbar": {
              "outlinewidth": 0,
              "ticks": ""
             }
            },
            "type": "scattermapbox"
           }
          ],
          "scatterpolar": [
           {
            "marker": {
             "colorbar": {
              "outlinewidth": 0,
              "ticks": ""
             }
            },
            "type": "scatterpolar"
           }
          ],
          "scatterpolargl": [
           {
            "marker": {
             "colorbar": {
              "outlinewidth": 0,
              "ticks": ""
             }
            },
            "type": "scatterpolargl"
           }
          ],
          "scatterternary": [
           {
            "marker": {
             "colorbar": {
              "outlinewidth": 0,
              "ticks": ""
             }
            },
            "type": "scatterternary"
           }
          ],
          "surface": [
           {
            "colorbar": {
             "outlinewidth": 0,
             "ticks": ""
            },
            "colorscale": [
             [
              0,
              "#0d0887"
             ],
             [
              0.1111111111111111,
              "#46039f"
             ],
             [
              0.2222222222222222,
              "#7201a8"
             ],
             [
              0.3333333333333333,
              "#9c179e"
             ],
             [
              0.4444444444444444,
              "#bd3786"
             ],
             [
              0.5555555555555556,
              "#d8576b"
             ],
             [
              0.6666666666666666,
              "#ed7953"
             ],
             [
              0.7777777777777778,
              "#fb9f3a"
             ],
             [
              0.8888888888888888,
              "#fdca26"
             ],
             [
              1,
              "#f0f921"
             ]
            ],
            "type": "surface"
           }
          ],
          "table": [
           {
            "cells": {
             "fill": {
              "color": "#EBF0F8"
             },
             "line": {
              "color": "white"
             }
            },
            "header": {
             "fill": {
              "color": "#C8D4E3"
             },
             "line": {
              "color": "white"
             }
            },
            "type": "table"
           }
          ]
         },
         "layout": {
          "annotationdefaults": {
           "arrowcolor": "#2a3f5f",
           "arrowhead": 0,
           "arrowwidth": 1
          },
          "autotypenumbers": "strict",
          "coloraxis": {
           "colorbar": {
            "outlinewidth": 0,
            "ticks": ""
           }
          },
          "colorscale": {
           "diverging": [
            [
             0,
             "#8e0152"
            ],
            [
             0.1,
             "#c51b7d"
            ],
            [
             0.2,
             "#de77ae"
            ],
            [
             0.3,
             "#f1b6da"
            ],
            [
             0.4,
             "#fde0ef"
            ],
            [
             0.5,
             "#f7f7f7"
            ],
            [
             0.6,
             "#e6f5d0"
            ],
            [
             0.7,
             "#b8e186"
            ],
            [
             0.8,
             "#7fbc41"
            ],
            [
             0.9,
             "#4d9221"
            ],
            [
             1,
             "#276419"
            ]
           ],
           "sequential": [
            [
             0,
             "#0d0887"
            ],
            [
             0.1111111111111111,
             "#46039f"
            ],
            [
             0.2222222222222222,
             "#7201a8"
            ],
            [
             0.3333333333333333,
             "#9c179e"
            ],
            [
             0.4444444444444444,
             "#bd3786"
            ],
            [
             0.5555555555555556,
             "#d8576b"
            ],
            [
             0.6666666666666666,
             "#ed7953"
            ],
            [
             0.7777777777777778,
             "#fb9f3a"
            ],
            [
             0.8888888888888888,
             "#fdca26"
            ],
            [
             1,
             "#f0f921"
            ]
           ],
           "sequentialminus": [
            [
             0,
             "#0d0887"
            ],
            [
             0.1111111111111111,
             "#46039f"
            ],
            [
             0.2222222222222222,
             "#7201a8"
            ],
            [
             0.3333333333333333,
             "#9c179e"
            ],
            [
             0.4444444444444444,
             "#bd3786"
            ],
            [
             0.5555555555555556,
             "#d8576b"
            ],
            [
             0.6666666666666666,
             "#ed7953"
            ],
            [
             0.7777777777777778,
             "#fb9f3a"
            ],
            [
             0.8888888888888888,
             "#fdca26"
            ],
            [
             1,
             "#f0f921"
            ]
           ]
          },
          "colorway": [
           "#636efa",
           "#EF553B",
           "#00cc96",
           "#ab63fa",
           "#FFA15A",
           "#19d3f3",
           "#FF6692",
           "#B6E880",
           "#FF97FF",
           "#FECB52"
          ],
          "font": {
           "color": "#2a3f5f"
          },
          "geo": {
           "bgcolor": "white",
           "lakecolor": "white",
           "landcolor": "#E5ECF6",
           "showlakes": true,
           "showland": true,
           "subunitcolor": "white"
          },
          "hoverlabel": {
           "align": "left"
          },
          "hovermode": "closest",
          "mapbox": {
           "style": "light"
          },
          "paper_bgcolor": "white",
          "plot_bgcolor": "#E5ECF6",
          "polar": {
           "angularaxis": {
            "gridcolor": "white",
            "linecolor": "white",
            "ticks": ""
           },
           "bgcolor": "#E5ECF6",
           "radialaxis": {
            "gridcolor": "white",
            "linecolor": "white",
            "ticks": ""
           }
          },
          "scene": {
           "xaxis": {
            "backgroundcolor": "#E5ECF6",
            "gridcolor": "white",
            "gridwidth": 2,
            "linecolor": "white",
            "showbackground": true,
            "ticks": "",
            "zerolinecolor": "white"
           },
           "yaxis": {
            "backgroundcolor": "#E5ECF6",
            "gridcolor": "white",
            "gridwidth": 2,
            "linecolor": "white",
            "showbackground": true,
            "ticks": "",
            "zerolinecolor": "white"
           },
           "zaxis": {
            "backgroundcolor": "#E5ECF6",
            "gridcolor": "white",
            "gridwidth": 2,
            "linecolor": "white",
            "showbackground": true,
            "ticks": "",
            "zerolinecolor": "white"
           }
          },
          "shapedefaults": {
           "line": {
            "color": "#2a3f5f"
           }
          },
          "ternary": {
           "aaxis": {
            "gridcolor": "white",
            "linecolor": "white",
            "ticks": ""
           },
           "baxis": {
            "gridcolor": "white",
            "linecolor": "white",
            "ticks": ""
           },
           "bgcolor": "#E5ECF6",
           "caxis": {
            "gridcolor": "white",
            "linecolor": "white",
            "ticks": ""
           }
          },
          "title": {
           "x": 0.05
          },
          "xaxis": {
           "automargin": true,
           "gridcolor": "white",
           "linecolor": "white",
           "ticks": "",
           "title": {
            "standoff": 15
           },
           "zerolinecolor": "white",
           "zerolinewidth": 2
          },
          "yaxis": {
           "automargin": true,
           "gridcolor": "white",
           "linecolor": "white",
           "ticks": "",
           "title": {
            "standoff": 15
           },
           "zerolinecolor": "white",
           "zerolinewidth": 2
          }
         }
        },
        "title": {
         "text": "Does State(plus Washington D.C) Racial Equality Ranking Improve State Health?(2023 Data)"
        },
        "xaxis": {
         "autorange": "reversed",
         "title": {
          "text": "Racial Equality Ranking"
         }
        },
        "yaxis": {
         "autorange": "reversed",
         "title": {
          "text": "Health Overall"
         }
        }
       }
      }
     },
     "metadata": {},
     "output_type": "display_data"
    },
    {
     "data": {
      "text/plain": [
       "'https://plotly.com/~NRswift/228/'"
      ]
     },
     "execution_count": 16,
     "metadata": {},
     "output_type": "execute_result"
    }
   ],
   "source": [
    "import chart_studio\n",
    "username='NRswift'\n",
    "api_key='G1eDL1Naj4DsaqGtJSYz'\n",
    "chart_studio.tools.set_credentials_file(username=username, api_key=api_key)\n",
    "import pandas as pd\n",
    "import numpy as np\n",
    "import csv\n",
    "import plotly.graph_objects as go\n",
    "import chart_studio.plotly as py\n",
    "import chart_studio.tools as tls\n",
    "import math\n",
    "healthRE = []\n",
    "healthOverall = []\n",
    "statesTwo = []\n",
    "\n",
    "\n",
    "with open('health.csv', 'r') as d:\n",
    "    dataTwo = csv.reader(d, delimiter=',')\n",
    "    for rowsTwo in dataTwo:\n",
    "        statesTwo.append(rowsTwo[0])\n",
    "        healthRE.append(int(rowsTwo[1]))\n",
    "        health = (int(rowsTwo[2]))\n",
    "        healthOverall.append(health)\n",
    "    \n",
    "def linearRegressionConstants(arrOne, arrTwo):\n",
    "    sumOne = sum(arrTwo)\n",
    "    sumTwo = sum(i ** 2 for i in arrOne)\n",
    "    sumThree = sum(arrOne)\n",
    "    sumFour = 0\n",
    "    for i in range(0, 49):\n",
    "        sumFour += arrOne[i] * arrTwo[i] \n",
    "    aConstant = (sumOne * sumTwo - sumThree * sumFour)/((49*sumTwo) - (sumThree ** 2))\n",
    "    bConstant = ((49*sumFour) - (sumThree * sumOne))/((49*sumTwo) - (sumThree ** 2))\n",
    "    return aConstant, bConstant \n",
    "\n",
    "fig = go.Figure()\n",
    "#data = zip(econRE, econOverall)\n",
    "fig.add_trace(go.Scatter(x=healthRE, y=healthOverall, text = statesTwo, mode='lines+markers', name = \"Actual Health Quality\",\n",
    "                         hovertemplate = \"State: %{text}---Health RE Ranking: %{x:,}---Health Overall: %{y:,}\", ))\n",
    "aOne = []\n",
    "for i in range(0, 50):\n",
    "    aOne.append(i)\n",
    "aTwo = []\n",
    "a = linearRegressionConstants(healthRE, healthOverall)\n",
    "for i in range(0, 50):\n",
    "    aTwo.append(a[0] + a[1] * i)\n",
    "def findRSquared(arrOne, arrTwo):\n",
    "    sumOne = 0\n",
    "    sumTwo = 0\n",
    "    avgOne = sum(arrTwo)/49\n",
    "    \n",
    "    for i in range(49):\n",
    "       sumOne += ((arrTwo[i] - avgOne)**2)\n",
    "       sumTwo += ((arrTwo[i] - (a[0] + a[1] * arrOne[i]))**2)\n",
    "    return 1 - sumTwo/sumOne\n",
    "fig.add_trace(go.Scatter(x=aOne, y=aTwo, mode='lines', name = \"Predicted Health Quality<br>(Regression:\"\n",
    "                         + str(round(a[0], 3)) + \"+\" + str(round(a[1], 3)) + \"x\" + \")<br>(R^2:\" + \n",
    "                         str(round(findRSquared(healthRE, healthOverall), 3)) + \")\"))\n",
    "fig.update_xaxes(autorange=\"reversed\")\n",
    "fig.update_yaxes(autorange=\"reversed\")\n",
    "fig.update_layout(\n",
    "    xaxis={'title':'Racial Equality Ranking'},\n",
    "    yaxis={'title':'Health Overall'}, \n",
    "    title = dict(text = \"Does State(plus Washington D.C) Racial Equality Ranking Improve State Health?(2023 Data)\"))\n",
    "fig.show()\n",
    "py.plot(fig, filename=\"healthcare_scatter\", auto_open = True)\n",
    "#Maine and Vermont"
   ]
  },
  {
   "cell_type": "code",
   "execution_count": 9,
   "metadata": {},
   "outputs": [
    {
     "data": {
      "application/vnd.plotly.v1+json": {
       "config": {
        "plotlyServerURL": "https://plotly.com"
       },
       "data": [
        {
         "hovertemplate": "Year After 2013: %{text}<br>Market: %{y:,} million U.S dollars",
         "mode": "markers",
         "name": "Actual Market",
         "text": [
          "0",
          "1",
          "2",
          "3",
          "4",
          "5",
          "6",
          "7",
          "8",
          "9"
         ],
         "type": "scatter",
         "x": [
          2013,
          2014,
          2015,
          2016,
          2017,
          2018,
          2019,
          2020,
          2021,
          2022,
          2023
         ],
         "y": [
          70718,
          75631,
          79138,
          81468,
          86266,
          94909,
          96370,
          105248,
          110588,
          119825,
          126954
         ]
        },
        {
         "mode": "lines",
         "name": "Predicted Trend of Growth<br>(Regression(in millions):67466.364+5545.182x)<br>(R^2:0.977)",
         "type": "scatter",
         "x": [
          2013,
          2014,
          2015,
          2016,
          2017,
          2018,
          2019,
          2020,
          2021,
          2022,
          2023
         ],
         "y": [
          67466.36363636363,
          73011.54545454546,
          78556.72727272726,
          84101.90909090909,
          89647.09090909091,
          95192.27272727272,
          100737.45454545454,
          106282.63636363635,
          111827.81818181818,
          117373,
          122918.18181818181
         ]
        }
       ],
       "layout": {
        "annotations": [
         {
          "arrowcolor": "green",
          "arrowhead": 2,
          "arrowsize": 1,
          "arrowwidth": 2,
          "showarrow": true,
          "text": "Predicted Market for 2023",
          "x": 2023,
          "y": 126594
         }
        ],
        "template": {
         "data": {
          "bar": [
           {
            "error_x": {
             "color": "#2a3f5f"
            },
            "error_y": {
             "color": "#2a3f5f"
            },
            "marker": {
             "line": {
              "color": "#E5ECF6",
              "width": 0.5
             },
             "pattern": {
              "fillmode": "overlay",
              "size": 10,
              "solidity": 0.2
             }
            },
            "type": "bar"
           }
          ],
          "barpolar": [
           {
            "marker": {
             "line": {
              "color": "#E5ECF6",
              "width": 0.5
             },
             "pattern": {
              "fillmode": "overlay",
              "size": 10,
              "solidity": 0.2
             }
            },
            "type": "barpolar"
           }
          ],
          "carpet": [
           {
            "aaxis": {
             "endlinecolor": "#2a3f5f",
             "gridcolor": "white",
             "linecolor": "white",
             "minorgridcolor": "white",
             "startlinecolor": "#2a3f5f"
            },
            "baxis": {
             "endlinecolor": "#2a3f5f",
             "gridcolor": "white",
             "linecolor": "white",
             "minorgridcolor": "white",
             "startlinecolor": "#2a3f5f"
            },
            "type": "carpet"
           }
          ],
          "choropleth": [
           {
            "colorbar": {
             "outlinewidth": 0,
             "ticks": ""
            },
            "type": "choropleth"
           }
          ],
          "contour": [
           {
            "colorbar": {
             "outlinewidth": 0,
             "ticks": ""
            },
            "colorscale": [
             [
              0,
              "#0d0887"
             ],
             [
              0.1111111111111111,
              "#46039f"
             ],
             [
              0.2222222222222222,
              "#7201a8"
             ],
             [
              0.3333333333333333,
              "#9c179e"
             ],
             [
              0.4444444444444444,
              "#bd3786"
             ],
             [
              0.5555555555555556,
              "#d8576b"
             ],
             [
              0.6666666666666666,
              "#ed7953"
             ],
             [
              0.7777777777777778,
              "#fb9f3a"
             ],
             [
              0.8888888888888888,
              "#fdca26"
             ],
             [
              1,
              "#f0f921"
             ]
            ],
            "type": "contour"
           }
          ],
          "contourcarpet": [
           {
            "colorbar": {
             "outlinewidth": 0,
             "ticks": ""
            },
            "type": "contourcarpet"
           }
          ],
          "heatmap": [
           {
            "colorbar": {
             "outlinewidth": 0,
             "ticks": ""
            },
            "colorscale": [
             [
              0,
              "#0d0887"
             ],
             [
              0.1111111111111111,
              "#46039f"
             ],
             [
              0.2222222222222222,
              "#7201a8"
             ],
             [
              0.3333333333333333,
              "#9c179e"
             ],
             [
              0.4444444444444444,
              "#bd3786"
             ],
             [
              0.5555555555555556,
              "#d8576b"
             ],
             [
              0.6666666666666666,
              "#ed7953"
             ],
             [
              0.7777777777777778,
              "#fb9f3a"
             ],
             [
              0.8888888888888888,
              "#fdca26"
             ],
             [
              1,
              "#f0f921"
             ]
            ],
            "type": "heatmap"
           }
          ],
          "heatmapgl": [
           {
            "colorbar": {
             "outlinewidth": 0,
             "ticks": ""
            },
            "colorscale": [
             [
              0,
              "#0d0887"
             ],
             [
              0.1111111111111111,
              "#46039f"
             ],
             [
              0.2222222222222222,
              "#7201a8"
             ],
             [
              0.3333333333333333,
              "#9c179e"
             ],
             [
              0.4444444444444444,
              "#bd3786"
             ],
             [
              0.5555555555555556,
              "#d8576b"
             ],
             [
              0.6666666666666666,
              "#ed7953"
             ],
             [
              0.7777777777777778,
              "#fb9f3a"
             ],
             [
              0.8888888888888888,
              "#fdca26"
             ],
             [
              1,
              "#f0f921"
             ]
            ],
            "type": "heatmapgl"
           }
          ],
          "histogram": [
           {
            "marker": {
             "pattern": {
              "fillmode": "overlay",
              "size": 10,
              "solidity": 0.2
             }
            },
            "type": "histogram"
           }
          ],
          "histogram2d": [
           {
            "colorbar": {
             "outlinewidth": 0,
             "ticks": ""
            },
            "colorscale": [
             [
              0,
              "#0d0887"
             ],
             [
              0.1111111111111111,
              "#46039f"
             ],
             [
              0.2222222222222222,
              "#7201a8"
             ],
             [
              0.3333333333333333,
              "#9c179e"
             ],
             [
              0.4444444444444444,
              "#bd3786"
             ],
             [
              0.5555555555555556,
              "#d8576b"
             ],
             [
              0.6666666666666666,
              "#ed7953"
             ],
             [
              0.7777777777777778,
              "#fb9f3a"
             ],
             [
              0.8888888888888888,
              "#fdca26"
             ],
             [
              1,
              "#f0f921"
             ]
            ],
            "type": "histogram2d"
           }
          ],
          "histogram2dcontour": [
           {
            "colorbar": {
             "outlinewidth": 0,
             "ticks": ""
            },
            "colorscale": [
             [
              0,
              "#0d0887"
             ],
             [
              0.1111111111111111,
              "#46039f"
             ],
             [
              0.2222222222222222,
              "#7201a8"
             ],
             [
              0.3333333333333333,
              "#9c179e"
             ],
             [
              0.4444444444444444,
              "#bd3786"
             ],
             [
              0.5555555555555556,
              "#d8576b"
             ],
             [
              0.6666666666666666,
              "#ed7953"
             ],
             [
              0.7777777777777778,
              "#fb9f3a"
             ],
             [
              0.8888888888888888,
              "#fdca26"
             ],
             [
              1,
              "#f0f921"
             ]
            ],
            "type": "histogram2dcontour"
           }
          ],
          "mesh3d": [
           {
            "colorbar": {
             "outlinewidth": 0,
             "ticks": ""
            },
            "type": "mesh3d"
           }
          ],
          "parcoords": [
           {
            "line": {
             "colorbar": {
              "outlinewidth": 0,
              "ticks": ""
             }
            },
            "type": "parcoords"
           }
          ],
          "pie": [
           {
            "automargin": true,
            "type": "pie"
           }
          ],
          "scatter": [
           {
            "fillpattern": {
             "fillmode": "overlay",
             "size": 10,
             "solidity": 0.2
            },
            "type": "scatter"
           }
          ],
          "scatter3d": [
           {
            "line": {
             "colorbar": {
              "outlinewidth": 0,
              "ticks": ""
             }
            },
            "marker": {
             "colorbar": {
              "outlinewidth": 0,
              "ticks": ""
             }
            },
            "type": "scatter3d"
           }
          ],
          "scattercarpet": [
           {
            "marker": {
             "colorbar": {
              "outlinewidth": 0,
              "ticks": ""
             }
            },
            "type": "scattercarpet"
           }
          ],
          "scattergeo": [
           {
            "marker": {
             "colorbar": {
              "outlinewidth": 0,
              "ticks": ""
             }
            },
            "type": "scattergeo"
           }
          ],
          "scattergl": [
           {
            "marker": {
             "colorbar": {
              "outlinewidth": 0,
              "ticks": ""
             }
            },
            "type": "scattergl"
           }
          ],
          "scattermapbox": [
           {
            "marker": {
             "colorbar": {
              "outlinewidth": 0,
              "ticks": ""
             }
            },
            "type": "scattermapbox"
           }
          ],
          "scatterpolar": [
           {
            "marker": {
             "colorbar": {
              "outlinewidth": 0,
              "ticks": ""
             }
            },
            "type": "scatterpolar"
           }
          ],
          "scatterpolargl": [
           {
            "marker": {
             "colorbar": {
              "outlinewidth": 0,
              "ticks": ""
             }
            },
            "type": "scatterpolargl"
           }
          ],
          "scatterternary": [
           {
            "marker": {
             "colorbar": {
              "outlinewidth": 0,
              "ticks": ""
             }
            },
            "type": "scatterternary"
           }
          ],
          "surface": [
           {
            "colorbar": {
             "outlinewidth": 0,
             "ticks": ""
            },
            "colorscale": [
             [
              0,
              "#0d0887"
             ],
             [
              0.1111111111111111,
              "#46039f"
             ],
             [
              0.2222222222222222,
              "#7201a8"
             ],
             [
              0.3333333333333333,
              "#9c179e"
             ],
             [
              0.4444444444444444,
              "#bd3786"
             ],
             [
              0.5555555555555556,
              "#d8576b"
             ],
             [
              0.6666666666666666,
              "#ed7953"
             ],
             [
              0.7777777777777778,
              "#fb9f3a"
             ],
             [
              0.8888888888888888,
              "#fdca26"
             ],
             [
              1,
              "#f0f921"
             ]
            ],
            "type": "surface"
           }
          ],
          "table": [
           {
            "cells": {
             "fill": {
              "color": "#EBF0F8"
             },
             "line": {
              "color": "white"
             }
            },
            "header": {
             "fill": {
              "color": "#C8D4E3"
             },
             "line": {
              "color": "white"
             }
            },
            "type": "table"
           }
          ]
         },
         "layout": {
          "annotationdefaults": {
           "arrowcolor": "#2a3f5f",
           "arrowhead": 0,
           "arrowwidth": 1
          },
          "autotypenumbers": "strict",
          "coloraxis": {
           "colorbar": {
            "outlinewidth": 0,
            "ticks": ""
           }
          },
          "colorscale": {
           "diverging": [
            [
             0,
             "#8e0152"
            ],
            [
             0.1,
             "#c51b7d"
            ],
            [
             0.2,
             "#de77ae"
            ],
            [
             0.3,
             "#f1b6da"
            ],
            [
             0.4,
             "#fde0ef"
            ],
            [
             0.5,
             "#f7f7f7"
            ],
            [
             0.6,
             "#e6f5d0"
            ],
            [
             0.7,
             "#b8e186"
            ],
            [
             0.8,
             "#7fbc41"
            ],
            [
             0.9,
             "#4d9221"
            ],
            [
             1,
             "#276419"
            ]
           ],
           "sequential": [
            [
             0,
             "#0d0887"
            ],
            [
             0.1111111111111111,
             "#46039f"
            ],
            [
             0.2222222222222222,
             "#7201a8"
            ],
            [
             0.3333333333333333,
             "#9c179e"
            ],
            [
             0.4444444444444444,
             "#bd3786"
            ],
            [
             0.5555555555555556,
             "#d8576b"
            ],
            [
             0.6666666666666666,
             "#ed7953"
            ],
            [
             0.7777777777777778,
             "#fb9f3a"
            ],
            [
             0.8888888888888888,
             "#fdca26"
            ],
            [
             1,
             "#f0f921"
            ]
           ],
           "sequentialminus": [
            [
             0,
             "#0d0887"
            ],
            [
             0.1111111111111111,
             "#46039f"
            ],
            [
             0.2222222222222222,
             "#7201a8"
            ],
            [
             0.3333333333333333,
             "#9c179e"
            ],
            [
             0.4444444444444444,
             "#bd3786"
            ],
            [
             0.5555555555555556,
             "#d8576b"
            ],
            [
             0.6666666666666666,
             "#ed7953"
            ],
            [
             0.7777777777777778,
             "#fb9f3a"
            ],
            [
             0.8888888888888888,
             "#fdca26"
            ],
            [
             1,
             "#f0f921"
            ]
           ]
          },
          "colorway": [
           "#636efa",
           "#EF553B",
           "#00cc96",
           "#ab63fa",
           "#FFA15A",
           "#19d3f3",
           "#FF6692",
           "#B6E880",
           "#FF97FF",
           "#FECB52"
          ],
          "font": {
           "color": "#2a3f5f"
          },
          "geo": {
           "bgcolor": "white",
           "lakecolor": "white",
           "landcolor": "#E5ECF6",
           "showlakes": true,
           "showland": true,
           "subunitcolor": "white"
          },
          "hoverlabel": {
           "align": "left"
          },
          "hovermode": "closest",
          "mapbox": {
           "style": "light"
          },
          "paper_bgcolor": "white",
          "plot_bgcolor": "#E5ECF6",
          "polar": {
           "angularaxis": {
            "gridcolor": "white",
            "linecolor": "white",
            "ticks": ""
           },
           "bgcolor": "#E5ECF6",
           "radialaxis": {
            "gridcolor": "white",
            "linecolor": "white",
            "ticks": ""
           }
          },
          "scene": {
           "xaxis": {
            "backgroundcolor": "#E5ECF6",
            "gridcolor": "white",
            "gridwidth": 2,
            "linecolor": "white",
            "showbackground": true,
            "ticks": "",
            "zerolinecolor": "white"
           },
           "yaxis": {
            "backgroundcolor": "#E5ECF6",
            "gridcolor": "white",
            "gridwidth": 2,
            "linecolor": "white",
            "showbackground": true,
            "ticks": "",
            "zerolinecolor": "white"
           },
           "zaxis": {
            "backgroundcolor": "#E5ECF6",
            "gridcolor": "white",
            "gridwidth": 2,
            "linecolor": "white",
            "showbackground": true,
            "ticks": "",
            "zerolinecolor": "white"
           }
          },
          "shapedefaults": {
           "line": {
            "color": "#2a3f5f"
           }
          },
          "ternary": {
           "aaxis": {
            "gridcolor": "white",
            "linecolor": "white",
            "ticks": ""
           },
           "baxis": {
            "gridcolor": "white",
            "linecolor": "white",
            "ticks": ""
           },
           "bgcolor": "#E5ECF6",
           "caxis": {
            "gridcolor": "white",
            "linecolor": "white",
            "ticks": ""
           }
          },
          "title": {
           "x": 0.05
          },
          "xaxis": {
           "automargin": true,
           "gridcolor": "white",
           "linecolor": "white",
           "ticks": "",
           "title": {
            "standoff": 15
           },
           "zerolinecolor": "white",
           "zerolinewidth": 2
          },
          "yaxis": {
           "automargin": true,
           "gridcolor": "white",
           "linecolor": "white",
           "ticks": "",
           "title": {
            "standoff": 15
           },
           "zerolinecolor": "white",
           "zerolinewidth": 2
          }
         }
        },
        "title": {
         "text": "Increasing Growth of Translation"
        },
        "xaxis": {
         "title": {
          "text": "Year"
         }
        },
        "yaxis": {
         "title": {
          "text": "Amount of Employyes in the Translator Industry"
         }
        }
       }
      }
     },
     "metadata": {},
     "output_type": "display_data"
    },
    {
     "data": {
      "application/vnd.plotly.v1+json": {
       "config": {
        "plotlyServerURL": "https://plotly.com"
       },
       "data": [
        {
         "hovertemplate": "Year: %{x:,}<br>Growth of Employment: %{y:,} thousand employees",
         "mode": "markers",
         "type": "scatter",
         "x": [
          2014,
          2015,
          2016,
          2017,
          2018,
          2019,
          2020,
          2021,
          2022,
          2023
         ],
         "y": [
          4913,
          3507,
          2330,
          4798,
          8643,
          1461,
          8878,
          5340,
          9237,
          7129
         ]
        }
       ],
       "layout": {
        "annotations": [
         {
          "arrowcolor": "green",
          "arrowhead": 2,
          "arrowsize": 1,
          "arrowwidth": 2,
          "showarrow": true,
          "text": "Predicted Growth for 2023",
          "x": 2023,
          "y": 7129
         }
        ],
        "template": {
         "data": {
          "bar": [
           {
            "error_x": {
             "color": "#2a3f5f"
            },
            "error_y": {
             "color": "#2a3f5f"
            },
            "marker": {
             "line": {
              "color": "#E5ECF6",
              "width": 0.5
             },
             "pattern": {
              "fillmode": "overlay",
              "size": 10,
              "solidity": 0.2
             }
            },
            "type": "bar"
           }
          ],
          "barpolar": [
           {
            "marker": {
             "line": {
              "color": "#E5ECF6",
              "width": 0.5
             },
             "pattern": {
              "fillmode": "overlay",
              "size": 10,
              "solidity": 0.2
             }
            },
            "type": "barpolar"
           }
          ],
          "carpet": [
           {
            "aaxis": {
             "endlinecolor": "#2a3f5f",
             "gridcolor": "white",
             "linecolor": "white",
             "minorgridcolor": "white",
             "startlinecolor": "#2a3f5f"
            },
            "baxis": {
             "endlinecolor": "#2a3f5f",
             "gridcolor": "white",
             "linecolor": "white",
             "minorgridcolor": "white",
             "startlinecolor": "#2a3f5f"
            },
            "type": "carpet"
           }
          ],
          "choropleth": [
           {
            "colorbar": {
             "outlinewidth": 0,
             "ticks": ""
            },
            "type": "choropleth"
           }
          ],
          "contour": [
           {
            "colorbar": {
             "outlinewidth": 0,
             "ticks": ""
            },
            "colorscale": [
             [
              0,
              "#0d0887"
             ],
             [
              0.1111111111111111,
              "#46039f"
             ],
             [
              0.2222222222222222,
              "#7201a8"
             ],
             [
              0.3333333333333333,
              "#9c179e"
             ],
             [
              0.4444444444444444,
              "#bd3786"
             ],
             [
              0.5555555555555556,
              "#d8576b"
             ],
             [
              0.6666666666666666,
              "#ed7953"
             ],
             [
              0.7777777777777778,
              "#fb9f3a"
             ],
             [
              0.8888888888888888,
              "#fdca26"
             ],
             [
              1,
              "#f0f921"
             ]
            ],
            "type": "contour"
           }
          ],
          "contourcarpet": [
           {
            "colorbar": {
             "outlinewidth": 0,
             "ticks": ""
            },
            "type": "contourcarpet"
           }
          ],
          "heatmap": [
           {
            "colorbar": {
             "outlinewidth": 0,
             "ticks": ""
            },
            "colorscale": [
             [
              0,
              "#0d0887"
             ],
             [
              0.1111111111111111,
              "#46039f"
             ],
             [
              0.2222222222222222,
              "#7201a8"
             ],
             [
              0.3333333333333333,
              "#9c179e"
             ],
             [
              0.4444444444444444,
              "#bd3786"
             ],
             [
              0.5555555555555556,
              "#d8576b"
             ],
             [
              0.6666666666666666,
              "#ed7953"
             ],
             [
              0.7777777777777778,
              "#fb9f3a"
             ],
             [
              0.8888888888888888,
              "#fdca26"
             ],
             [
              1,
              "#f0f921"
             ]
            ],
            "type": "heatmap"
           }
          ],
          "heatmapgl": [
           {
            "colorbar": {
             "outlinewidth": 0,
             "ticks": ""
            },
            "colorscale": [
             [
              0,
              "#0d0887"
             ],
             [
              0.1111111111111111,
              "#46039f"
             ],
             [
              0.2222222222222222,
              "#7201a8"
             ],
             [
              0.3333333333333333,
              "#9c179e"
             ],
             [
              0.4444444444444444,
              "#bd3786"
             ],
             [
              0.5555555555555556,
              "#d8576b"
             ],
             [
              0.6666666666666666,
              "#ed7953"
             ],
             [
              0.7777777777777778,
              "#fb9f3a"
             ],
             [
              0.8888888888888888,
              "#fdca26"
             ],
             [
              1,
              "#f0f921"
             ]
            ],
            "type": "heatmapgl"
           }
          ],
          "histogram": [
           {
            "marker": {
             "pattern": {
              "fillmode": "overlay",
              "size": 10,
              "solidity": 0.2
             }
            },
            "type": "histogram"
           }
          ],
          "histogram2d": [
           {
            "colorbar": {
             "outlinewidth": 0,
             "ticks": ""
            },
            "colorscale": [
             [
              0,
              "#0d0887"
             ],
             [
              0.1111111111111111,
              "#46039f"
             ],
             [
              0.2222222222222222,
              "#7201a8"
             ],
             [
              0.3333333333333333,
              "#9c179e"
             ],
             [
              0.4444444444444444,
              "#bd3786"
             ],
             [
              0.5555555555555556,
              "#d8576b"
             ],
             [
              0.6666666666666666,
              "#ed7953"
             ],
             [
              0.7777777777777778,
              "#fb9f3a"
             ],
             [
              0.8888888888888888,
              "#fdca26"
             ],
             [
              1,
              "#f0f921"
             ]
            ],
            "type": "histogram2d"
           }
          ],
          "histogram2dcontour": [
           {
            "colorbar": {
             "outlinewidth": 0,
             "ticks": ""
            },
            "colorscale": [
             [
              0,
              "#0d0887"
             ],
             [
              0.1111111111111111,
              "#46039f"
             ],
             [
              0.2222222222222222,
              "#7201a8"
             ],
             [
              0.3333333333333333,
              "#9c179e"
             ],
             [
              0.4444444444444444,
              "#bd3786"
             ],
             [
              0.5555555555555556,
              "#d8576b"
             ],
             [
              0.6666666666666666,
              "#ed7953"
             ],
             [
              0.7777777777777778,
              "#fb9f3a"
             ],
             [
              0.8888888888888888,
              "#fdca26"
             ],
             [
              1,
              "#f0f921"
             ]
            ],
            "type": "histogram2dcontour"
           }
          ],
          "mesh3d": [
           {
            "colorbar": {
             "outlinewidth": 0,
             "ticks": ""
            },
            "type": "mesh3d"
           }
          ],
          "parcoords": [
           {
            "line": {
             "colorbar": {
              "outlinewidth": 0,
              "ticks": ""
             }
            },
            "type": "parcoords"
           }
          ],
          "pie": [
           {
            "automargin": true,
            "type": "pie"
           }
          ],
          "scatter": [
           {
            "fillpattern": {
             "fillmode": "overlay",
             "size": 10,
             "solidity": 0.2
            },
            "type": "scatter"
           }
          ],
          "scatter3d": [
           {
            "line": {
             "colorbar": {
              "outlinewidth": 0,
              "ticks": ""
             }
            },
            "marker": {
             "colorbar": {
              "outlinewidth": 0,
              "ticks": ""
             }
            },
            "type": "scatter3d"
           }
          ],
          "scattercarpet": [
           {
            "marker": {
             "colorbar": {
              "outlinewidth": 0,
              "ticks": ""
             }
            },
            "type": "scattercarpet"
           }
          ],
          "scattergeo": [
           {
            "marker": {
             "colorbar": {
              "outlinewidth": 0,
              "ticks": ""
             }
            },
            "type": "scattergeo"
           }
          ],
          "scattergl": [
           {
            "marker": {
             "colorbar": {
              "outlinewidth": 0,
              "ticks": ""
             }
            },
            "type": "scattergl"
           }
          ],
          "scattermapbox": [
           {
            "marker": {
             "colorbar": {
              "outlinewidth": 0,
              "ticks": ""
             }
            },
            "type": "scattermapbox"
           }
          ],
          "scatterpolar": [
           {
            "marker": {
             "colorbar": {
              "outlinewidth": 0,
              "ticks": ""
             }
            },
            "type": "scatterpolar"
           }
          ],
          "scatterpolargl": [
           {
            "marker": {
             "colorbar": {
              "outlinewidth": 0,
              "ticks": ""
             }
            },
            "type": "scatterpolargl"
           }
          ],
          "scatterternary": [
           {
            "marker": {
             "colorbar": {
              "outlinewidth": 0,
              "ticks": ""
             }
            },
            "type": "scatterternary"
           }
          ],
          "surface": [
           {
            "colorbar": {
             "outlinewidth": 0,
             "ticks": ""
            },
            "colorscale": [
             [
              0,
              "#0d0887"
             ],
             [
              0.1111111111111111,
              "#46039f"
             ],
             [
              0.2222222222222222,
              "#7201a8"
             ],
             [
              0.3333333333333333,
              "#9c179e"
             ],
             [
              0.4444444444444444,
              "#bd3786"
             ],
             [
              0.5555555555555556,
              "#d8576b"
             ],
             [
              0.6666666666666666,
              "#ed7953"
             ],
             [
              0.7777777777777778,
              "#fb9f3a"
             ],
             [
              0.8888888888888888,
              "#fdca26"
             ],
             [
              1,
              "#f0f921"
             ]
            ],
            "type": "surface"
           }
          ],
          "table": [
           {
            "cells": {
             "fill": {
              "color": "#EBF0F8"
             },
             "line": {
              "color": "white"
             }
            },
            "header": {
             "fill": {
              "color": "#C8D4E3"
             },
             "line": {
              "color": "white"
             }
            },
            "type": "table"
           }
          ]
         },
         "layout": {
          "annotationdefaults": {
           "arrowcolor": "#2a3f5f",
           "arrowhead": 0,
           "arrowwidth": 1
          },
          "autotypenumbers": "strict",
          "coloraxis": {
           "colorbar": {
            "outlinewidth": 0,
            "ticks": ""
           }
          },
          "colorscale": {
           "diverging": [
            [
             0,
             "#8e0152"
            ],
            [
             0.1,
             "#c51b7d"
            ],
            [
             0.2,
             "#de77ae"
            ],
            [
             0.3,
             "#f1b6da"
            ],
            [
             0.4,
             "#fde0ef"
            ],
            [
             0.5,
             "#f7f7f7"
            ],
            [
             0.6,
             "#e6f5d0"
            ],
            [
             0.7,
             "#b8e186"
            ],
            [
             0.8,
             "#7fbc41"
            ],
            [
             0.9,
             "#4d9221"
            ],
            [
             1,
             "#276419"
            ]
           ],
           "sequential": [
            [
             0,
             "#0d0887"
            ],
            [
             0.1111111111111111,
             "#46039f"
            ],
            [
             0.2222222222222222,
             "#7201a8"
            ],
            [
             0.3333333333333333,
             "#9c179e"
            ],
            [
             0.4444444444444444,
             "#bd3786"
            ],
            [
             0.5555555555555556,
             "#d8576b"
            ],
            [
             0.6666666666666666,
             "#ed7953"
            ],
            [
             0.7777777777777778,
             "#fb9f3a"
            ],
            [
             0.8888888888888888,
             "#fdca26"
            ],
            [
             1,
             "#f0f921"
            ]
           ],
           "sequentialminus": [
            [
             0,
             "#0d0887"
            ],
            [
             0.1111111111111111,
             "#46039f"
            ],
            [
             0.2222222222222222,
             "#7201a8"
            ],
            [
             0.3333333333333333,
             "#9c179e"
            ],
            [
             0.4444444444444444,
             "#bd3786"
            ],
            [
             0.5555555555555556,
             "#d8576b"
            ],
            [
             0.6666666666666666,
             "#ed7953"
            ],
            [
             0.7777777777777778,
             "#fb9f3a"
            ],
            [
             0.8888888888888888,
             "#fdca26"
            ],
            [
             1,
             "#f0f921"
            ]
           ]
          },
          "colorway": [
           "#636efa",
           "#EF553B",
           "#00cc96",
           "#ab63fa",
           "#FFA15A",
           "#19d3f3",
           "#FF6692",
           "#B6E880",
           "#FF97FF",
           "#FECB52"
          ],
          "font": {
           "color": "#2a3f5f"
          },
          "geo": {
           "bgcolor": "white",
           "lakecolor": "white",
           "landcolor": "#E5ECF6",
           "showlakes": true,
           "showland": true,
           "subunitcolor": "white"
          },
          "hoverlabel": {
           "align": "left"
          },
          "hovermode": "closest",
          "mapbox": {
           "style": "light"
          },
          "paper_bgcolor": "white",
          "plot_bgcolor": "#E5ECF6",
          "polar": {
           "angularaxis": {
            "gridcolor": "white",
            "linecolor": "white",
            "ticks": ""
           },
           "bgcolor": "#E5ECF6",
           "radialaxis": {
            "gridcolor": "white",
            "linecolor": "white",
            "ticks": ""
           }
          },
          "scene": {
           "xaxis": {
            "backgroundcolor": "#E5ECF6",
            "gridcolor": "white",
            "gridwidth": 2,
            "linecolor": "white",
            "showbackground": true,
            "ticks": "",
            "zerolinecolor": "white"
           },
           "yaxis": {
            "backgroundcolor": "#E5ECF6",
            "gridcolor": "white",
            "gridwidth": 2,
            "linecolor": "white",
            "showbackground": true,
            "ticks": "",
            "zerolinecolor": "white"
           },
           "zaxis": {
            "backgroundcolor": "#E5ECF6",
            "gridcolor": "white",
            "gridwidth": 2,
            "linecolor": "white",
            "showbackground": true,
            "ticks": "",
            "zerolinecolor": "white"
           }
          },
          "shapedefaults": {
           "line": {
            "color": "#2a3f5f"
           }
          },
          "ternary": {
           "aaxis": {
            "gridcolor": "white",
            "linecolor": "white",
            "ticks": ""
           },
           "baxis": {
            "gridcolor": "white",
            "linecolor": "white",
            "ticks": ""
           },
           "bgcolor": "#E5ECF6",
           "caxis": {
            "gridcolor": "white",
            "linecolor": "white",
            "ticks": ""
           }
          },
          "title": {
           "x": 0.05
          },
          "xaxis": {
           "automargin": true,
           "gridcolor": "white",
           "linecolor": "white",
           "ticks": "",
           "title": {
            "standoff": 15
           },
           "zerolinecolor": "white",
           "zerolinewidth": 2
          },
          "yaxis": {
           "automargin": true,
           "gridcolor": "white",
           "linecolor": "white",
           "ticks": "",
           "title": {
            "standoff": 15
           },
           "zerolinecolor": "white",
           "zerolinewidth": 2
          }
         }
        },
        "title": {
         "text": "Growth For Each Previous Year"
        },
        "xaxis": {
         "title": {
          "text": "Year"
         }
        },
        "yaxis": {
         "title": {
          "text": "Employment Growth after Each Previous Year"
         }
        }
       }
      }
     },
     "metadata": {},
     "output_type": "display_data"
    },
    {
     "data": {
      "text/plain": [
       "'https://plotly.com/~NRswift/214/'"
      ]
     },
     "execution_count": 9,
     "metadata": {},
     "output_type": "execute_result"
    }
   ],
   "source": [
    "import chart_studio\n",
    "username='NRswift'\n",
    "api_key='G1eDL1Naj4DsaqGtJSYz'\n",
    "chart_studio.tools.set_credentials_file(username=username, api_key=api_key)\n",
    "import pandas as pd\n",
    "import numpy as np\n",
    "import csv\n",
    "import chart_studio.plotly as py\n",
    "import plotly.graph_objects as go\n",
    "import math\n",
    "year = []\n",
    "employees = []\n",
    "\n",
    "with open('language.csv', 'r') as a:\n",
    "    dataFour = csv.reader(a, delimiter=',')\n",
    "    for rowsFour in dataFour:\n",
    "        year.append(int(rowsFour[0]))\n",
    "        employees.append(int(rowsFour[1]))\n",
    "        \n",
    "\n",
    "def linearRegressionConstants(arrOne, arrTwo):\n",
    "    sumOne = sum(arrTwo)\n",
    "    sumTwo = sum(i ** 2 for i in arrOne)\n",
    "    sumThree = sum(arrOne)\n",
    "    sumFour = 0\n",
    "    for i in range(0, 11):\n",
    "        sumFour += arrOne[i] * arrTwo[i] \n",
    "    aConstant = (sumOne * sumTwo - sumThree * sumFour)/((11*sumTwo) - (sumThree ** 2))\n",
    "    bConstant = ((11*sumFour) - (sumThree * sumOne))/((11*sumTwo) - (sumThree ** 2))\n",
    "    return aConstant, (bConstant)\n",
    "\n",
    "yearsAfterYear = [0,1,2,3,4,5,6,7,8,9,10]\n",
    "f = linearRegressionConstants(yearsAfterYear, employees)\n",
    "yearsAfterYearCharacters = [\"0\",\"1\",\"2\",\"3\",\"4\",\"5\",\"6\",\"7\",\"8\",\"9\"]\n",
    "fig = go.Figure()\n",
    "fig.add_trace(go.Scatter(x = year, y=employees, text = yearsAfterYearCharacters, name = \"Actual Market\", mode='markers',\n",
    "                         hovertemplate = \"Year After 2013: %{text}<br>Market: %{y:,} million U.S dollars\",))\n",
    "aOne = []\n",
    "for i in range(2013, 2024):\n",
    "    aOne.append(i)\n",
    "aTwo = []\n",
    "for i in range(0, 11):\n",
    "    aTwo.append(f[0] + f[1] * i)\n",
    "def findRSquared(arrOne, arrTwo):\n",
    "    sumOne = 0\n",
    "    sumTwo = 0\n",
    "    avgOne = sum(arrTwo)/11\n",
    "    \n",
    "    for i in range(11):\n",
    "       sumOne += ((arrTwo[i] - avgOne)**2)\n",
    "       sumTwo += ((arrTwo[i] - (f[0] + f[1] * arrOne[i]))**2)\n",
    "    return 1 - sumTwo/sumOne\n",
    "\n",
    "fig.add_trace(go.Scatter(x = aOne, y = aTwo, mode = \"lines\", name = \"Predicted Trend of Growth<br>(Regression(in millions):\"\n",
    "                         + str(round(f[0], 3)) + \"+\" + str(round(f[1], 3)) + \"x\" + \")<br>(R^2:\" + \n",
    "                         str(round(findRSquared(yearsAfterYear, employees), 3)) + \")\"))\n",
    "differences = []\n",
    "for i in range(0, 10):\n",
    "    differences.append(int(employees[i + 1] - employees[i]))\n",
    "figTwo = go.Figure()\n",
    "ye = [2014,2015,2016,2017,2018,2019,2020,2021,2022,2023]\n",
    "figTwo.add_trace(go.Scatter(x = ye, y = differences, mode = \"markers\",hovertemplate = \"Year: %{x:,}<br>Growth of Employment: %{y:,} thousand employees\",))\n",
    "fig.update_layout(\n",
    "    xaxis={'title':'Year'},\n",
    "    yaxis={'title':'Amount of Employyes in the Translator Industry'}, \n",
    "    title = dict(text = \"Increasing Growth of Translation\"))\n",
    "figTwo.update_layout(\n",
    "    xaxis={'title':'Year'},\n",
    "    yaxis={'title':'Employment Growth after Each Previous Year'}, \n",
    "    title = dict(text = \"Growth For Each Previous Year\"))\n",
    "fig.add_annotation(\n",
    "    x=2023, y=126594, # position\n",
    "    text=\"Predicted Market for 2023\", # text\n",
    "    showarrow=True,\n",
    "    arrowhead=2,\n",
    "    arrowsize=1,\n",
    "    arrowwidth=2,\n",
    "    arrowcolor=\"green\")\n",
    "figTwo.add_annotation(\n",
    "    x=2023, y=7129, # position\n",
    "    text=\"Predicted Growth for 2023\", # text\n",
    "    showarrow=True,\n",
    "    arrowhead=2,\n",
    "    arrowsize=1,\n",
    "    arrowwidth=2,\n",
    "    arrowcolor=\"green\")\n",
    "\n",
    "fig.show()\n",
    "figTwo.show()\n",
    "py.plot(fig, filename=\"lg_ts\", auto_open = True)\n",
    "py.plot(figTwo, filename=\"lg_ts_growth\", auto_open = True)\n"
   ]
  },
  {
   "cell_type": "code",
   "execution_count": 4,
   "metadata": {},
   "outputs": [
    {
     "name": "stdout",
     "output_type": "stream",
     "text": [
      "['New Mexico,Arizona', 'Wyoming,West Virginia,Kentucky,Montana,Arkansas,Alabama,Indiana,North Dakota,Idaho,Missouri,Colorado,Nebraska,Wisconsin', 'Oregon', 'Vermont,Maine,New Hampshire,North Carolina,Louisiana,Maryland,South Carolina', 'Hawaii', 'Texas,Oklahoma,Mississippi', 'Delaware,Washington,California,Kansas,Pennsylvania,New York', 'Georgia,Virginia', 'Tennessee,Iowa,Michigan,Ohio', 'Alaska', 'Nevada', 'South Dakota', 'Rhode Island,Utah,Massachusetts,New Jersey,Connecticut', 'Florida', 'Illinois', 'Minnesota']\n"
     ]
    },
    {
     "data": {
      "application/vnd.plotly.v1+json": {
       "config": {
        "plotlyServerURL": "https://plotly.com"
       },
       "data": [
        {
         "hovertemplate": "Language: %{x}<br>States: %{text}",
         "text": [
          "New Mexico,Arizona",
          "Wyoming,West Virginia,Kentucky,Montana,Arkansas,Alabama,Indiana,North Dakota,Idaho,Missouri,Colorado,Nebraska,Wisconsin",
          "Oregon",
          "Vermont,Maine,New Hampshire,North Carolina,Louisiana,Maryland,South Carolina",
          "Hawaii",
          "Texas,Oklahoma,Mississippi",
          "Delaware,Washington,California,Kansas,Pennsylvania,New York",
          "Georgia,Virginia",
          "Tennessee,Iowa,Michigan,Ohio",
          "Alaska",
          "Nevada",
          "South Dakota",
          "Rhode Island,Utah,Massachusetts,New Jersey,Connecticut",
          "Florida",
          "Illinois",
          "Minnesota"
         ],
         "type": "bar",
         "x": [
          "Navajo",
          "German",
          "Russian",
          "French",
          "Japanese",
          "Vietnamese",
          "Chinese",
          "Korean",
          "Arabic",
          "Aleut Languages",
          "Tagalog",
          "Dakota Languages",
          "Portuguese",
          "Haitian",
          "Polish",
          "Hmong"
         ],
         "y": [
          2,
          13,
          1,
          7,
          1,
          3,
          6,
          2,
          4,
          1,
          1,
          1,
          5,
          1,
          1,
          1
         ]
        }
       ],
       "layout": {
        "template": {
         "data": {
          "bar": [
           {
            "error_x": {
             "color": "#2a3f5f"
            },
            "error_y": {
             "color": "#2a3f5f"
            },
            "marker": {
             "line": {
              "color": "#E5ECF6",
              "width": 0.5
             },
             "pattern": {
              "fillmode": "overlay",
              "size": 10,
              "solidity": 0.2
             }
            },
            "type": "bar"
           }
          ],
          "barpolar": [
           {
            "marker": {
             "line": {
              "color": "#E5ECF6",
              "width": 0.5
             },
             "pattern": {
              "fillmode": "overlay",
              "size": 10,
              "solidity": 0.2
             }
            },
            "type": "barpolar"
           }
          ],
          "carpet": [
           {
            "aaxis": {
             "endlinecolor": "#2a3f5f",
             "gridcolor": "white",
             "linecolor": "white",
             "minorgridcolor": "white",
             "startlinecolor": "#2a3f5f"
            },
            "baxis": {
             "endlinecolor": "#2a3f5f",
             "gridcolor": "white",
             "linecolor": "white",
             "minorgridcolor": "white",
             "startlinecolor": "#2a3f5f"
            },
            "type": "carpet"
           }
          ],
          "choropleth": [
           {
            "colorbar": {
             "outlinewidth": 0,
             "ticks": ""
            },
            "type": "choropleth"
           }
          ],
          "contour": [
           {
            "colorbar": {
             "outlinewidth": 0,
             "ticks": ""
            },
            "colorscale": [
             [
              0,
              "#0d0887"
             ],
             [
              0.1111111111111111,
              "#46039f"
             ],
             [
              0.2222222222222222,
              "#7201a8"
             ],
             [
              0.3333333333333333,
              "#9c179e"
             ],
             [
              0.4444444444444444,
              "#bd3786"
             ],
             [
              0.5555555555555556,
              "#d8576b"
             ],
             [
              0.6666666666666666,
              "#ed7953"
             ],
             [
              0.7777777777777778,
              "#fb9f3a"
             ],
             [
              0.8888888888888888,
              "#fdca26"
             ],
             [
              1,
              "#f0f921"
             ]
            ],
            "type": "contour"
           }
          ],
          "contourcarpet": [
           {
            "colorbar": {
             "outlinewidth": 0,
             "ticks": ""
            },
            "type": "contourcarpet"
           }
          ],
          "heatmap": [
           {
            "colorbar": {
             "outlinewidth": 0,
             "ticks": ""
            },
            "colorscale": [
             [
              0,
              "#0d0887"
             ],
             [
              0.1111111111111111,
              "#46039f"
             ],
             [
              0.2222222222222222,
              "#7201a8"
             ],
             [
              0.3333333333333333,
              "#9c179e"
             ],
             [
              0.4444444444444444,
              "#bd3786"
             ],
             [
              0.5555555555555556,
              "#d8576b"
             ],
             [
              0.6666666666666666,
              "#ed7953"
             ],
             [
              0.7777777777777778,
              "#fb9f3a"
             ],
             [
              0.8888888888888888,
              "#fdca26"
             ],
             [
              1,
              "#f0f921"
             ]
            ],
            "type": "heatmap"
           }
          ],
          "heatmapgl": [
           {
            "colorbar": {
             "outlinewidth": 0,
             "ticks": ""
            },
            "colorscale": [
             [
              0,
              "#0d0887"
             ],
             [
              0.1111111111111111,
              "#46039f"
             ],
             [
              0.2222222222222222,
              "#7201a8"
             ],
             [
              0.3333333333333333,
              "#9c179e"
             ],
             [
              0.4444444444444444,
              "#bd3786"
             ],
             [
              0.5555555555555556,
              "#d8576b"
             ],
             [
              0.6666666666666666,
              "#ed7953"
             ],
             [
              0.7777777777777778,
              "#fb9f3a"
             ],
             [
              0.8888888888888888,
              "#fdca26"
             ],
             [
              1,
              "#f0f921"
             ]
            ],
            "type": "heatmapgl"
           }
          ],
          "histogram": [
           {
            "marker": {
             "pattern": {
              "fillmode": "overlay",
              "size": 10,
              "solidity": 0.2
             }
            },
            "type": "histogram"
           }
          ],
          "histogram2d": [
           {
            "colorbar": {
             "outlinewidth": 0,
             "ticks": ""
            },
            "colorscale": [
             [
              0,
              "#0d0887"
             ],
             [
              0.1111111111111111,
              "#46039f"
             ],
             [
              0.2222222222222222,
              "#7201a8"
             ],
             [
              0.3333333333333333,
              "#9c179e"
             ],
             [
              0.4444444444444444,
              "#bd3786"
             ],
             [
              0.5555555555555556,
              "#d8576b"
             ],
             [
              0.6666666666666666,
              "#ed7953"
             ],
             [
              0.7777777777777778,
              "#fb9f3a"
             ],
             [
              0.8888888888888888,
              "#fdca26"
             ],
             [
              1,
              "#f0f921"
             ]
            ],
            "type": "histogram2d"
           }
          ],
          "histogram2dcontour": [
           {
            "colorbar": {
             "outlinewidth": 0,
             "ticks": ""
            },
            "colorscale": [
             [
              0,
              "#0d0887"
             ],
             [
              0.1111111111111111,
              "#46039f"
             ],
             [
              0.2222222222222222,
              "#7201a8"
             ],
             [
              0.3333333333333333,
              "#9c179e"
             ],
             [
              0.4444444444444444,
              "#bd3786"
             ],
             [
              0.5555555555555556,
              "#d8576b"
             ],
             [
              0.6666666666666666,
              "#ed7953"
             ],
             [
              0.7777777777777778,
              "#fb9f3a"
             ],
             [
              0.8888888888888888,
              "#fdca26"
             ],
             [
              1,
              "#f0f921"
             ]
            ],
            "type": "histogram2dcontour"
           }
          ],
          "mesh3d": [
           {
            "colorbar": {
             "outlinewidth": 0,
             "ticks": ""
            },
            "type": "mesh3d"
           }
          ],
          "parcoords": [
           {
            "line": {
             "colorbar": {
              "outlinewidth": 0,
              "ticks": ""
             }
            },
            "type": "parcoords"
           }
          ],
          "pie": [
           {
            "automargin": true,
            "type": "pie"
           }
          ],
          "scatter": [
           {
            "fillpattern": {
             "fillmode": "overlay",
             "size": 10,
             "solidity": 0.2
            },
            "type": "scatter"
           }
          ],
          "scatter3d": [
           {
            "line": {
             "colorbar": {
              "outlinewidth": 0,
              "ticks": ""
             }
            },
            "marker": {
             "colorbar": {
              "outlinewidth": 0,
              "ticks": ""
             }
            },
            "type": "scatter3d"
           }
          ],
          "scattercarpet": [
           {
            "marker": {
             "colorbar": {
              "outlinewidth": 0,
              "ticks": ""
             }
            },
            "type": "scattercarpet"
           }
          ],
          "scattergeo": [
           {
            "marker": {
             "colorbar": {
              "outlinewidth": 0,
              "ticks": ""
             }
            },
            "type": "scattergeo"
           }
          ],
          "scattergl": [
           {
            "marker": {
             "colorbar": {
              "outlinewidth": 0,
              "ticks": ""
             }
            },
            "type": "scattergl"
           }
          ],
          "scattermapbox": [
           {
            "marker": {
             "colorbar": {
              "outlinewidth": 0,
              "ticks": ""
             }
            },
            "type": "scattermapbox"
           }
          ],
          "scatterpolar": [
           {
            "marker": {
             "colorbar": {
              "outlinewidth": 0,
              "ticks": ""
             }
            },
            "type": "scatterpolar"
           }
          ],
          "scatterpolargl": [
           {
            "marker": {
             "colorbar": {
              "outlinewidth": 0,
              "ticks": ""
             }
            },
            "type": "scatterpolargl"
           }
          ],
          "scatterternary": [
           {
            "marker": {
             "colorbar": {
              "outlinewidth": 0,
              "ticks": ""
             }
            },
            "type": "scatterternary"
           }
          ],
          "surface": [
           {
            "colorbar": {
             "outlinewidth": 0,
             "ticks": ""
            },
            "colorscale": [
             [
              0,
              "#0d0887"
             ],
             [
              0.1111111111111111,
              "#46039f"
             ],
             [
              0.2222222222222222,
              "#7201a8"
             ],
             [
              0.3333333333333333,
              "#9c179e"
             ],
             [
              0.4444444444444444,
              "#bd3786"
             ],
             [
              0.5555555555555556,
              "#d8576b"
             ],
             [
              0.6666666666666666,
              "#ed7953"
             ],
             [
              0.7777777777777778,
              "#fb9f3a"
             ],
             [
              0.8888888888888888,
              "#fdca26"
             ],
             [
              1,
              "#f0f921"
             ]
            ],
            "type": "surface"
           }
          ],
          "table": [
           {
            "cells": {
             "fill": {
              "color": "#EBF0F8"
             },
             "line": {
              "color": "white"
             }
            },
            "header": {
             "fill": {
              "color": "#C8D4E3"
             },
             "line": {
              "color": "white"
             }
            },
            "type": "table"
           }
          ]
         },
         "layout": {
          "annotationdefaults": {
           "arrowcolor": "#2a3f5f",
           "arrowhead": 0,
           "arrowwidth": 1
          },
          "autotypenumbers": "strict",
          "coloraxis": {
           "colorbar": {
            "outlinewidth": 0,
            "ticks": ""
           }
          },
          "colorscale": {
           "diverging": [
            [
             0,
             "#8e0152"
            ],
            [
             0.1,
             "#c51b7d"
            ],
            [
             0.2,
             "#de77ae"
            ],
            [
             0.3,
             "#f1b6da"
            ],
            [
             0.4,
             "#fde0ef"
            ],
            [
             0.5,
             "#f7f7f7"
            ],
            [
             0.6,
             "#e6f5d0"
            ],
            [
             0.7,
             "#b8e186"
            ],
            [
             0.8,
             "#7fbc41"
            ],
            [
             0.9,
             "#4d9221"
            ],
            [
             1,
             "#276419"
            ]
           ],
           "sequential": [
            [
             0,
             "#0d0887"
            ],
            [
             0.1111111111111111,
             "#46039f"
            ],
            [
             0.2222222222222222,
             "#7201a8"
            ],
            [
             0.3333333333333333,
             "#9c179e"
            ],
            [
             0.4444444444444444,
             "#bd3786"
            ],
            [
             0.5555555555555556,
             "#d8576b"
            ],
            [
             0.6666666666666666,
             "#ed7953"
            ],
            [
             0.7777777777777778,
             "#fb9f3a"
            ],
            [
             0.8888888888888888,
             "#fdca26"
            ],
            [
             1,
             "#f0f921"
            ]
           ],
           "sequentialminus": [
            [
             0,
             "#0d0887"
            ],
            [
             0.1111111111111111,
             "#46039f"
            ],
            [
             0.2222222222222222,
             "#7201a8"
            ],
            [
             0.3333333333333333,
             "#9c179e"
            ],
            [
             0.4444444444444444,
             "#bd3786"
            ],
            [
             0.5555555555555556,
             "#d8576b"
            ],
            [
             0.6666666666666666,
             "#ed7953"
            ],
            [
             0.7777777777777778,
             "#fb9f3a"
            ],
            [
             0.8888888888888888,
             "#fdca26"
            ],
            [
             1,
             "#f0f921"
            ]
           ]
          },
          "colorway": [
           "#636efa",
           "#EF553B",
           "#00cc96",
           "#ab63fa",
           "#FFA15A",
           "#19d3f3",
           "#FF6692",
           "#B6E880",
           "#FF97FF",
           "#FECB52"
          ],
          "font": {
           "color": "#2a3f5f"
          },
          "geo": {
           "bgcolor": "white",
           "lakecolor": "white",
           "landcolor": "#E5ECF6",
           "showlakes": true,
           "showland": true,
           "subunitcolor": "white"
          },
          "hoverlabel": {
           "align": "left"
          },
          "hovermode": "closest",
          "mapbox": {
           "style": "light"
          },
          "paper_bgcolor": "white",
          "plot_bgcolor": "#E5ECF6",
          "polar": {
           "angularaxis": {
            "gridcolor": "white",
            "linecolor": "white",
            "ticks": ""
           },
           "bgcolor": "#E5ECF6",
           "radialaxis": {
            "gridcolor": "white",
            "linecolor": "white",
            "ticks": ""
           }
          },
          "scene": {
           "xaxis": {
            "backgroundcolor": "#E5ECF6",
            "gridcolor": "white",
            "gridwidth": 2,
            "linecolor": "white",
            "showbackground": true,
            "ticks": "",
            "zerolinecolor": "white"
           },
           "yaxis": {
            "backgroundcolor": "#E5ECF6",
            "gridcolor": "white",
            "gridwidth": 2,
            "linecolor": "white",
            "showbackground": true,
            "ticks": "",
            "zerolinecolor": "white"
           },
           "zaxis": {
            "backgroundcolor": "#E5ECF6",
            "gridcolor": "white",
            "gridwidth": 2,
            "linecolor": "white",
            "showbackground": true,
            "ticks": "",
            "zerolinecolor": "white"
           }
          },
          "shapedefaults": {
           "line": {
            "color": "#2a3f5f"
           }
          },
          "ternary": {
           "aaxis": {
            "gridcolor": "white",
            "linecolor": "white",
            "ticks": ""
           },
           "baxis": {
            "gridcolor": "white",
            "linecolor": "white",
            "ticks": ""
           },
           "bgcolor": "#E5ECF6",
           "caxis": {
            "gridcolor": "white",
            "linecolor": "white",
            "ticks": ""
           }
          },
          "title": {
           "x": 0.05
          },
          "xaxis": {
           "automargin": true,
           "gridcolor": "white",
           "linecolor": "white",
           "ticks": "",
           "title": {
            "standoff": 15
           },
           "zerolinecolor": "white",
           "zerolinewidth": 2
          },
          "yaxis": {
           "automargin": true,
           "gridcolor": "white",
           "linecolor": "white",
           "ticks": "",
           "title": {
            "standoff": 15
           },
           "zerolinecolor": "white",
           "zerolinewidth": 2
          }
         }
        },
        "title": {
         "text": "State Distribution of Languages(as of 2023)"
        },
        "xaxis": {
         "title": {
          "text": "Language"
         }
        },
        "yaxis": {
         "title": {
          "text": "Number of States"
         }
        }
       }
      }
     },
     "metadata": {},
     "output_type": "display_data"
    },
    {
     "data": {
      "text/plain": [
       "'https://plotly.com/~NRswift/216/'"
      ]
     },
     "execution_count": 4,
     "metadata": {},
     "output_type": "execute_result"
    }
   ],
   "source": [
    "import chart_studio\n",
    "username='NRswift'\n",
    "api_key='G1eDL1Naj4DsaqGtJSYz'\n",
    "chart_studio.tools.set_credentials_file(username=username, api_key=api_key)\n",
    "import pandas as pd\n",
    "import numpy as np\n",
    "import csv\n",
    "import plotly.express as ex\n",
    "import chart_studio.plotly as py\n",
    "import chart_studio.tools as tls\n",
    "import math\n",
    "import plotly.graph_objects as go\n",
    "state = []\n",
    "popularLanguage = []\n",
    "\n",
    "with open('languages.csv', 'r') as a:\n",
    "    dataFour = csv.reader(a, delimiter=',')\n",
    "    for rowsFour in dataFour:\n",
    "        state.append(str(rowsFour[0]))\n",
    "        popularLanguage.append(str(rowsFour[1]))\n",
    "listofArrays = [str(popularLanguage[i]) for i in range(0, len(popularLanguage))]\n",
    "langCatagories = {state[o]: popularLanguage[o] for o in range(len(state))}\n",
    "arr = {}\n",
    "for j in range(0, len(listofArrays)):\n",
    "    a = {listofArrays[j]: []}\n",
    "    arr.update(a)\n",
    "\n",
    "def sortStates(arr, state, combined):\n",
    "    for i in range(0, 50):\n",
    "        match combined[state[i]]:\n",
    "            case 'Navajo':\n",
    "                arr['Navajo'].append(state[i]) \n",
    "            case 'German':\n",
    "                arr['German'].append(state[i]) \n",
    "            case 'Russian':\n",
    "                arr['Russian'].append(state[i]) \n",
    "            case 'French':\n",
    "                arr['French'].append(state[i]) \n",
    "            case 'Japanese':\n",
    "                arr['Japanese'].append(state[i]) \n",
    "            case 'Vietnamese':\n",
    "                arr['Vietnamese'].append(state[i]) \n",
    "            case 'Chinese':\n",
    "                arr['Chinese'].append(state[i]) \n",
    "            case 'Korean':\n",
    "                arr['Korean'].append(state[i]) \n",
    "            case 'Arabic':\n",
    "                arr['Arabic'].append(state[i]) \n",
    "            case 'Aleut Languages':\n",
    "                arr['Aleut Languages'].append(state[i]) \n",
    "            case 'Tagalog':\n",
    "                arr['Tagalog'].append(state[i]) \n",
    "            case 'Dakota Languages':\n",
    "                arr['Dakota Languages'].append(state[i]) \n",
    "            case 'Portuguese':\n",
    "                arr['Portuguese'].append(state[i]) \n",
    "            case 'Haitian':\n",
    "                arr['Haitian'].append(state[i]) \n",
    "            case 'Polish':\n",
    "                arr['Polish'].append(state[i]) \n",
    "            case 'Hmong':\n",
    "                arr['Hmong'].append(state[i]) \n",
    "                \n",
    "    return arr\n",
    "final = sortStates(arr, state, langCatagories)\n",
    "language = list(final.keys())\n",
    "numOfStates = []\n",
    "for i in range(0, len(final)):\n",
    "    numOfStates.append(len(final[language[i]]))\n",
    "fig = go.Figure()\n",
    "delimiter = \",\"\n",
    "te = []\n",
    "for i in range(len(language)):\n",
    "    te.append(str(delimiter.join(final[language[i]])))\n",
    "print(te)\n",
    "fig.add_trace(go.Bar(x=language, y=numOfStates,text = te,hovertemplate=\"Language: %{x}<br>States: %{text}\"))\n",
    "fig.update_layout(\n",
    "    xaxis={'title':'Language'},\n",
    "    yaxis={'title':'Number of States'}, \n",
    "    title = dict(text = \"State Distribution of Languages(as of 2023)\"))\n",
    "fig.show()\n",
    "py.plot(fig, filename=\"lg_distribution\", auto_open = True)"
   ]
  },
  {
   "cell_type": "code",
   "execution_count": 6,
   "metadata": {},
   "outputs": [
    {
     "data": {
      "application/vnd.plotly.v1+json": {
       "config": {
        "plotlyServerURL": "https://plotly.com"
       },
       "data": [
        {
         "hovertemplate": "%{text}",
         "mode": "markers",
         "text": [
          "State: Hawaii<br> Event:Aloha Festival<br> Community:Hawaiian<br>Culture Type(Western,Eastern,Mixed):Western)",
          "State: New Ulm(Minnesota)<br> Event:Bavarian Blast<br> Community:German<br>Culture Type(Western,Eastern,Mixed):Eastern)",
          "State: New York City(New York)<br> Event:Brazilian Day<br> Community:Brazil<br>Culture Type(Western,Eastern,Mixed):Western)",
          "State: Tahlequah(Oklahoma)<br> Event:Cherokee National Holoday<br> Community:Cherokee<br>Culture Type(Western,Eastern,Mixed):Western)",
          "State: San Francisco(California)<br> Event:Chinese New Year Parade<br> Community:Chinese<br>Culture Type(Western,Eastern,Mixed):Eastern)",
          "State: Houston(Texas)<br> Event:Columbian Festival<br> Community:Columbian<br>Culture Type(Western,Eastern,Mixed):Western)",
          "State: Dublin(Ohio)<br> Event:Dublin Irish Festival<br> Community:Irish<br>Culture Type(Western,Eastern,Mixed):Western)",
          "State: Lafayette(Lousiana)<br> Event:Festivals Acadiens et Creoles<br> Community:Creole(French-African-Spanish-Native American)<br>Culture Type(Western,Eastern,Mixed):Mixed)",
          "State: Glasgow(Kentucky)<br> Event:Glasgow Higland Games<br> Community:Scottish<br>Culture Type(Western,Eastern,Mixed):Western)",
          "State: Houston(Texas)<br> Event:Japanese Festival of Houston<br> Community:Japanese<br>Culture Type(Western,Eastern,Mixed):Eastern)",
          "State: Kutztown(Pennsylvania)<br> Event:Kutztown Folk Festival<br> Community:Dutch<br>Culture Type(Western,Eastern,Mixed):Eastern)",
          "State: New Orleans(Lousiana)<br> Event:Madri Gras<br> Community:Roman Catholics<br>Culture Type(Western,Eastern,Mixed):Western)",
          "State: Mobile(Alabama)<br> Event:Mobile International Festival<br> Community:All Cultures<br>Culture Type(Western,Eastern,Mixed):Mixed)",
          "State: New York City(New York)<br> Event:Puerto Rican Day<br> Community:Puetro Rican<br>Culture Type(Western,Eastern,Mixed):Western)"
         ],
         "type": "scatter",
         "x": [
          -155.6659,
          -94.4593,
          -74.006,
          -94.97,
          -122.4194,
          -95.3698,
          -83.1141,
          -92.0198,
          -85.9119,
          -95.3698,
          -75.7774,
          -90.0715,
          -88.0399,
          -74.006
         ],
         "y": [
          19.8987,
          44.3144,
          40.7128,
          35.9154,
          37.7749,
          29.7604,
          40.0992,
          30.2241,
          36.9959,
          29.7604,
          40.5173,
          29.9511,
          30.6954,
          41
         ]
        }
       ],
       "layout": {
        "template": {
         "data": {
          "bar": [
           {
            "error_x": {
             "color": "#2a3f5f"
            },
            "error_y": {
             "color": "#2a3f5f"
            },
            "marker": {
             "line": {
              "color": "#E5ECF6",
              "width": 0.5
             },
             "pattern": {
              "fillmode": "overlay",
              "size": 10,
              "solidity": 0.2
             }
            },
            "type": "bar"
           }
          ],
          "barpolar": [
           {
            "marker": {
             "line": {
              "color": "#E5ECF6",
              "width": 0.5
             },
             "pattern": {
              "fillmode": "overlay",
              "size": 10,
              "solidity": 0.2
             }
            },
            "type": "barpolar"
           }
          ],
          "carpet": [
           {
            "aaxis": {
             "endlinecolor": "#2a3f5f",
             "gridcolor": "white",
             "linecolor": "white",
             "minorgridcolor": "white",
             "startlinecolor": "#2a3f5f"
            },
            "baxis": {
             "endlinecolor": "#2a3f5f",
             "gridcolor": "white",
             "linecolor": "white",
             "minorgridcolor": "white",
             "startlinecolor": "#2a3f5f"
            },
            "type": "carpet"
           }
          ],
          "choropleth": [
           {
            "colorbar": {
             "outlinewidth": 0,
             "ticks": ""
            },
            "type": "choropleth"
           }
          ],
          "contour": [
           {
            "colorbar": {
             "outlinewidth": 0,
             "ticks": ""
            },
            "colorscale": [
             [
              0,
              "#0d0887"
             ],
             [
              0.1111111111111111,
              "#46039f"
             ],
             [
              0.2222222222222222,
              "#7201a8"
             ],
             [
              0.3333333333333333,
              "#9c179e"
             ],
             [
              0.4444444444444444,
              "#bd3786"
             ],
             [
              0.5555555555555556,
              "#d8576b"
             ],
             [
              0.6666666666666666,
              "#ed7953"
             ],
             [
              0.7777777777777778,
              "#fb9f3a"
             ],
             [
              0.8888888888888888,
              "#fdca26"
             ],
             [
              1,
              "#f0f921"
             ]
            ],
            "type": "contour"
           }
          ],
          "contourcarpet": [
           {
            "colorbar": {
             "outlinewidth": 0,
             "ticks": ""
            },
            "type": "contourcarpet"
           }
          ],
          "heatmap": [
           {
            "colorbar": {
             "outlinewidth": 0,
             "ticks": ""
            },
            "colorscale": [
             [
              0,
              "#0d0887"
             ],
             [
              0.1111111111111111,
              "#46039f"
             ],
             [
              0.2222222222222222,
              "#7201a8"
             ],
             [
              0.3333333333333333,
              "#9c179e"
             ],
             [
              0.4444444444444444,
              "#bd3786"
             ],
             [
              0.5555555555555556,
              "#d8576b"
             ],
             [
              0.6666666666666666,
              "#ed7953"
             ],
             [
              0.7777777777777778,
              "#fb9f3a"
             ],
             [
              0.8888888888888888,
              "#fdca26"
             ],
             [
              1,
              "#f0f921"
             ]
            ],
            "type": "heatmap"
           }
          ],
          "heatmapgl": [
           {
            "colorbar": {
             "outlinewidth": 0,
             "ticks": ""
            },
            "colorscale": [
             [
              0,
              "#0d0887"
             ],
             [
              0.1111111111111111,
              "#46039f"
             ],
             [
              0.2222222222222222,
              "#7201a8"
             ],
             [
              0.3333333333333333,
              "#9c179e"
             ],
             [
              0.4444444444444444,
              "#bd3786"
             ],
             [
              0.5555555555555556,
              "#d8576b"
             ],
             [
              0.6666666666666666,
              "#ed7953"
             ],
             [
              0.7777777777777778,
              "#fb9f3a"
             ],
             [
              0.8888888888888888,
              "#fdca26"
             ],
             [
              1,
              "#f0f921"
             ]
            ],
            "type": "heatmapgl"
           }
          ],
          "histogram": [
           {
            "marker": {
             "pattern": {
              "fillmode": "overlay",
              "size": 10,
              "solidity": 0.2
             }
            },
            "type": "histogram"
           }
          ],
          "histogram2d": [
           {
            "colorbar": {
             "outlinewidth": 0,
             "ticks": ""
            },
            "colorscale": [
             [
              0,
              "#0d0887"
             ],
             [
              0.1111111111111111,
              "#46039f"
             ],
             [
              0.2222222222222222,
              "#7201a8"
             ],
             [
              0.3333333333333333,
              "#9c179e"
             ],
             [
              0.4444444444444444,
              "#bd3786"
             ],
             [
              0.5555555555555556,
              "#d8576b"
             ],
             [
              0.6666666666666666,
              "#ed7953"
             ],
             [
              0.7777777777777778,
              "#fb9f3a"
             ],
             [
              0.8888888888888888,
              "#fdca26"
             ],
             [
              1,
              "#f0f921"
             ]
            ],
            "type": "histogram2d"
           }
          ],
          "histogram2dcontour": [
           {
            "colorbar": {
             "outlinewidth": 0,
             "ticks": ""
            },
            "colorscale": [
             [
              0,
              "#0d0887"
             ],
             [
              0.1111111111111111,
              "#46039f"
             ],
             [
              0.2222222222222222,
              "#7201a8"
             ],
             [
              0.3333333333333333,
              "#9c179e"
             ],
             [
              0.4444444444444444,
              "#bd3786"
             ],
             [
              0.5555555555555556,
              "#d8576b"
             ],
             [
              0.6666666666666666,
              "#ed7953"
             ],
             [
              0.7777777777777778,
              "#fb9f3a"
             ],
             [
              0.8888888888888888,
              "#fdca26"
             ],
             [
              1,
              "#f0f921"
             ]
            ],
            "type": "histogram2dcontour"
           }
          ],
          "mesh3d": [
           {
            "colorbar": {
             "outlinewidth": 0,
             "ticks": ""
            },
            "type": "mesh3d"
           }
          ],
          "parcoords": [
           {
            "line": {
             "colorbar": {
              "outlinewidth": 0,
              "ticks": ""
             }
            },
            "type": "parcoords"
           }
          ],
          "pie": [
           {
            "automargin": true,
            "type": "pie"
           }
          ],
          "scatter": [
           {
            "fillpattern": {
             "fillmode": "overlay",
             "size": 10,
             "solidity": 0.2
            },
            "type": "scatter"
           }
          ],
          "scatter3d": [
           {
            "line": {
             "colorbar": {
              "outlinewidth": 0,
              "ticks": ""
             }
            },
            "marker": {
             "colorbar": {
              "outlinewidth": 0,
              "ticks": ""
             }
            },
            "type": "scatter3d"
           }
          ],
          "scattercarpet": [
           {
            "marker": {
             "colorbar": {
              "outlinewidth": 0,
              "ticks": ""
             }
            },
            "type": "scattercarpet"
           }
          ],
          "scattergeo": [
           {
            "marker": {
             "colorbar": {
              "outlinewidth": 0,
              "ticks": ""
             }
            },
            "type": "scattergeo"
           }
          ],
          "scattergl": [
           {
            "marker": {
             "colorbar": {
              "outlinewidth": 0,
              "ticks": ""
             }
            },
            "type": "scattergl"
           }
          ],
          "scattermapbox": [
           {
            "marker": {
             "colorbar": {
              "outlinewidth": 0,
              "ticks": ""
             }
            },
            "type": "scattermapbox"
           }
          ],
          "scatterpolar": [
           {
            "marker": {
             "colorbar": {
              "outlinewidth": 0,
              "ticks": ""
             }
            },
            "type": "scatterpolar"
           }
          ],
          "scatterpolargl": [
           {
            "marker": {
             "colorbar": {
              "outlinewidth": 0,
              "ticks": ""
             }
            },
            "type": "scatterpolargl"
           }
          ],
          "scatterternary": [
           {
            "marker": {
             "colorbar": {
              "outlinewidth": 0,
              "ticks": ""
             }
            },
            "type": "scatterternary"
           }
          ],
          "surface": [
           {
            "colorbar": {
             "outlinewidth": 0,
             "ticks": ""
            },
            "colorscale": [
             [
              0,
              "#0d0887"
             ],
             [
              0.1111111111111111,
              "#46039f"
             ],
             [
              0.2222222222222222,
              "#7201a8"
             ],
             [
              0.3333333333333333,
              "#9c179e"
             ],
             [
              0.4444444444444444,
              "#bd3786"
             ],
             [
              0.5555555555555556,
              "#d8576b"
             ],
             [
              0.6666666666666666,
              "#ed7953"
             ],
             [
              0.7777777777777778,
              "#fb9f3a"
             ],
             [
              0.8888888888888888,
              "#fdca26"
             ],
             [
              1,
              "#f0f921"
             ]
            ],
            "type": "surface"
           }
          ],
          "table": [
           {
            "cells": {
             "fill": {
              "color": "#EBF0F8"
             },
             "line": {
              "color": "white"
             }
            },
            "header": {
             "fill": {
              "color": "#C8D4E3"
             },
             "line": {
              "color": "white"
             }
            },
            "type": "table"
           }
          ]
         },
         "layout": {
          "annotationdefaults": {
           "arrowcolor": "#2a3f5f",
           "arrowhead": 0,
           "arrowwidth": 1
          },
          "autotypenumbers": "strict",
          "coloraxis": {
           "colorbar": {
            "outlinewidth": 0,
            "ticks": ""
           }
          },
          "colorscale": {
           "diverging": [
            [
             0,
             "#8e0152"
            ],
            [
             0.1,
             "#c51b7d"
            ],
            [
             0.2,
             "#de77ae"
            ],
            [
             0.3,
             "#f1b6da"
            ],
            [
             0.4,
             "#fde0ef"
            ],
            [
             0.5,
             "#f7f7f7"
            ],
            [
             0.6,
             "#e6f5d0"
            ],
            [
             0.7,
             "#b8e186"
            ],
            [
             0.8,
             "#7fbc41"
            ],
            [
             0.9,
             "#4d9221"
            ],
            [
             1,
             "#276419"
            ]
           ],
           "sequential": [
            [
             0,
             "#0d0887"
            ],
            [
             0.1111111111111111,
             "#46039f"
            ],
            [
             0.2222222222222222,
             "#7201a8"
            ],
            [
             0.3333333333333333,
             "#9c179e"
            ],
            [
             0.4444444444444444,
             "#bd3786"
            ],
            [
             0.5555555555555556,
             "#d8576b"
            ],
            [
             0.6666666666666666,
             "#ed7953"
            ],
            [
             0.7777777777777778,
             "#fb9f3a"
            ],
            [
             0.8888888888888888,
             "#fdca26"
            ],
            [
             1,
             "#f0f921"
            ]
           ],
           "sequentialminus": [
            [
             0,
             "#0d0887"
            ],
            [
             0.1111111111111111,
             "#46039f"
            ],
            [
             0.2222222222222222,
             "#7201a8"
            ],
            [
             0.3333333333333333,
             "#9c179e"
            ],
            [
             0.4444444444444444,
             "#bd3786"
            ],
            [
             0.5555555555555556,
             "#d8576b"
            ],
            [
             0.6666666666666666,
             "#ed7953"
            ],
            [
             0.7777777777777778,
             "#fb9f3a"
            ],
            [
             0.8888888888888888,
             "#fdca26"
            ],
            [
             1,
             "#f0f921"
            ]
           ]
          },
          "colorway": [
           "#636efa",
           "#EF553B",
           "#00cc96",
           "#ab63fa",
           "#FFA15A",
           "#19d3f3",
           "#FF6692",
           "#B6E880",
           "#FF97FF",
           "#FECB52"
          ],
          "font": {
           "color": "#2a3f5f"
          },
          "geo": {
           "bgcolor": "white",
           "lakecolor": "white",
           "landcolor": "#E5ECF6",
           "showlakes": true,
           "showland": true,
           "subunitcolor": "white"
          },
          "hoverlabel": {
           "align": "left"
          },
          "hovermode": "closest",
          "mapbox": {
           "style": "light"
          },
          "paper_bgcolor": "white",
          "plot_bgcolor": "#E5ECF6",
          "polar": {
           "angularaxis": {
            "gridcolor": "white",
            "linecolor": "white",
            "ticks": ""
           },
           "bgcolor": "#E5ECF6",
           "radialaxis": {
            "gridcolor": "white",
            "linecolor": "white",
            "ticks": ""
           }
          },
          "scene": {
           "xaxis": {
            "backgroundcolor": "#E5ECF6",
            "gridcolor": "white",
            "gridwidth": 2,
            "linecolor": "white",
            "showbackground": true,
            "ticks": "",
            "zerolinecolor": "white"
           },
           "yaxis": {
            "backgroundcolor": "#E5ECF6",
            "gridcolor": "white",
            "gridwidth": 2,
            "linecolor": "white",
            "showbackground": true,
            "ticks": "",
            "zerolinecolor": "white"
           },
           "zaxis": {
            "backgroundcolor": "#E5ECF6",
            "gridcolor": "white",
            "gridwidth": 2,
            "linecolor": "white",
            "showbackground": true,
            "ticks": "",
            "zerolinecolor": "white"
           }
          },
          "shapedefaults": {
           "line": {
            "color": "#2a3f5f"
           }
          },
          "ternary": {
           "aaxis": {
            "gridcolor": "white",
            "linecolor": "white",
            "ticks": ""
           },
           "baxis": {
            "gridcolor": "white",
            "linecolor": "white",
            "ticks": ""
           },
           "bgcolor": "#E5ECF6",
           "caxis": {
            "gridcolor": "white",
            "linecolor": "white",
            "ticks": ""
           }
          },
          "title": {
           "x": 0.05
          },
          "xaxis": {
           "automargin": true,
           "gridcolor": "white",
           "linecolor": "white",
           "ticks": "",
           "title": {
            "standoff": 15
           },
           "zerolinecolor": "white",
           "zerolinewidth": 2
          },
          "yaxis": {
           "automargin": true,
           "gridcolor": "white",
           "linecolor": "white",
           "ticks": "",
           "title": {
            "standoff": 15
           },
           "zerolinecolor": "white",
           "zerolinewidth": 2
          }
         }
        },
        "title": {
         "text": "Nationwide Distribution of Cultural Festivals"
        },
        "xaxis": {
         "title": {
          "text": "Latitude"
         }
        },
        "yaxis": {
         "title": {
          "text": "Longitude"
         }
        }
       }
      }
     },
     "metadata": {},
     "output_type": "display_data"
    },
    {
     "data": {
      "application/vnd.plotly.v1+json": {
       "config": {
        "plotlyServerURL": "https://plotly.com"
       },
       "data": [
        {
         "type": "bar",
         "x": [
          "Western",
          "Eastern",
          "Mixed"
         ],
         "y": [
          8,
          4,
          2
         ]
        }
       ],
       "layout": {
        "template": {
         "data": {
          "bar": [
           {
            "error_x": {
             "color": "#2a3f5f"
            },
            "error_y": {
             "color": "#2a3f5f"
            },
            "marker": {
             "line": {
              "color": "#E5ECF6",
              "width": 0.5
             },
             "pattern": {
              "fillmode": "overlay",
              "size": 10,
              "solidity": 0.2
             }
            },
            "type": "bar"
           }
          ],
          "barpolar": [
           {
            "marker": {
             "line": {
              "color": "#E5ECF6",
              "width": 0.5
             },
             "pattern": {
              "fillmode": "overlay",
              "size": 10,
              "solidity": 0.2
             }
            },
            "type": "barpolar"
           }
          ],
          "carpet": [
           {
            "aaxis": {
             "endlinecolor": "#2a3f5f",
             "gridcolor": "white",
             "linecolor": "white",
             "minorgridcolor": "white",
             "startlinecolor": "#2a3f5f"
            },
            "baxis": {
             "endlinecolor": "#2a3f5f",
             "gridcolor": "white",
             "linecolor": "white",
             "minorgridcolor": "white",
             "startlinecolor": "#2a3f5f"
            },
            "type": "carpet"
           }
          ],
          "choropleth": [
           {
            "colorbar": {
             "outlinewidth": 0,
             "ticks": ""
            },
            "type": "choropleth"
           }
          ],
          "contour": [
           {
            "colorbar": {
             "outlinewidth": 0,
             "ticks": ""
            },
            "colorscale": [
             [
              0,
              "#0d0887"
             ],
             [
              0.1111111111111111,
              "#46039f"
             ],
             [
              0.2222222222222222,
              "#7201a8"
             ],
             [
              0.3333333333333333,
              "#9c179e"
             ],
             [
              0.4444444444444444,
              "#bd3786"
             ],
             [
              0.5555555555555556,
              "#d8576b"
             ],
             [
              0.6666666666666666,
              "#ed7953"
             ],
             [
              0.7777777777777778,
              "#fb9f3a"
             ],
             [
              0.8888888888888888,
              "#fdca26"
             ],
             [
              1,
              "#f0f921"
             ]
            ],
            "type": "contour"
           }
          ],
          "contourcarpet": [
           {
            "colorbar": {
             "outlinewidth": 0,
             "ticks": ""
            },
            "type": "contourcarpet"
           }
          ],
          "heatmap": [
           {
            "colorbar": {
             "outlinewidth": 0,
             "ticks": ""
            },
            "colorscale": [
             [
              0,
              "#0d0887"
             ],
             [
              0.1111111111111111,
              "#46039f"
             ],
             [
              0.2222222222222222,
              "#7201a8"
             ],
             [
              0.3333333333333333,
              "#9c179e"
             ],
             [
              0.4444444444444444,
              "#bd3786"
             ],
             [
              0.5555555555555556,
              "#d8576b"
             ],
             [
              0.6666666666666666,
              "#ed7953"
             ],
             [
              0.7777777777777778,
              "#fb9f3a"
             ],
             [
              0.8888888888888888,
              "#fdca26"
             ],
             [
              1,
              "#f0f921"
             ]
            ],
            "type": "heatmap"
           }
          ],
          "heatmapgl": [
           {
            "colorbar": {
             "outlinewidth": 0,
             "ticks": ""
            },
            "colorscale": [
             [
              0,
              "#0d0887"
             ],
             [
              0.1111111111111111,
              "#46039f"
             ],
             [
              0.2222222222222222,
              "#7201a8"
             ],
             [
              0.3333333333333333,
              "#9c179e"
             ],
             [
              0.4444444444444444,
              "#bd3786"
             ],
             [
              0.5555555555555556,
              "#d8576b"
             ],
             [
              0.6666666666666666,
              "#ed7953"
             ],
             [
              0.7777777777777778,
              "#fb9f3a"
             ],
             [
              0.8888888888888888,
              "#fdca26"
             ],
             [
              1,
              "#f0f921"
             ]
            ],
            "type": "heatmapgl"
           }
          ],
          "histogram": [
           {
            "marker": {
             "pattern": {
              "fillmode": "overlay",
              "size": 10,
              "solidity": 0.2
             }
            },
            "type": "histogram"
           }
          ],
          "histogram2d": [
           {
            "colorbar": {
             "outlinewidth": 0,
             "ticks": ""
            },
            "colorscale": [
             [
              0,
              "#0d0887"
             ],
             [
              0.1111111111111111,
              "#46039f"
             ],
             [
              0.2222222222222222,
              "#7201a8"
             ],
             [
              0.3333333333333333,
              "#9c179e"
             ],
             [
              0.4444444444444444,
              "#bd3786"
             ],
             [
              0.5555555555555556,
              "#d8576b"
             ],
             [
              0.6666666666666666,
              "#ed7953"
             ],
             [
              0.7777777777777778,
              "#fb9f3a"
             ],
             [
              0.8888888888888888,
              "#fdca26"
             ],
             [
              1,
              "#f0f921"
             ]
            ],
            "type": "histogram2d"
           }
          ],
          "histogram2dcontour": [
           {
            "colorbar": {
             "outlinewidth": 0,
             "ticks": ""
            },
            "colorscale": [
             [
              0,
              "#0d0887"
             ],
             [
              0.1111111111111111,
              "#46039f"
             ],
             [
              0.2222222222222222,
              "#7201a8"
             ],
             [
              0.3333333333333333,
              "#9c179e"
             ],
             [
              0.4444444444444444,
              "#bd3786"
             ],
             [
              0.5555555555555556,
              "#d8576b"
             ],
             [
              0.6666666666666666,
              "#ed7953"
             ],
             [
              0.7777777777777778,
              "#fb9f3a"
             ],
             [
              0.8888888888888888,
              "#fdca26"
             ],
             [
              1,
              "#f0f921"
             ]
            ],
            "type": "histogram2dcontour"
           }
          ],
          "mesh3d": [
           {
            "colorbar": {
             "outlinewidth": 0,
             "ticks": ""
            },
            "type": "mesh3d"
           }
          ],
          "parcoords": [
           {
            "line": {
             "colorbar": {
              "outlinewidth": 0,
              "ticks": ""
             }
            },
            "type": "parcoords"
           }
          ],
          "pie": [
           {
            "automargin": true,
            "type": "pie"
           }
          ],
          "scatter": [
           {
            "fillpattern": {
             "fillmode": "overlay",
             "size": 10,
             "solidity": 0.2
            },
            "type": "scatter"
           }
          ],
          "scatter3d": [
           {
            "line": {
             "colorbar": {
              "outlinewidth": 0,
              "ticks": ""
             }
            },
            "marker": {
             "colorbar": {
              "outlinewidth": 0,
              "ticks": ""
             }
            },
            "type": "scatter3d"
           }
          ],
          "scattercarpet": [
           {
            "marker": {
             "colorbar": {
              "outlinewidth": 0,
              "ticks": ""
             }
            },
            "type": "scattercarpet"
           }
          ],
          "scattergeo": [
           {
            "marker": {
             "colorbar": {
              "outlinewidth": 0,
              "ticks": ""
             }
            },
            "type": "scattergeo"
           }
          ],
          "scattergl": [
           {
            "marker": {
             "colorbar": {
              "outlinewidth": 0,
              "ticks": ""
             }
            },
            "type": "scattergl"
           }
          ],
          "scattermapbox": [
           {
            "marker": {
             "colorbar": {
              "outlinewidth": 0,
              "ticks": ""
             }
            },
            "type": "scattermapbox"
           }
          ],
          "scatterpolar": [
           {
            "marker": {
             "colorbar": {
              "outlinewidth": 0,
              "ticks": ""
             }
            },
            "type": "scatterpolar"
           }
          ],
          "scatterpolargl": [
           {
            "marker": {
             "colorbar": {
              "outlinewidth": 0,
              "ticks": ""
             }
            },
            "type": "scatterpolargl"
           }
          ],
          "scatterternary": [
           {
            "marker": {
             "colorbar": {
              "outlinewidth": 0,
              "ticks": ""
             }
            },
            "type": "scatterternary"
           }
          ],
          "surface": [
           {
            "colorbar": {
             "outlinewidth": 0,
             "ticks": ""
            },
            "colorscale": [
             [
              0,
              "#0d0887"
             ],
             [
              0.1111111111111111,
              "#46039f"
             ],
             [
              0.2222222222222222,
              "#7201a8"
             ],
             [
              0.3333333333333333,
              "#9c179e"
             ],
             [
              0.4444444444444444,
              "#bd3786"
             ],
             [
              0.5555555555555556,
              "#d8576b"
             ],
             [
              0.6666666666666666,
              "#ed7953"
             ],
             [
              0.7777777777777778,
              "#fb9f3a"
             ],
             [
              0.8888888888888888,
              "#fdca26"
             ],
             [
              1,
              "#f0f921"
             ]
            ],
            "type": "surface"
           }
          ],
          "table": [
           {
            "cells": {
             "fill": {
              "color": "#EBF0F8"
             },
             "line": {
              "color": "white"
             }
            },
            "header": {
             "fill": {
              "color": "#C8D4E3"
             },
             "line": {
              "color": "white"
             }
            },
            "type": "table"
           }
          ]
         },
         "layout": {
          "annotationdefaults": {
           "arrowcolor": "#2a3f5f",
           "arrowhead": 0,
           "arrowwidth": 1
          },
          "autotypenumbers": "strict",
          "coloraxis": {
           "colorbar": {
            "outlinewidth": 0,
            "ticks": ""
           }
          },
          "colorscale": {
           "diverging": [
            [
             0,
             "#8e0152"
            ],
            [
             0.1,
             "#c51b7d"
            ],
            [
             0.2,
             "#de77ae"
            ],
            [
             0.3,
             "#f1b6da"
            ],
            [
             0.4,
             "#fde0ef"
            ],
            [
             0.5,
             "#f7f7f7"
            ],
            [
             0.6,
             "#e6f5d0"
            ],
            [
             0.7,
             "#b8e186"
            ],
            [
             0.8,
             "#7fbc41"
            ],
            [
             0.9,
             "#4d9221"
            ],
            [
             1,
             "#276419"
            ]
           ],
           "sequential": [
            [
             0,
             "#0d0887"
            ],
            [
             0.1111111111111111,
             "#46039f"
            ],
            [
             0.2222222222222222,
             "#7201a8"
            ],
            [
             0.3333333333333333,
             "#9c179e"
            ],
            [
             0.4444444444444444,
             "#bd3786"
            ],
            [
             0.5555555555555556,
             "#d8576b"
            ],
            [
             0.6666666666666666,
             "#ed7953"
            ],
            [
             0.7777777777777778,
             "#fb9f3a"
            ],
            [
             0.8888888888888888,
             "#fdca26"
            ],
            [
             1,
             "#f0f921"
            ]
           ],
           "sequentialminus": [
            [
             0,
             "#0d0887"
            ],
            [
             0.1111111111111111,
             "#46039f"
            ],
            [
             0.2222222222222222,
             "#7201a8"
            ],
            [
             0.3333333333333333,
             "#9c179e"
            ],
            [
             0.4444444444444444,
             "#bd3786"
            ],
            [
             0.5555555555555556,
             "#d8576b"
            ],
            [
             0.6666666666666666,
             "#ed7953"
            ],
            [
             0.7777777777777778,
             "#fb9f3a"
            ],
            [
             0.8888888888888888,
             "#fdca26"
            ],
            [
             1,
             "#f0f921"
            ]
           ]
          },
          "colorway": [
           "#636efa",
           "#EF553B",
           "#00cc96",
           "#ab63fa",
           "#FFA15A",
           "#19d3f3",
           "#FF6692",
           "#B6E880",
           "#FF97FF",
           "#FECB52"
          ],
          "font": {
           "color": "#2a3f5f"
          },
          "geo": {
           "bgcolor": "white",
           "lakecolor": "white",
           "landcolor": "#E5ECF6",
           "showlakes": true,
           "showland": true,
           "subunitcolor": "white"
          },
          "hoverlabel": {
           "align": "left"
          },
          "hovermode": "closest",
          "mapbox": {
           "style": "light"
          },
          "paper_bgcolor": "white",
          "plot_bgcolor": "#E5ECF6",
          "polar": {
           "angularaxis": {
            "gridcolor": "white",
            "linecolor": "white",
            "ticks": ""
           },
           "bgcolor": "#E5ECF6",
           "radialaxis": {
            "gridcolor": "white",
            "linecolor": "white",
            "ticks": ""
           }
          },
          "scene": {
           "xaxis": {
            "backgroundcolor": "#E5ECF6",
            "gridcolor": "white",
            "gridwidth": 2,
            "linecolor": "white",
            "showbackground": true,
            "ticks": "",
            "zerolinecolor": "white"
           },
           "yaxis": {
            "backgroundcolor": "#E5ECF6",
            "gridcolor": "white",
            "gridwidth": 2,
            "linecolor": "white",
            "showbackground": true,
            "ticks": "",
            "zerolinecolor": "white"
           },
           "zaxis": {
            "backgroundcolor": "#E5ECF6",
            "gridcolor": "white",
            "gridwidth": 2,
            "linecolor": "white",
            "showbackground": true,
            "ticks": "",
            "zerolinecolor": "white"
           }
          },
          "shapedefaults": {
           "line": {
            "color": "#2a3f5f"
           }
          },
          "ternary": {
           "aaxis": {
            "gridcolor": "white",
            "linecolor": "white",
            "ticks": ""
           },
           "baxis": {
            "gridcolor": "white",
            "linecolor": "white",
            "ticks": ""
           },
           "bgcolor": "#E5ECF6",
           "caxis": {
            "gridcolor": "white",
            "linecolor": "white",
            "ticks": ""
           }
          },
          "title": {
           "x": 0.05
          },
          "xaxis": {
           "automargin": true,
           "gridcolor": "white",
           "linecolor": "white",
           "ticks": "",
           "title": {
            "standoff": 15
           },
           "zerolinecolor": "white",
           "zerolinewidth": 2
          },
          "yaxis": {
           "automargin": true,
           "gridcolor": "white",
           "linecolor": "white",
           "ticks": "",
           "title": {
            "standoff": 15
           },
           "zerolinecolor": "white",
           "zerolinewidth": 2
          }
         }
        },
        "title": {
         "text": "Amount of Festivals in Each Culture Type(2023 Data)"
        },
        "xaxis": {
         "title": {
          "text": "Type of Culture"
         }
        },
        "yaxis": {
         "title": {
          "text": "Number of Festivals"
         }
        }
       }
      }
     },
     "metadata": {},
     "output_type": "display_data"
    },
    {
     "data": {
      "text/plain": [
       "'https://plotly.com/~NRswift/220/'"
      ]
     },
     "execution_count": 6,
     "metadata": {},
     "output_type": "execute_result"
    }
   ],
   "source": [
    "import chart_studio\n",
    "username='NRswift'\n",
    "api_key='G1eDL1Naj4DsaqGtJSYz'\n",
    "chart_studio.tools.set_credentials_file(username=username, api_key=api_key)\n",
    "import pandas as pd\n",
    "import numpy as np\n",
    "import csv\n",
    "import plotly.express as ex\n",
    "import chart_studio.plotly as py\n",
    "import chart_studio.tools as tls\n",
    "import math\n",
    "import plotly.graph_objects as go\n",
    " \n",
    "info = []\n",
    "\n",
    "typeOfCulture = []\n",
    "latitude = []\n",
    "longitude = []\n",
    "with open('popular_cultural_festivals.csv', 'r') as f:\n",
    "    dataFive = csv.reader(f, delimiter=',')\n",
    "    for rowsFive in dataFive:\n",
    "        t = \"State: {0}<br> Event:{1}<br> Community:{2}<br>Culture Type(Western,Eastern,Mixed):{3})\".format(rowsFive[0],rowsFive[1], rowsFive[2], rowsFive[3])\n",
    "        info.append(str(t))\n",
    "        typeOfCulture.append(str(rowsFive[3]))\n",
    "        latitude.append(float(rowsFive[4]))\n",
    "        longitude.append(float(rowsFive[5]))\n",
    "fig = go.Figure()\n",
    "fig.add_trace(go.Scatter(x = longitude, y = latitude, text = info, mode = \"markers\", hovertemplate = \"%{text}\"))\n",
    "fig.update_layout(\n",
    "    xaxis={'title':'Latitude'},\n",
    "    yaxis={'title':'Longitude'}, \n",
    "    title = dict(text = \"Nationwide Distribution of Cultural Festivals\"))\n",
    "def findWesternaAndEasternAmounts(arr):\n",
    "    westernCount = 0;\n",
    "    easternCount = 0;\n",
    "    mixedCount = 0;\n",
    "    for i in range(len(arr)):\n",
    "        match arr[i]:\n",
    "            case \"Western\":\n",
    "                westernCount += 1\n",
    "            case \"Eastern\":\n",
    "                easternCount += 1\n",
    "            case \"Mixed\":\n",
    "                mixedCount += 1\n",
    "    return westernCount, easternCount, mixedCount\n",
    "counts = findWesternaAndEasternAmounts(typeOfCulture)              \n",
    "figTwo = go.Figure()\n",
    "figTwo.add_trace(go.Bar(x = [\"Western\", \"Eastern\", \"Mixed\"], y = [counts[0], counts[1], counts[2]]))\n",
    "figTwo.update_layout(\n",
    "    xaxis={'title':'Type of Culture'},\n",
    "    yaxis={'title':'Number of Festivals'}, \n",
    "    title = dict(text = \"Amount of Festivals in Each Culture Type(2023 Data)\"))\n",
    "fig.show()\n",
    "figTwo.show()\n",
    "py.plot(fig, filename=\"festival_distribution\", auto_open = True)\n",
    "py.plot(figTwo, filename=\"organize_event\", auto_open = True)"
   ]
  },
  {
   "cell_type": "code",
   "execution_count": 9,
   "metadata": {},
   "outputs": [
    {
     "data": {
      "application/vnd.plotly.v1+json": {
       "config": {
        "plotlyServerURL": "https://plotly.com"
       },
       "data": [
        {
         "hovertemplate": "State: %{text}---Economy RE Ranking: %{x:,}---Economy Overall: %{y:,}",
         "mode": "lines+markers",
         "name": "Actual Economic Quality",
         "text": [
          "Alaska",
          "Arizona",
          "New Mexico",
          "Oregon",
          "Washington",
          "Hawaii",
          "Idaho",
          "Vermont",
          "Kentucky",
          "Maine",
          "Florida",
          "Texas",
          "Colorado",
          "New Hampshire",
          "Rhode Island",
          "Delaware",
          "Virginia",
          "Maryland",
          "Tennessee",
          "South Dakota",
          "West Virginia",
          "Massachusetts",
          "Georgia",
          "North Carolina",
          "Connecticut",
          "South Carolina",
          "California",
          "Oklahoma",
          "Missouri",
          "Utah",
          "Arkansas",
          "New Jersey",
          "Nevada",
          "Alabama",
          "Kansas",
          "Nebraska",
          "Indiana",
          "Pennsylvania",
          "Ohio",
          "New York",
          "North Dakota",
          "Montana",
          "Minnesota",
          "Michigan",
          "Mississippi",
          "Louisiana",
          "Wyoming",
          "Iowa",
          "Wisconsin",
          "Illinois",
          "Washington D.C"
         ],
         "type": "scatter",
         "x": [
          1,
          2,
          3,
          4,
          5,
          6,
          7,
          8,
          9,
          10,
          11,
          12,
          13,
          14,
          15,
          16,
          17,
          18,
          19,
          20,
          21,
          22,
          23,
          24,
          25,
          26,
          27,
          28,
          29,
          30,
          31,
          32,
          33,
          34,
          35,
          36,
          37,
          38,
          39,
          40,
          41,
          42,
          43,
          44,
          45,
          46,
          47,
          48,
          49,
          50,
          51
         ],
         "y": [
          49,
          10,
          36,
          12,
          1,
          47,
          6,
          30,
          45,
          42,
          12,
          9,
          4,
          23,
          38,
          14,
          16,
          19,
          15,
          43,
          51,
          3,
          11,
          7,
          24,
          33,
          5,
          46,
          34,
          2,
          41,
          17,
          21,
          31,
          29,
          35,
          27,
          28,
          37,
          18,
          44,
          25,
          22,
          20,
          48,
          50,
          40,
          39,
          26,
          32,
          8
         ]
        }
       ],
       "layout": {
        "template": {
         "data": {
          "bar": [
           {
            "error_x": {
             "color": "#2a3f5f"
            },
            "error_y": {
             "color": "#2a3f5f"
            },
            "marker": {
             "line": {
              "color": "#E5ECF6",
              "width": 0.5
             },
             "pattern": {
              "fillmode": "overlay",
              "size": 10,
              "solidity": 0.2
             }
            },
            "type": "bar"
           }
          ],
          "barpolar": [
           {
            "marker": {
             "line": {
              "color": "#E5ECF6",
              "width": 0.5
             },
             "pattern": {
              "fillmode": "overlay",
              "size": 10,
              "solidity": 0.2
             }
            },
            "type": "barpolar"
           }
          ],
          "carpet": [
           {
            "aaxis": {
             "endlinecolor": "#2a3f5f",
             "gridcolor": "white",
             "linecolor": "white",
             "minorgridcolor": "white",
             "startlinecolor": "#2a3f5f"
            },
            "baxis": {
             "endlinecolor": "#2a3f5f",
             "gridcolor": "white",
             "linecolor": "white",
             "minorgridcolor": "white",
             "startlinecolor": "#2a3f5f"
            },
            "type": "carpet"
           }
          ],
          "choropleth": [
           {
            "colorbar": {
             "outlinewidth": 0,
             "ticks": ""
            },
            "type": "choropleth"
           }
          ],
          "contour": [
           {
            "colorbar": {
             "outlinewidth": 0,
             "ticks": ""
            },
            "colorscale": [
             [
              0,
              "#0d0887"
             ],
             [
              0.1111111111111111,
              "#46039f"
             ],
             [
              0.2222222222222222,
              "#7201a8"
             ],
             [
              0.3333333333333333,
              "#9c179e"
             ],
             [
              0.4444444444444444,
              "#bd3786"
             ],
             [
              0.5555555555555556,
              "#d8576b"
             ],
             [
              0.6666666666666666,
              "#ed7953"
             ],
             [
              0.7777777777777778,
              "#fb9f3a"
             ],
             [
              0.8888888888888888,
              "#fdca26"
             ],
             [
              1,
              "#f0f921"
             ]
            ],
            "type": "contour"
           }
          ],
          "contourcarpet": [
           {
            "colorbar": {
             "outlinewidth": 0,
             "ticks": ""
            },
            "type": "contourcarpet"
           }
          ],
          "heatmap": [
           {
            "colorbar": {
             "outlinewidth": 0,
             "ticks": ""
            },
            "colorscale": [
             [
              0,
              "#0d0887"
             ],
             [
              0.1111111111111111,
              "#46039f"
             ],
             [
              0.2222222222222222,
              "#7201a8"
             ],
             [
              0.3333333333333333,
              "#9c179e"
             ],
             [
              0.4444444444444444,
              "#bd3786"
             ],
             [
              0.5555555555555556,
              "#d8576b"
             ],
             [
              0.6666666666666666,
              "#ed7953"
             ],
             [
              0.7777777777777778,
              "#fb9f3a"
             ],
             [
              0.8888888888888888,
              "#fdca26"
             ],
             [
              1,
              "#f0f921"
             ]
            ],
            "type": "heatmap"
           }
          ],
          "heatmapgl": [
           {
            "colorbar": {
             "outlinewidth": 0,
             "ticks": ""
            },
            "colorscale": [
             [
              0,
              "#0d0887"
             ],
             [
              0.1111111111111111,
              "#46039f"
             ],
             [
              0.2222222222222222,
              "#7201a8"
             ],
             [
              0.3333333333333333,
              "#9c179e"
             ],
             [
              0.4444444444444444,
              "#bd3786"
             ],
             [
              0.5555555555555556,
              "#d8576b"
             ],
             [
              0.6666666666666666,
              "#ed7953"
             ],
             [
              0.7777777777777778,
              "#fb9f3a"
             ],
             [
              0.8888888888888888,
              "#fdca26"
             ],
             [
              1,
              "#f0f921"
             ]
            ],
            "type": "heatmapgl"
           }
          ],
          "histogram": [
           {
            "marker": {
             "pattern": {
              "fillmode": "overlay",
              "size": 10,
              "solidity": 0.2
             }
            },
            "type": "histogram"
           }
          ],
          "histogram2d": [
           {
            "colorbar": {
             "outlinewidth": 0,
             "ticks": ""
            },
            "colorscale": [
             [
              0,
              "#0d0887"
             ],
             [
              0.1111111111111111,
              "#46039f"
             ],
             [
              0.2222222222222222,
              "#7201a8"
             ],
             [
              0.3333333333333333,
              "#9c179e"
             ],
             [
              0.4444444444444444,
              "#bd3786"
             ],
             [
              0.5555555555555556,
              "#d8576b"
             ],
             [
              0.6666666666666666,
              "#ed7953"
             ],
             [
              0.7777777777777778,
              "#fb9f3a"
             ],
             [
              0.8888888888888888,
              "#fdca26"
             ],
             [
              1,
              "#f0f921"
             ]
            ],
            "type": "histogram2d"
           }
          ],
          "histogram2dcontour": [
           {
            "colorbar": {
             "outlinewidth": 0,
             "ticks": ""
            },
            "colorscale": [
             [
              0,
              "#0d0887"
             ],
             [
              0.1111111111111111,
              "#46039f"
             ],
             [
              0.2222222222222222,
              "#7201a8"
             ],
             [
              0.3333333333333333,
              "#9c179e"
             ],
             [
              0.4444444444444444,
              "#bd3786"
             ],
             [
              0.5555555555555556,
              "#d8576b"
             ],
             [
              0.6666666666666666,
              "#ed7953"
             ],
             [
              0.7777777777777778,
              "#fb9f3a"
             ],
             [
              0.8888888888888888,
              "#fdca26"
             ],
             [
              1,
              "#f0f921"
             ]
            ],
            "type": "histogram2dcontour"
           }
          ],
          "mesh3d": [
           {
            "colorbar": {
             "outlinewidth": 0,
             "ticks": ""
            },
            "type": "mesh3d"
           }
          ],
          "parcoords": [
           {
            "line": {
             "colorbar": {
              "outlinewidth": 0,
              "ticks": ""
             }
            },
            "type": "parcoords"
           }
          ],
          "pie": [
           {
            "automargin": true,
            "type": "pie"
           }
          ],
          "scatter": [
           {
            "fillpattern": {
             "fillmode": "overlay",
             "size": 10,
             "solidity": 0.2
            },
            "type": "scatter"
           }
          ],
          "scatter3d": [
           {
            "line": {
             "colorbar": {
              "outlinewidth": 0,
              "ticks": ""
             }
            },
            "marker": {
             "colorbar": {
              "outlinewidth": 0,
              "ticks": ""
             }
            },
            "type": "scatter3d"
           }
          ],
          "scattercarpet": [
           {
            "marker": {
             "colorbar": {
              "outlinewidth": 0,
              "ticks": ""
             }
            },
            "type": "scattercarpet"
           }
          ],
          "scattergeo": [
           {
            "marker": {
             "colorbar": {
              "outlinewidth": 0,
              "ticks": ""
             }
            },
            "type": "scattergeo"
           }
          ],
          "scattergl": [
           {
            "marker": {
             "colorbar": {
              "outlinewidth": 0,
              "ticks": ""
             }
            },
            "type": "scattergl"
           }
          ],
          "scattermapbox": [
           {
            "marker": {
             "colorbar": {
              "outlinewidth": 0,
              "ticks": ""
             }
            },
            "type": "scattermapbox"
           }
          ],
          "scatterpolar": [
           {
            "marker": {
             "colorbar": {
              "outlinewidth": 0,
              "ticks": ""
             }
            },
            "type": "scatterpolar"
           }
          ],
          "scatterpolargl": [
           {
            "marker": {
             "colorbar": {
              "outlinewidth": 0,
              "ticks": ""
             }
            },
            "type": "scatterpolargl"
           }
          ],
          "scatterternary": [
           {
            "marker": {
             "colorbar": {
              "outlinewidth": 0,
              "ticks": ""
             }
            },
            "type": "scatterternary"
           }
          ],
          "surface": [
           {
            "colorbar": {
             "outlinewidth": 0,
             "ticks": ""
            },
            "colorscale": [
             [
              0,
              "#0d0887"
             ],
             [
              0.1111111111111111,
              "#46039f"
             ],
             [
              0.2222222222222222,
              "#7201a8"
             ],
             [
              0.3333333333333333,
              "#9c179e"
             ],
             [
              0.4444444444444444,
              "#bd3786"
             ],
             [
              0.5555555555555556,
              "#d8576b"
             ],
             [
              0.6666666666666666,
              "#ed7953"
             ],
             [
              0.7777777777777778,
              "#fb9f3a"
             ],
             [
              0.8888888888888888,
              "#fdca26"
             ],
             [
              1,
              "#f0f921"
             ]
            ],
            "type": "surface"
           }
          ],
          "table": [
           {
            "cells": {
             "fill": {
              "color": "#EBF0F8"
             },
             "line": {
              "color": "white"
             }
            },
            "header": {
             "fill": {
              "color": "#C8D4E3"
             },
             "line": {
              "color": "white"
             }
            },
            "type": "table"
           }
          ]
         },
         "layout": {
          "annotationdefaults": {
           "arrowcolor": "#2a3f5f",
           "arrowhead": 0,
           "arrowwidth": 1
          },
          "autotypenumbers": "strict",
          "coloraxis": {
           "colorbar": {
            "outlinewidth": 0,
            "ticks": ""
           }
          },
          "colorscale": {
           "diverging": [
            [
             0,
             "#8e0152"
            ],
            [
             0.1,
             "#c51b7d"
            ],
            [
             0.2,
             "#de77ae"
            ],
            [
             0.3,
             "#f1b6da"
            ],
            [
             0.4,
             "#fde0ef"
            ],
            [
             0.5,
             "#f7f7f7"
            ],
            [
             0.6,
             "#e6f5d0"
            ],
            [
             0.7,
             "#b8e186"
            ],
            [
             0.8,
             "#7fbc41"
            ],
            [
             0.9,
             "#4d9221"
            ],
            [
             1,
             "#276419"
            ]
           ],
           "sequential": [
            [
             0,
             "#0d0887"
            ],
            [
             0.1111111111111111,
             "#46039f"
            ],
            [
             0.2222222222222222,
             "#7201a8"
            ],
            [
             0.3333333333333333,
             "#9c179e"
            ],
            [
             0.4444444444444444,
             "#bd3786"
            ],
            [
             0.5555555555555556,
             "#d8576b"
            ],
            [
             0.6666666666666666,
             "#ed7953"
            ],
            [
             0.7777777777777778,
             "#fb9f3a"
            ],
            [
             0.8888888888888888,
             "#fdca26"
            ],
            [
             1,
             "#f0f921"
            ]
           ],
           "sequentialminus": [
            [
             0,
             "#0d0887"
            ],
            [
             0.1111111111111111,
             "#46039f"
            ],
            [
             0.2222222222222222,
             "#7201a8"
            ],
            [
             0.3333333333333333,
             "#9c179e"
            ],
            [
             0.4444444444444444,
             "#bd3786"
            ],
            [
             0.5555555555555556,
             "#d8576b"
            ],
            [
             0.6666666666666666,
             "#ed7953"
            ],
            [
             0.7777777777777778,
             "#fb9f3a"
            ],
            [
             0.8888888888888888,
             "#fdca26"
            ],
            [
             1,
             "#f0f921"
            ]
           ]
          },
          "colorway": [
           "#636efa",
           "#EF553B",
           "#00cc96",
           "#ab63fa",
           "#FFA15A",
           "#19d3f3",
           "#FF6692",
           "#B6E880",
           "#FF97FF",
           "#FECB52"
          ],
          "font": {
           "color": "#2a3f5f"
          },
          "geo": {
           "bgcolor": "white",
           "lakecolor": "white",
           "landcolor": "#E5ECF6",
           "showlakes": true,
           "showland": true,
           "subunitcolor": "white"
          },
          "hoverlabel": {
           "align": "left"
          },
          "hovermode": "closest",
          "mapbox": {
           "style": "light"
          },
          "paper_bgcolor": "white",
          "plot_bgcolor": "#E5ECF6",
          "polar": {
           "angularaxis": {
            "gridcolor": "white",
            "linecolor": "white",
            "ticks": ""
           },
           "bgcolor": "#E5ECF6",
           "radialaxis": {
            "gridcolor": "white",
            "linecolor": "white",
            "ticks": ""
           }
          },
          "scene": {
           "xaxis": {
            "backgroundcolor": "#E5ECF6",
            "gridcolor": "white",
            "gridwidth": 2,
            "linecolor": "white",
            "showbackground": true,
            "ticks": "",
            "zerolinecolor": "white"
           },
           "yaxis": {
            "backgroundcolor": "#E5ECF6",
            "gridcolor": "white",
            "gridwidth": 2,
            "linecolor": "white",
            "showbackground": true,
            "ticks": "",
            "zerolinecolor": "white"
           },
           "zaxis": {
            "backgroundcolor": "#E5ECF6",
            "gridcolor": "white",
            "gridwidth": 2,
            "linecolor": "white",
            "showbackground": true,
            "ticks": "",
            "zerolinecolor": "white"
           }
          },
          "shapedefaults": {
           "line": {
            "color": "#2a3f5f"
           }
          },
          "ternary": {
           "aaxis": {
            "gridcolor": "white",
            "linecolor": "white",
            "ticks": ""
           },
           "baxis": {
            "gridcolor": "white",
            "linecolor": "white",
            "ticks": ""
           },
           "bgcolor": "#E5ECF6",
           "caxis": {
            "gridcolor": "white",
            "linecolor": "white",
            "ticks": ""
           }
          },
          "title": {
           "x": 0.05
          },
          "xaxis": {
           "automargin": true,
           "gridcolor": "white",
           "linecolor": "white",
           "ticks": "",
           "title": {
            "standoff": 15
           },
           "zerolinecolor": "white",
           "zerolinewidth": 2
          },
          "yaxis": {
           "automargin": true,
           "gridcolor": "white",
           "linecolor": "white",
           "ticks": "",
           "title": {
            "standoff": 15
           },
           "zerolinecolor": "white",
           "zerolinewidth": 2
          }
         }
        }
       }
      }
     },
     "metadata": {},
     "output_type": "display_data"
    }
   ],
   "source": [
    "import chart_studio\n",
    "username='NRswift'\n",
    "api_key='G1eDL1Naj4DsaqGtJSYz'\n",
    "chart_studio.tools.set_credentials_file(username=username, api_key=api_key)\n",
    "import pandas as pd\n",
    "import numpy as np\n",
    "import csv\n",
    "import plotly.graph_objects as go\n",
    "import plotly.io as pio\n",
    "import chart_studio.plotly as py\n",
    "import chart_studio.tools as tls\n",
    "econRE = []\n",
    "econOverall = []\n",
    "statesTwo = []\n",
    "with open('economy.csv', 'r') as d:\n",
    "    dataTwo = csv.reader(d, delimiter=',')\n",
    "    for rowsTwo in dataTwo:\n",
    "        statesTwo.append(rowsTwo[0])\n",
    "        econRE.append(int(rowsTwo[1]))\n",
    "        econOverall.append(int(rowsTwo[2]))\n",
    "\n",
    "fig = go.Figure()\n",
    "#data = zip(econRE, econOverall)\n",
    "fig.add_trace(go.Scatter(x=econRE, y=econOverall, text = statesTwo, mode='lines+markers', name = \"Actual Economic Quality\",\n",
    "                         hovertemplate = \"State: %{text}---Economy RE Ranking: %{x:,}---Economy Overall: %{y:,}\", ))\n",
    "\n",
    "fig.show()\n",
    "pio.write_html(fig, file=\"e_scatter.html\", auto_open = True)\n"
   ]
  },
  {
   "cell_type": "code",
   "execution_count": 17,
   "metadata": {},
   "outputs": [
    {
     "data": {
      "text/plain": [
       "'<iframe id=\"igraph\" scrolling=\"no\" style=\"border:none;\" seamless=\"seamless\" src=\"https://plotly.com/~NRswift/228.embed\" height=\"525\" width=\"100%\"></iframe>'"
      ]
     },
     "execution_count": 17,
     "metadata": {},
     "output_type": "execute_result"
    }
   ],
   "source": [
    "import chart_studio.tools as tls\n",
    "\n",
    "tls.get_embed('https://plotly.com/~NRswift/228/')"
   ]
  },
  {
   "cell_type": "code",
   "execution_count": 19,
   "metadata": {},
   "outputs": [
    {
     "data": {
      "text/plain": [
       "'<iframe id=\"igraph\" scrolling=\"no\" style=\"border:none;\" seamless=\"seamless\" src=\"https://plotly.com/~NRswift/230.embed\" height=\"525\" width=\"100%\"></iframe>'"
      ]
     },
     "execution_count": 19,
     "metadata": {},
     "output_type": "execute_result"
    }
   ],
   "source": [
    "import chart_studio.tools as tls\n",
    "\n",
    "tls.get_embed('https://plotly.com/~NRswift/230/')\n"
   ]
  },
  {
   "cell_type": "code",
   "execution_count": null,
   "metadata": {},
   "outputs": [],
   "source": []
  }
 ],
 "metadata": {
  "interpreter": {
   "hash": "03f4f75cf758c142f3018a8c6b540e25edf0c25d5aa55e07c4700c711aaf0f5d"
  },
  "kernelspec": {
   "display_name": "Python 3.11.3 ('base')",
   "language": "python",
   "name": "python3"
  },
  "language_info": {
   "codemirror_mode": {
    "name": "ipython",
    "version": 3
   },
   "file_extension": ".py",
   "mimetype": "text/x-python",
   "name": "python",
   "nbconvert_exporter": "python",
   "pygments_lexer": "ipython3",
   "version": "3.11.3"
  },
  "orig_nbformat": 4
 },
 "nbformat": 4,
 "nbformat_minor": 2
}
